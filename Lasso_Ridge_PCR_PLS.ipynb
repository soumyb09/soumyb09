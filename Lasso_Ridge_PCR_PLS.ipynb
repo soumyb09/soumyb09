{
  "nbformat": 4,
  "nbformat_minor": 0,
  "metadata": {
    "kernelspec": {
      "display_name": "Python 3",
      "language": "python",
      "name": "python3"
    },
    "language_info": {
      "codemirror_mode": {
        "name": "ipython",
        "version": 3
      },
      "file_extension": ".py",
      "mimetype": "text/x-python",
      "name": "python",
      "nbconvert_exporter": "python",
      "pygments_lexer": "ipython3",
      "version": "3.6.3"
    },
    "colab": {
      "name": "Lasso_Ridge_PCR_PLS.ipynb",
      "provenance": [],
      "include_colab_link": true
    }
  },
  "cells": [
    {
      "cell_type": "markdown",
      "metadata": {
        "id": "view-in-github",
        "colab_type": "text"
      },
      "source": [
        "<a href=\"https://colab.research.google.com/github/soumyb09/soumyb09/blob/master/Lasso_Ridge_PCR_PLS.ipynb\" target=\"_parent\"><img src=\"https://colab.research.google.com/assets/colab-badge.svg\" alt=\"Open In Colab\"/></a>"
      ]
    },
    {
      "cell_type": "markdown",
      "metadata": {
        "id": "sAP_10ulC-2S",
        "colab_type": "text"
      },
      "source": [
        "# Linear Model Selection and Regularization "
      ]
    },
    {
      "cell_type": "code",
      "metadata": {
        "id": "0LPgRS0JC-22",
        "colab_type": "code",
        "colab": {}
      },
      "source": [
        "import pandas as pd\n",
        "import numpy as np\n",
        "import matplotlib.pyplot as plt\n",
        "import seaborn as sns\n",
        "\n",
        "import glmnet as gln\n",
        "\n",
        "from sklearn.preprocessing import scale \n",
        "from sklearn import model_selection\n",
        "from sklearn.linear_model import LinearRegression, Ridge, RidgeCV, Lasso, LassoCV\n",
        "from sklearn.decomposition import PCA\n",
        "from sklearn.cross_decomposition import PLSRegression\n",
        "from sklearn.model_selection import KFold, cross_val_score\n",
        "from sklearn.metrics import mean_squared_error\n",
        "\n",
        "%matplotlib inline\n",
        "plt.style.use('seaborn-white')"
      ],
      "execution_count": 0,
      "outputs": []
    },
    {
      "cell_type": "code",
      "metadata": {
        "id": "R6aKcbc0C-3T",
        "colab_type": "code",
        "outputId": "57add0fe-ffa2-482d-9d54-593e8f636153",
        "colab": {}
      },
      "source": [
        "df = pd.read_csv('Hitters.csv', index_col=0).dropna()\n",
        "df.index.name = 'Player'\n",
        "df.info()"
      ],
      "execution_count": 0,
      "outputs": [
        {
          "output_type": "stream",
          "text": [
            "<class 'pandas.core.frame.DataFrame'>\n",
            "Index: 263 entries, #NAME? to #NAME?\n",
            "Data columns (total 20 columns):\n",
            "AtBat        263 non-null int64\n",
            "Hits         263 non-null int64\n",
            "HmRun        263 non-null int64\n",
            "Runs         263 non-null int64\n",
            "RBI          263 non-null int64\n",
            "Walks        263 non-null int64\n",
            "Years        263 non-null int64\n",
            "CAtBat       263 non-null int64\n",
            "CHits        263 non-null int64\n",
            "CHmRun       263 non-null int64\n",
            "CRuns        263 non-null int64\n",
            "CRBI         263 non-null int64\n",
            "CWalks       263 non-null int64\n",
            "League       263 non-null object\n",
            "Division     263 non-null object\n",
            "PutOuts      263 non-null int64\n",
            "Assists      263 non-null int64\n",
            "Errors       263 non-null int64\n",
            "Salary       263 non-null float64\n",
            "NewLeague    263 non-null object\n",
            "dtypes: float64(1), int64(16), object(3)\n",
            "memory usage: 43.1+ KB\n"
          ],
          "name": "stdout"
        }
      ]
    },
    {
      "cell_type": "code",
      "metadata": {
        "id": "kQSChwxyC-3m",
        "colab_type": "code",
        "outputId": "cb2f8ce4-3887-4073-8d1b-890d918f4cd4",
        "colab": {}
      },
      "source": [
        "df.head()"
      ],
      "execution_count": 0,
      "outputs": [
        {
          "output_type": "execute_result",
          "data": {
            "text/html": [
              "<div>\n",
              "<style>\n",
              "    .dataframe thead tr:only-child th {\n",
              "        text-align: right;\n",
              "    }\n",
              "\n",
              "    .dataframe thead th {\n",
              "        text-align: left;\n",
              "    }\n",
              "\n",
              "    .dataframe tbody tr th {\n",
              "        vertical-align: top;\n",
              "    }\n",
              "</style>\n",
              "<table border=\"1\" class=\"dataframe\">\n",
              "  <thead>\n",
              "    <tr style=\"text-align: right;\">\n",
              "      <th></th>\n",
              "      <th>AtBat</th>\n",
              "      <th>Hits</th>\n",
              "      <th>HmRun</th>\n",
              "      <th>Runs</th>\n",
              "      <th>RBI</th>\n",
              "      <th>Walks</th>\n",
              "      <th>Years</th>\n",
              "      <th>CAtBat</th>\n",
              "      <th>CHits</th>\n",
              "      <th>CHmRun</th>\n",
              "      <th>CRuns</th>\n",
              "      <th>CRBI</th>\n",
              "      <th>CWalks</th>\n",
              "      <th>League</th>\n",
              "      <th>Division</th>\n",
              "      <th>PutOuts</th>\n",
              "      <th>Assists</th>\n",
              "      <th>Errors</th>\n",
              "      <th>Salary</th>\n",
              "      <th>NewLeague</th>\n",
              "    </tr>\n",
              "    <tr>\n",
              "      <th>Player</th>\n",
              "      <th></th>\n",
              "      <th></th>\n",
              "      <th></th>\n",
              "      <th></th>\n",
              "      <th></th>\n",
              "      <th></th>\n",
              "      <th></th>\n",
              "      <th></th>\n",
              "      <th></th>\n",
              "      <th></th>\n",
              "      <th></th>\n",
              "      <th></th>\n",
              "      <th></th>\n",
              "      <th></th>\n",
              "      <th></th>\n",
              "      <th></th>\n",
              "      <th></th>\n",
              "      <th></th>\n",
              "      <th></th>\n",
              "      <th></th>\n",
              "    </tr>\n",
              "  </thead>\n",
              "  <tbody>\n",
              "    <tr>\n",
              "      <th>#NAME?</th>\n",
              "      <td>315</td>\n",
              "      <td>81</td>\n",
              "      <td>7</td>\n",
              "      <td>24</td>\n",
              "      <td>38</td>\n",
              "      <td>39</td>\n",
              "      <td>14</td>\n",
              "      <td>3449</td>\n",
              "      <td>835</td>\n",
              "      <td>69</td>\n",
              "      <td>321</td>\n",
              "      <td>414</td>\n",
              "      <td>375</td>\n",
              "      <td>N</td>\n",
              "      <td>W</td>\n",
              "      <td>632</td>\n",
              "      <td>43</td>\n",
              "      <td>10</td>\n",
              "      <td>475.0</td>\n",
              "      <td>N</td>\n",
              "    </tr>\n",
              "    <tr>\n",
              "      <th>#NAME?</th>\n",
              "      <td>479</td>\n",
              "      <td>130</td>\n",
              "      <td>18</td>\n",
              "      <td>66</td>\n",
              "      <td>72</td>\n",
              "      <td>76</td>\n",
              "      <td>3</td>\n",
              "      <td>1624</td>\n",
              "      <td>457</td>\n",
              "      <td>63</td>\n",
              "      <td>224</td>\n",
              "      <td>266</td>\n",
              "      <td>263</td>\n",
              "      <td>A</td>\n",
              "      <td>W</td>\n",
              "      <td>880</td>\n",
              "      <td>82</td>\n",
              "      <td>14</td>\n",
              "      <td>480.0</td>\n",
              "      <td>A</td>\n",
              "    </tr>\n",
              "    <tr>\n",
              "      <th>#NAME?</th>\n",
              "      <td>496</td>\n",
              "      <td>141</td>\n",
              "      <td>20</td>\n",
              "      <td>65</td>\n",
              "      <td>78</td>\n",
              "      <td>37</td>\n",
              "      <td>11</td>\n",
              "      <td>5628</td>\n",
              "      <td>1575</td>\n",
              "      <td>225</td>\n",
              "      <td>828</td>\n",
              "      <td>838</td>\n",
              "      <td>354</td>\n",
              "      <td>N</td>\n",
              "      <td>E</td>\n",
              "      <td>200</td>\n",
              "      <td>11</td>\n",
              "      <td>3</td>\n",
              "      <td>500.0</td>\n",
              "      <td>N</td>\n",
              "    </tr>\n",
              "    <tr>\n",
              "      <th>#NAME?</th>\n",
              "      <td>321</td>\n",
              "      <td>87</td>\n",
              "      <td>10</td>\n",
              "      <td>39</td>\n",
              "      <td>42</td>\n",
              "      <td>30</td>\n",
              "      <td>2</td>\n",
              "      <td>396</td>\n",
              "      <td>101</td>\n",
              "      <td>12</td>\n",
              "      <td>48</td>\n",
              "      <td>46</td>\n",
              "      <td>33</td>\n",
              "      <td>N</td>\n",
              "      <td>E</td>\n",
              "      <td>805</td>\n",
              "      <td>40</td>\n",
              "      <td>4</td>\n",
              "      <td>91.5</td>\n",
              "      <td>N</td>\n",
              "    </tr>\n",
              "    <tr>\n",
              "      <th>#NAME?</th>\n",
              "      <td>594</td>\n",
              "      <td>169</td>\n",
              "      <td>4</td>\n",
              "      <td>74</td>\n",
              "      <td>51</td>\n",
              "      <td>35</td>\n",
              "      <td>11</td>\n",
              "      <td>4408</td>\n",
              "      <td>1133</td>\n",
              "      <td>19</td>\n",
              "      <td>501</td>\n",
              "      <td>336</td>\n",
              "      <td>194</td>\n",
              "      <td>A</td>\n",
              "      <td>W</td>\n",
              "      <td>282</td>\n",
              "      <td>421</td>\n",
              "      <td>25</td>\n",
              "      <td>750.0</td>\n",
              "      <td>A</td>\n",
              "    </tr>\n",
              "  </tbody>\n",
              "</table>\n",
              "</div>"
            ],
            "text/plain": [
              "        AtBat  Hits  HmRun  Runs  RBI  Walks  Years  CAtBat  CHits  CHmRun  \\\n",
              "Player                                                                       \n",
              "#NAME?    315    81      7    24   38     39     14    3449    835      69   \n",
              "#NAME?    479   130     18    66   72     76      3    1624    457      63   \n",
              "#NAME?    496   141     20    65   78     37     11    5628   1575     225   \n",
              "#NAME?    321    87     10    39   42     30      2     396    101      12   \n",
              "#NAME?    594   169      4    74   51     35     11    4408   1133      19   \n",
              "\n",
              "        CRuns  CRBI  CWalks League Division  PutOuts  Assists  Errors  Salary  \\\n",
              "Player                                                                          \n",
              "#NAME?    321   414     375      N        W      632       43      10   475.0   \n",
              "#NAME?    224   266     263      A        W      880       82      14   480.0   \n",
              "#NAME?    828   838     354      N        E      200       11       3   500.0   \n",
              "#NAME?     48    46      33      N        E      805       40       4    91.5   \n",
              "#NAME?    501   336     194      A        W      282      421      25   750.0   \n",
              "\n",
              "       NewLeague  \n",
              "Player            \n",
              "#NAME?         N  \n",
              "#NAME?         A  \n",
              "#NAME?         N  \n",
              "#NAME?         N  \n",
              "#NAME?         A  "
            ]
          },
          "metadata": {
            "tags": []
          },
          "execution_count": 42
        }
      ]
    },
    {
      "cell_type": "code",
      "metadata": {
        "id": "AR-fU_HmC-33",
        "colab_type": "code",
        "outputId": "94f21d3b-0084-4265-bcbc-7623a5c480a6",
        "colab": {}
      },
      "source": [
        "dummies = pd.get_dummies(df[['League', 'Division', 'NewLeague']])\n",
        "dummies.info()\n",
        "print(dummies.head())"
      ],
      "execution_count": 0,
      "outputs": [
        {
          "output_type": "stream",
          "text": [
            "<class 'pandas.core.frame.DataFrame'>\n",
            "Index: 263 entries, #NAME? to #NAME?\n",
            "Data columns (total 6 columns):\n",
            "League_A       263 non-null uint8\n",
            "League_N       263 non-null uint8\n",
            "Division_E     263 non-null uint8\n",
            "Division_W     263 non-null uint8\n",
            "NewLeague_A    263 non-null uint8\n",
            "NewLeague_N    263 non-null uint8\n",
            "dtypes: uint8(6)\n",
            "memory usage: 3.6+ KB\n",
            "        League_A  League_N  Division_E  Division_W  NewLeague_A  NewLeague_N\n",
            "Player                                                                      \n",
            "#NAME?         0         1           0           1            0            1\n",
            "#NAME?         1         0           0           1            1            0\n",
            "#NAME?         0         1           1           0            0            1\n",
            "#NAME?         0         1           1           0            0            1\n",
            "#NAME?         1         0           0           1            1            0\n"
          ],
          "name": "stdout"
        }
      ]
    },
    {
      "cell_type": "code",
      "metadata": {
        "id": "IhBAElF6C-4J",
        "colab_type": "code",
        "outputId": "a8b8a08f-4aff-476d-f8f0-1bfa6ea407bd",
        "colab": {}
      },
      "source": [
        "y = df.Salary\n",
        "\n",
        "# Drop the column with the independent variable (Salary), and columns for which we created dummy variables\n",
        "X_ = df.drop(['Salary', 'League', 'Division', 'NewLeague'], axis=1).astype('float64')\n",
        "# Define the feature set X.\n",
        "X = pd.concat([X_, dummies[['League_N', 'Division_W', 'NewLeague_N']]], axis=1)\n",
        "X.info()"
      ],
      "execution_count": 0,
      "outputs": [
        {
          "output_type": "stream",
          "text": [
            "<class 'pandas.core.frame.DataFrame'>\n",
            "Index: 263 entries, #NAME? to #NAME?\n",
            "Data columns (total 19 columns):\n",
            "AtBat          263 non-null float64\n",
            "Hits           263 non-null float64\n",
            "HmRun          263 non-null float64\n",
            "Runs           263 non-null float64\n",
            "RBI            263 non-null float64\n",
            "Walks          263 non-null float64\n",
            "Years          263 non-null float64\n",
            "CAtBat         263 non-null float64\n",
            "CHits          263 non-null float64\n",
            "CHmRun         263 non-null float64\n",
            "CRuns          263 non-null float64\n",
            "CRBI           263 non-null float64\n",
            "CWalks         263 non-null float64\n",
            "PutOuts        263 non-null float64\n",
            "Assists        263 non-null float64\n",
            "Errors         263 non-null float64\n",
            "League_N       263 non-null uint8\n",
            "Division_W     263 non-null uint8\n",
            "NewLeague_N    263 non-null uint8\n",
            "dtypes: float64(16), uint8(3)\n",
            "memory usage: 35.7+ KB\n"
          ],
          "name": "stdout"
        }
      ]
    },
    {
      "cell_type": "code",
      "metadata": {
        "id": "iqMaxHEXC-4b",
        "colab_type": "code",
        "outputId": "b76869a2-2adf-4e92-a37b-3ab4fb2ecdd5",
        "colab": {}
      },
      "source": [
        "X.head(5)"
      ],
      "execution_count": 0,
      "outputs": [
        {
          "output_type": "execute_result",
          "data": {
            "text/html": [
              "<div>\n",
              "<style>\n",
              "    .dataframe thead tr:only-child th {\n",
              "        text-align: right;\n",
              "    }\n",
              "\n",
              "    .dataframe thead th {\n",
              "        text-align: left;\n",
              "    }\n",
              "\n",
              "    .dataframe tbody tr th {\n",
              "        vertical-align: top;\n",
              "    }\n",
              "</style>\n",
              "<table border=\"1\" class=\"dataframe\">\n",
              "  <thead>\n",
              "    <tr style=\"text-align: right;\">\n",
              "      <th></th>\n",
              "      <th>AtBat</th>\n",
              "      <th>Hits</th>\n",
              "      <th>HmRun</th>\n",
              "      <th>Runs</th>\n",
              "      <th>RBI</th>\n",
              "      <th>Walks</th>\n",
              "      <th>Years</th>\n",
              "      <th>CAtBat</th>\n",
              "      <th>CHits</th>\n",
              "      <th>CHmRun</th>\n",
              "      <th>CRuns</th>\n",
              "      <th>CRBI</th>\n",
              "      <th>CWalks</th>\n",
              "      <th>PutOuts</th>\n",
              "      <th>Assists</th>\n",
              "      <th>Errors</th>\n",
              "      <th>League_N</th>\n",
              "      <th>Division_W</th>\n",
              "      <th>NewLeague_N</th>\n",
              "    </tr>\n",
              "    <tr>\n",
              "      <th>Player</th>\n",
              "      <th></th>\n",
              "      <th></th>\n",
              "      <th></th>\n",
              "      <th></th>\n",
              "      <th></th>\n",
              "      <th></th>\n",
              "      <th></th>\n",
              "      <th></th>\n",
              "      <th></th>\n",
              "      <th></th>\n",
              "      <th></th>\n",
              "      <th></th>\n",
              "      <th></th>\n",
              "      <th></th>\n",
              "      <th></th>\n",
              "      <th></th>\n",
              "      <th></th>\n",
              "      <th></th>\n",
              "      <th></th>\n",
              "    </tr>\n",
              "  </thead>\n",
              "  <tbody>\n",
              "    <tr>\n",
              "      <th>#NAME?</th>\n",
              "      <td>315.0</td>\n",
              "      <td>81.0</td>\n",
              "      <td>7.0</td>\n",
              "      <td>24.0</td>\n",
              "      <td>38.0</td>\n",
              "      <td>39.0</td>\n",
              "      <td>14.0</td>\n",
              "      <td>3449.0</td>\n",
              "      <td>835.0</td>\n",
              "      <td>69.0</td>\n",
              "      <td>321.0</td>\n",
              "      <td>414.0</td>\n",
              "      <td>375.0</td>\n",
              "      <td>632.0</td>\n",
              "      <td>43.0</td>\n",
              "      <td>10.0</td>\n",
              "      <td>1</td>\n",
              "      <td>1</td>\n",
              "      <td>1</td>\n",
              "    </tr>\n",
              "    <tr>\n",
              "      <th>#NAME?</th>\n",
              "      <td>479.0</td>\n",
              "      <td>130.0</td>\n",
              "      <td>18.0</td>\n",
              "      <td>66.0</td>\n",
              "      <td>72.0</td>\n",
              "      <td>76.0</td>\n",
              "      <td>3.0</td>\n",
              "      <td>1624.0</td>\n",
              "      <td>457.0</td>\n",
              "      <td>63.0</td>\n",
              "      <td>224.0</td>\n",
              "      <td>266.0</td>\n",
              "      <td>263.0</td>\n",
              "      <td>880.0</td>\n",
              "      <td>82.0</td>\n",
              "      <td>14.0</td>\n",
              "      <td>0</td>\n",
              "      <td>1</td>\n",
              "      <td>0</td>\n",
              "    </tr>\n",
              "    <tr>\n",
              "      <th>#NAME?</th>\n",
              "      <td>496.0</td>\n",
              "      <td>141.0</td>\n",
              "      <td>20.0</td>\n",
              "      <td>65.0</td>\n",
              "      <td>78.0</td>\n",
              "      <td>37.0</td>\n",
              "      <td>11.0</td>\n",
              "      <td>5628.0</td>\n",
              "      <td>1575.0</td>\n",
              "      <td>225.0</td>\n",
              "      <td>828.0</td>\n",
              "      <td>838.0</td>\n",
              "      <td>354.0</td>\n",
              "      <td>200.0</td>\n",
              "      <td>11.0</td>\n",
              "      <td>3.0</td>\n",
              "      <td>1</td>\n",
              "      <td>0</td>\n",
              "      <td>1</td>\n",
              "    </tr>\n",
              "    <tr>\n",
              "      <th>#NAME?</th>\n",
              "      <td>321.0</td>\n",
              "      <td>87.0</td>\n",
              "      <td>10.0</td>\n",
              "      <td>39.0</td>\n",
              "      <td>42.0</td>\n",
              "      <td>30.0</td>\n",
              "      <td>2.0</td>\n",
              "      <td>396.0</td>\n",
              "      <td>101.0</td>\n",
              "      <td>12.0</td>\n",
              "      <td>48.0</td>\n",
              "      <td>46.0</td>\n",
              "      <td>33.0</td>\n",
              "      <td>805.0</td>\n",
              "      <td>40.0</td>\n",
              "      <td>4.0</td>\n",
              "      <td>1</td>\n",
              "      <td>0</td>\n",
              "      <td>1</td>\n",
              "    </tr>\n",
              "    <tr>\n",
              "      <th>#NAME?</th>\n",
              "      <td>594.0</td>\n",
              "      <td>169.0</td>\n",
              "      <td>4.0</td>\n",
              "      <td>74.0</td>\n",
              "      <td>51.0</td>\n",
              "      <td>35.0</td>\n",
              "      <td>11.0</td>\n",
              "      <td>4408.0</td>\n",
              "      <td>1133.0</td>\n",
              "      <td>19.0</td>\n",
              "      <td>501.0</td>\n",
              "      <td>336.0</td>\n",
              "      <td>194.0</td>\n",
              "      <td>282.0</td>\n",
              "      <td>421.0</td>\n",
              "      <td>25.0</td>\n",
              "      <td>0</td>\n",
              "      <td>1</td>\n",
              "      <td>0</td>\n",
              "    </tr>\n",
              "  </tbody>\n",
              "</table>\n",
              "</div>"
            ],
            "text/plain": [
              "        AtBat   Hits  HmRun  Runs   RBI  Walks  Years  CAtBat   CHits  CHmRun  \\\n",
              "Player                                                                          \n",
              "#NAME?  315.0   81.0    7.0  24.0  38.0   39.0   14.0  3449.0   835.0    69.0   \n",
              "#NAME?  479.0  130.0   18.0  66.0  72.0   76.0    3.0  1624.0   457.0    63.0   \n",
              "#NAME?  496.0  141.0   20.0  65.0  78.0   37.0   11.0  5628.0  1575.0   225.0   \n",
              "#NAME?  321.0   87.0   10.0  39.0  42.0   30.0    2.0   396.0   101.0    12.0   \n",
              "#NAME?  594.0  169.0    4.0  74.0  51.0   35.0   11.0  4408.0  1133.0    19.0   \n",
              "\n",
              "        CRuns   CRBI  CWalks  PutOuts  Assists  Errors  League_N  Division_W  \\\n",
              "Player                                                                         \n",
              "#NAME?  321.0  414.0   375.0    632.0     43.0    10.0         1           1   \n",
              "#NAME?  224.0  266.0   263.0    880.0     82.0    14.0         0           1   \n",
              "#NAME?  828.0  838.0   354.0    200.0     11.0     3.0         1           0   \n",
              "#NAME?   48.0   46.0    33.0    805.0     40.0     4.0         1           0   \n",
              "#NAME?  501.0  336.0   194.0    282.0    421.0    25.0         0           1   \n",
              "\n",
              "        NewLeague_N  \n",
              "Player               \n",
              "#NAME?            1  \n",
              "#NAME?            0  \n",
              "#NAME?            1  \n",
              "#NAME?            1  \n",
              "#NAME?            0  "
            ]
          },
          "metadata": {
            "tags": []
          },
          "execution_count": 45
        }
      ]
    },
    {
      "cell_type": "code",
      "metadata": {
        "id": "jLaGuz-bC-4o",
        "colab_type": "code",
        "colab": {}
      },
      "source": [
        "X_train = pd.read_csv('Hitters_X_train.csv', index_col=0)\n",
        "y_train = pd.read_csv('Hitters_y_train.csv', index_col=0)\n",
        "X_test = pd.read_csv('Hitters_X_test.csv', index_col=0)\n",
        "y_test = pd.read_csv('Hitters_y_test.csv', index_col=0)"
      ],
      "execution_count": 0,
      "outputs": []
    },
    {
      "cell_type": "markdown",
      "metadata": {
        "id": "geFDHgpjC-41",
        "colab_type": "text"
      },
      "source": [
        "## Ridge Regression"
      ]
    },
    {
      "cell_type": "code",
      "metadata": {
        "id": "42c_CnYfC-47",
        "colab_type": "code",
        "outputId": "9b483552-613f-4d19-e4e7-7813a986c6d1",
        "colab": {}
      },
      "source": [
        "alphas = 10**np.linspace(10,-2,100)*0.5\n",
        "\n",
        "ridge = Ridge()\n",
        "coefs = []\n",
        "\n",
        "for a in alphas:\n",
        "    ridge.set_params(alpha=a)\n",
        "    ridge.fit(scale(X), y)\n",
        "    coefs.append(ridge.coef_)\n",
        "\n",
        "ax = plt.gca()\n",
        "ax.plot(alphas, coefs)\n",
        "ax.set_xscale('log')\n",
        "ax.set_xlim(ax.get_xlim()[::-1])  # reverse axis\n",
        "plt.axis('tight')\n",
        "plt.xlabel('alpha')\n",
        "plt.ylabel('weights')\n",
        "plt.title('Ridge coefficients as a function of the regularization');"
      ],
      "execution_count": 0,
      "outputs": [
        {
          "output_type": "display_data",
          "data": {
            "image/png": "[encoded data removed]",
            "text/plain": [
              "<matplotlib.figure.Figure at 0x4652eb8>"
            ]
          },
          "metadata": {
            "tags": []
          }
        }
      ]
    },
    {
      "cell_type": "markdown",
      "metadata": {
        "id": "3MGOoTeyC-5J",
        "colab_type": "raw"
      },
      "source": [
        "The above plot shows that the Ridge coefficients get larger when we decrease alpha."
      ]
    },
    {
      "cell_type": "markdown",
      "metadata": {
        "id": "7-upxLE7C-5O",
        "colab_type": "text"
      },
      "source": [
        "### Alpha = 4"
      ]
    },
    {
      "cell_type": "code",
      "metadata": {
        "id": "BJPdi_uQC-5V",
        "colab_type": "code",
        "colab": {}
      },
      "source": [
        "from sklearn.preprocessing import StandardScaler\n",
        "\n",
        "scaler = StandardScaler().fit(X_train)"
      ],
      "execution_count": 0,
      "outputs": []
    },
    {
      "cell_type": "code",
      "metadata": {
        "id": "eLyde6T_C-54",
        "colab_type": "code",
        "outputId": "a408546e-ec3f-421b-90a4-6c487fc9fc46",
        "colab": {}
      },
      "source": [
        "ridge2 = Ridge(alpha=len(X_)*11498/2)\n",
        "ridge2.fit(scaler.transform(X_train), y_train)\n",
        "pred = ridge2.predict(scaler.transform(X_test))\n",
        "mean_squared_error(y_test, pred)"
      ],
      "execution_count": 0,
      "outputs": [
        {
          "output_type": "execute_result",
          "data": {
            "text/plain": [
              "193147.46143016344"
            ]
          },
          "metadata": {
            "tags": []
          },
          "execution_count": 51
        }
      ]
    },
    {
      "cell_type": "code",
      "metadata": {
        "id": "7y0WYkTuC-6G",
        "colab_type": "code",
        "outputId": "7dd7ea72-0505-4805-e27d-968a91bd7cda",
        "colab": {}
      },
      "source": [
        "pd.Series(ridge2.coef_.flatten(), index=X.columns)"
      ],
      "execution_count": 0,
      "outputs": [
        {
          "output_type": "execute_result",
          "data": {
            "text/plain": [
              "AtBat          0.015146\n",
              "Hits           0.016050\n",
              "HmRun          0.013561\n",
              "Runs           0.015681\n",
              "RBI            0.016782\n",
              "Walks          0.019662\n",
              "Years          0.010390\n",
              "CAtBat         0.016570\n",
              "CHits          0.017627\n",
              "CHmRun         0.015072\n",
              "CRuns          0.018771\n",
              "CRBI           0.016697\n",
              "CWalks         0.016821\n",
              "PutOuts        0.003228\n",
              "Assists       -0.007600\n",
              "Errors         0.013672\n",
              "League_N       0.003519\n",
              "Division_W     0.003339\n",
              "NewLeague_N    0.003499\n",
              "dtype: float64"
            ]
          },
          "metadata": {
            "tags": []
          },
          "execution_count": 52
        }
      ]
    },
    {
      "cell_type": "markdown",
      "metadata": {
        "id": "F6S9t6NtC-6k",
        "colab_type": "text"
      },
      "source": [
        "### Alpha =  10^10"
      ]
    },
    {
      "cell_type": "markdown",
      "metadata": {
        "id": "1a3ALx6GC-6q",
        "colab_type": "raw"
      },
      "source": [
        "This big penalty shrinks the coefficients to a very large degree and makes the model more biased, resulting in a higher MSE."
      ]
    },
    {
      "cell_type": "code",
      "metadata": {
        "id": "WWHip0VjC-6_",
        "colab_type": "code",
        "outputId": "147cce9c-d0c6-48f2-90ae-15e1580a9709",
        "colab": {}
      },
      "source": [
        "ridge2.set_params(alpha=10**10)\n",
        "ridge2.fit(scale(X_train), y_train)\n",
        "pred = ridge2.predict(scale(X_test))\n",
        "mean_squared_error(y_test, pred)"
      ],
      "execution_count": 0,
      "outputs": [
        {
          "output_type": "execute_result",
          "data": {
            "text/plain": [
              "193253.09741651407"
            ]
          },
          "metadata": {
            "tags": []
          },
          "execution_count": 53
        }
      ]
    },
    {
      "cell_type": "markdown",
      "metadata": {
        "id": "bt2MFBsUC-7T",
        "colab_type": "text"
      },
      "source": [
        "### Compute the regularization path using RidgeCV"
      ]
    },
    {
      "cell_type": "code",
      "metadata": {
        "id": "3sQ2QF2qC-7Y",
        "colab_type": "code",
        "outputId": "9b8f929c-60e0-4ad4-e5c1-dee3fd5da515",
        "colab": {}
      },
      "source": [
        "ridgecv = RidgeCV(alphas=alphas, scoring='neg_mean_squared_error')\n",
        "ridgecv.fit(scale(X_train), y_train)"
      ],
      "execution_count": 0,
      "outputs": [
        {
          "output_type": "execute_result",
          "data": {
            "text/plain": [
              "RidgeCV(alphas=array([  5.00000e+09,   3.78232e+09, ...,   6.60971e-03,   5.00000e-03]),\n",
              "    cv=None, fit_intercept=True, gcv_mode=None, normalize=False,\n",
              "    scoring='neg_mean_squared_error', store_cv_values=False)"
            ]
          },
          "metadata": {
            "tags": []
          },
          "execution_count": 54
        }
      ]
    },
    {
      "cell_type": "code",
      "metadata": {
        "id": "f8Zq9W71C-7h",
        "colab_type": "code",
        "outputId": "904c0963-fc43-4972-f6d9-b1065fae171d",
        "colab": {}
      },
      "source": [
        "ridgecv.alpha_"
      ],
      "execution_count": 0,
      "outputs": [
        {
          "output_type": "execute_result",
          "data": {
            "text/plain": [
              "115.50648500415789"
            ]
          },
          "metadata": {
            "tags": []
          },
          "execution_count": 55
        }
      ]
    },
    {
      "cell_type": "code",
      "metadata": {
        "id": "Y3Q5FheeC-7r",
        "colab_type": "code",
        "outputId": "f14c2f76-fb19-411c-9075-8dae59719318",
        "colab": {}
      },
      "source": [
        "ridge2.set_params(alpha=ridgecv.alpha_)\n",
        "ridge2.fit(scale(X_train), y_train)\n",
        "mean_squared_error(y_test, ridge2.predict(scale(X_test)))"
      ],
      "execution_count": 0,
      "outputs": [
        {
          "output_type": "execute_result",
          "data": {
            "text/plain": [
              "97384.929591725886"
            ]
          },
          "metadata": {
            "tags": []
          },
          "execution_count": 56
        }
      ]
    },
    {
      "cell_type": "code",
      "metadata": {
        "id": "ZgSVVMZTC-7z",
        "colab_type": "code",
        "outputId": "40f3b909-21e1-4e20-8340-ed7923cb9f7e",
        "colab": {}
      },
      "source": [
        "pd.Series(ridge2.coef_.flatten(), index=X.columns)"
      ],
      "execution_count": 0,
      "outputs": [
        {
          "output_type": "execute_result",
          "data": {
            "text/plain": [
              "AtBat           7.576771\n",
              "Hits           22.596030\n",
              "HmRun          18.971990\n",
              "Runs           20.193945\n",
              "RBI            21.063875\n",
              "Walks          55.713281\n",
              "Years          -4.687149\n",
              "CAtBat         20.496892\n",
              "CHits          29.230247\n",
              "CHmRun         14.293124\n",
              "CRuns          35.881788\n",
              "CRBI           20.212172\n",
              "CWalks         24.419768\n",
              "PutOuts        16.128910\n",
              "Assists       -44.102264\n",
              "Errors         54.624503\n",
              "League_N        5.771464\n",
              "Division_W     -0.293713\n",
              "NewLeague_N    11.137518\n",
              "dtype: float64"
            ]
          },
          "metadata": {
            "tags": []
          },
          "execution_count": 57
        }
      ]
    },
    {
      "cell_type": "code",
      "metadata": {
        "id": "G5eLZu8LC-7-",
        "colab_type": "code",
        "outputId": "1a2e941b-287e-4077-c64f-0cb8bf00e8ac",
        "colab": {}
      },
      "source": [
        "grid = 10**np.linspace(10,-2,100)\n",
        "\n",
        "ridge3 = gln.ElasticNet(alpha=0, lambda_path=grid)\n",
        "ridge3.fit(X, y)"
      ],
      "execution_count": 0,
      "outputs": [
        {
          "output_type": "execute_result",
          "data": {
            "text/plain": [
              "ElasticNet(alpha=0, cut_point=1.0, fit_intercept=True,\n",
              "      lambda_path=array([  1.00000e+10,   7.56463e+09, ...,   1.32194e-02,   1.00000e-02]),\n",
              "      max_iter=100000, min_lambda_ratio=0.0001, n_jobs=1, n_lambda=100,\n",
              "      n_splits=3, random_state=None, scoring=None, standardize=True,\n",
              "      tol=1e-07, verbose=False)"
            ]
          },
          "metadata": {
            "tags": []
          },
          "execution_count": 58
        }
      ]
    },
    {
      "cell_type": "markdown",
      "metadata": {
        "id": "tDh3PQUwC-8N",
        "colab_type": "text"
      },
      "source": [
        "### Lambda 11498"
      ]
    },
    {
      "cell_type": "code",
      "metadata": {
        "id": "ItjyAq4CC-8Q",
        "colab_type": "code",
        "outputId": "fbb66332-3761-4e63-be31-026020299029",
        "colab": {}
      },
      "source": [
        "ridge3.lambda_path_[49]"
      ],
      "execution_count": 0,
      "outputs": [
        {
          "output_type": "execute_result",
          "data": {
            "text/plain": [
              "11497.569953977356"
            ]
          },
          "metadata": {
            "tags": []
          },
          "execution_count": 59
        }
      ]
    },
    {
      "cell_type": "code",
      "metadata": {
        "id": "TVRA2ivXC-8b",
        "colab_type": "code",
        "outputId": "3b9a9ebd-ba0c-4f54-ecc6-c0915add5173",
        "colab": {}
      },
      "source": [
        "print('Intercept: {:.3f}'.format(ridge3.intercept_path_[49]))"
      ],
      "execution_count": 0,
      "outputs": [
        {
          "output_type": "stream",
          "text": [
            "Intercept: 407.356\n"
          ],
          "name": "stdout"
        }
      ]
    },
    {
      "cell_type": "code",
      "metadata": {
        "id": "1IGQUoWHC-8n",
        "colab_type": "code",
        "outputId": "a470b2f7-f387-493a-ffa5-3d1fb5675e35",
        "colab": {}
      },
      "source": [
        "pd.Series(np.round(ridge3.coef_path_[:,49], decimals=3), index=X.columns)"
      ],
      "execution_count": 0,
      "outputs": [
        {
          "output_type": "execute_result",
          "data": {
            "text/plain": [
              "AtBat          0.037\n",
              "Hits           0.138\n",
              "HmRun          0.525\n",
              "Runs           0.231\n",
              "RBI            0.240\n",
              "Walks          0.290\n",
              "Years          1.108\n",
              "CAtBat         0.003\n",
              "CHits          0.012\n",
              "CHmRun         0.088\n",
              "CRuns          0.023\n",
              "CRBI           0.024\n",
              "CWalks         0.025\n",
              "PutOuts        0.016\n",
              "Assists        0.003\n",
              "Errors        -0.021\n",
              "League_N       0.085\n",
              "Division_W    -6.215\n",
              "NewLeague_N    0.301\n",
              "dtype: float64"
            ]
          },
          "metadata": {
            "tags": []
          },
          "execution_count": 61
        }
      ]
    },
    {
      "cell_type": "code",
      "metadata": {
        "id": "8oXNR1L4C-8w",
        "colab_type": "code",
        "outputId": "8a41b6e6-ff27-4826-c97e-eb7daf44a418",
        "colab": {}
      },
      "source": [
        "np.sqrt(np.sum(ridge3.coef_path_[:,49]**2))"
      ],
      "execution_count": 0,
      "outputs": [
        {
          "output_type": "execute_result",
          "data": {
            "text/plain": [
              "6.3606122865384505"
            ]
          },
          "metadata": {
            "tags": []
          },
          "execution_count": 62
        }
      ]
    },
    {
      "cell_type": "markdown",
      "metadata": {
        "id": "ZL3w_BNpC-8-",
        "colab_type": "text"
      },
      "source": [
        "### Lambda 705"
      ]
    },
    {
      "cell_type": "code",
      "metadata": {
        "id": "aWZ-u9oxC-9B",
        "colab_type": "code",
        "outputId": "a8b4a84f-2b8d-4ef7-d331-fecd4ec52676",
        "colab": {}
      },
      "source": [
        "ridge3.lambda_path_[59]"
      ],
      "execution_count": 0,
      "outputs": [
        {
          "output_type": "execute_result",
          "data": {
            "text/plain": [
              "705.48023107186452"
            ]
          },
          "metadata": {
            "tags": []
          },
          "execution_count": 63
        }
      ]
    },
    {
      "cell_type": "code",
      "metadata": {
        "id": "UhKMt3U7C-9M",
        "colab_type": "code",
        "outputId": "c10846a0-1afb-439a-e367-2201d0fa53f6",
        "colab": {}
      },
      "source": [
        "print('Intercept: {:.3f}'.format(ridge3.intercept_path_[59]))"
      ],
      "execution_count": 0,
      "outputs": [
        {
          "output_type": "stream",
          "text": [
            "Intercept: 54.325\n"
          ],
          "name": "stdout"
        }
      ]
    },
    {
      "cell_type": "code",
      "metadata": {
        "id": "wk9qJfiRC-9U",
        "colab_type": "code",
        "outputId": "69e34f20-c8b4-4b10-fca8-73c4b1b17247",
        "colab": {}
      },
      "source": [
        "pd.Series(np.round(ridge3.coef_path_[:,59], decimals=3), index=X.columns)"
      ],
      "execution_count": 0,
      "outputs": [
        {
          "output_type": "execute_result",
          "data": {
            "text/plain": [
              "AtBat           0.112\n",
              "Hits            0.656\n",
              "HmRun           1.180\n",
              "Runs            0.938\n",
              "RBI             0.847\n",
              "Walks           1.320\n",
              "Years           2.596\n",
              "CAtBat          0.011\n",
              "CHits           0.047\n",
              "CHmRun          0.338\n",
              "CRuns           0.094\n",
              "CRBI            0.098\n",
              "CWalks          0.072\n",
              "PutOuts         0.119\n",
              "Assists         0.016\n",
              "Errors         -0.704\n",
              "League_N       13.684\n",
              "Division_W    -54.659\n",
              "NewLeague_N     8.612\n",
              "dtype: float64"
            ]
          },
          "metadata": {
            "tags": []
          },
          "execution_count": 65
        }
      ]
    },
    {
      "cell_type": "code",
      "metadata": {
        "id": "9IpOUdzcC-9d",
        "colab_type": "code",
        "outputId": "0a634cfe-e8ec-4c20-cec1-8563ad1c7436",
        "colab": {}
      },
      "source": [
        "np.sqrt(np.sum(ridge3.coef_path_[:,59]**2))"
      ],
      "execution_count": 0,
      "outputs": [
        {
          "output_type": "execute_result",
          "data": {
            "text/plain": [
              "57.11003436702412"
            ]
          },
          "metadata": {
            "tags": []
          },
          "execution_count": 66
        }
      ]
    },
    {
      "cell_type": "markdown",
      "metadata": {
        "id": "6xlIu28YC-9m",
        "colab_type": "text"
      },
      "source": [
        "### Fit Model Using Just the Training Set"
      ]
    },
    {
      "cell_type": "code",
      "metadata": {
        "id": "B6kQ_ivkC-9q",
        "colab_type": "code",
        "outputId": "f8031d33-2371-4563-ba4e-db084baa2f21",
        "colab": {}
      },
      "source": [
        "ridge4 = gln.ElasticNet(alpha=0, lambda_path=grid, scoring='mean_squared_error', tol=1e-12)\n",
        "ridge4.fit(X_train, y_train.values.ravel())"
      ],
      "execution_count": 0,
      "outputs": [
        {
          "output_type": "execute_result",
          "data": {
            "text/plain": [
              "ElasticNet(alpha=0, cut_point=1.0, fit_intercept=True,\n",
              "      lambda_path=array([  1.00000e+10,   7.56463e+09, ...,   1.32194e-02,   1.00000e-02]),\n",
              "      max_iter=100000, min_lambda_ratio=0.0001, n_jobs=1, n_lambda=100,\n",
              "      n_splits=3, random_state=None, scoring='mean_squared_error',\n",
              "      standardize=True, tol=1e-12, verbose=False)"
            ]
          },
          "metadata": {
            "tags": []
          },
          "execution_count": 67
        }
      ]
    },
    {
      "cell_type": "code",
      "metadata": {
        "id": "aAdsHykWC-9z",
        "colab_type": "code",
        "outputId": "d4acede4-2733-4089-efc3-3f49f97f661c",
        "colab": {}
      },
      "source": [
        "# prediction using lambda = 4\n",
        "pred = ridge4.predict(X_test, lamb=4)\n",
        "mean_squared_error(y_test.values.ravel(), pred)"
      ],
      "execution_count": 0,
      "outputs": [
        {
          "output_type": "execute_result",
          "data": {
            "text/plain": [
              "101036.83230892902"
            ]
          },
          "metadata": {
            "tags": []
          },
          "execution_count": 68
        }
      ]
    },
    {
      "cell_type": "markdown",
      "metadata": {
        "id": "p4lzX7vTC-92",
        "colab_type": "text"
      },
      "source": [
        "### Lambda Chosen by Cross Validation"
      ]
    },
    {
      "cell_type": "code",
      "metadata": {
        "id": "QPzpGIbpC-94",
        "colab_type": "code",
        "outputId": "3c99d8a3-e04b-4543-ca89-97f9bc102476",
        "colab": {}
      },
      "source": [
        "ridge5 = gln.ElasticNet(alpha=0, scoring='mean_squared_error')\n",
        "ridge5.fit(X_train, y_train.values.ravel())"
      ],
      "execution_count": 0,
      "outputs": [
        {
          "output_type": "execute_result",
          "data": {
            "text/plain": [
              "ElasticNet(alpha=0, cut_point=1.0, fit_intercept=True, lambda_path=None,\n",
              "      max_iter=100000, min_lambda_ratio=0.0001, n_jobs=1, n_lambda=100,\n",
              "      n_splits=3, random_state=None, scoring='mean_squared_error',\n",
              "      standardize=True, tol=1e-07, verbose=False)"
            ]
          },
          "metadata": {
            "tags": []
          },
          "execution_count": 69
        }
      ]
    },
    {
      "cell_type": "code",
      "metadata": {
        "id": "Av4a6cfxC-9-",
        "colab_type": "code",
        "colab": {}
      },
      "source": [
        ""
      ],
      "execution_count": 0,
      "outputs": []
    },
    {
      "cell_type": "code",
      "metadata": {
        "id": "gn033KnxC--C",
        "colab_type": "code",
        "outputId": "6b06c57e-2228-4d66-d614-1095c9c0172e",
        "colab": {}
      },
      "source": [
        "# Lambda with best CV performance\n",
        "ridge5.lambda_max_"
      ],
      "execution_count": 0,
      "outputs": [
        {
          "output_type": "execute_result",
          "data": {
            "text/plain": [
              "255.04348848905948"
            ]
          },
          "metadata": {
            "tags": []
          },
          "execution_count": 70
        }
      ]
    },
    {
      "cell_type": "code",
      "metadata": {
        "id": "DWDXMpMKC--G",
        "colab_type": "code",
        "outputId": "d6ebb566-b83e-404f-b7ad-aed3f0e4d257",
        "colab": {}
      },
      "source": [
        "# Lambda larger than lambda_max_, but with a CV score that is within 1 standard deviation away from lambda_max_ \n",
        "ridge5.lambda_best_"
      ],
      "execution_count": 0,
      "outputs": [
        {
          "output_type": "execute_result",
          "data": {
            "text/plain": [
              "array([ 1974.70910641])"
            ]
          },
          "metadata": {
            "tags": []
          },
          "execution_count": 71
        }
      ]
    },
    {
      "cell_type": "code",
      "metadata": {
        "id": "tSOaCEtlC--M",
        "colab_type": "code",
        "outputId": "8db6cb1d-0883-4668-e0e8-cfd5a3612fcf",
        "colab": {}
      },
      "source": [
        "plt.figure(figsize=(15,6))\n",
        "plt.errorbar(np.log(ridge5.lambda_path_), -ridge5.cv_mean_score_, color='r', linestyle='None', marker='o',\n",
        "             markersize=5, yerr=ridge5.cv_standard_error_, ecolor='lightgrey', capsize=4)\n",
        "\n",
        "for ref, txt in zip([ridge5.lambda_best_, ridge5.lambda_max_], ['Lambda best', 'Lambda max']):\n",
        "    plt.axvline(x=np.log(ref), linestyle='dashed', color='lightgrey')\n",
        "    plt.text(np.log(ref), .95*plt.gca().get_ylim()[1], txt, ha='center')\n",
        "\n",
        "plt.xlabel('log(Lambda)')\n",
        "plt.ylabel('Mean-Squared Error');"
      ],
      "execution_count": 0,
      "outputs": [
        {
          "output_type": "display_data",
          "data": {
            "image/png": "[encoded data removed]",
            "text/plain": [
              "<matplotlib.figure.Figure at 0xcafef98>"
            ]
          },
          "metadata": {
            "tags": []
          }
        }
      ]
    },
    {
      "cell_type": "code",
      "metadata": {
        "id": "F5LOo154C--S",
        "colab_type": "code",
        "outputId": "d09f7375-0737-4f25-c172-213904232126",
        "colab": {}
      },
      "source": [
        "# MSE for lambda with best CV performance\n",
        "pred = ridge5.predict(X_test, lamb=ridge5.lambda_max_)\n",
        "mean_squared_error(y_test, pred)"
      ],
      "execution_count": 0,
      "outputs": [
        {
          "output_type": "execute_result",
          "data": {
            "text/plain": [
              "96006.845148505759"
            ]
          },
          "metadata": {
            "tags": []
          },
          "execution_count": 73
        }
      ]
    },
    {
      "cell_type": "markdown",
      "metadata": {
        "id": "Jme_Ro2VC--X",
        "colab_type": "text"
      },
      "source": [
        "### Fit Model to the Full Data Set"
      ]
    },
    {
      "cell_type": "code",
      "metadata": {
        "id": "4aKz2S1uC--Y",
        "colab_type": "code",
        "outputId": "a5b0aa42-49bf-4774-cd03-6e92419cc293",
        "colab": {}
      },
      "source": [
        "ridge6= gln.ElasticNet(alpha=0, scoring='mean_squared_error', n_splits=10)\n",
        "ridge6.fit(X, y)"
      ],
      "execution_count": 0,
      "outputs": [
        {
          "output_type": "execute_result",
          "data": {
            "text/plain": [
              "ElasticNet(alpha=0, cut_point=1.0, fit_intercept=True, lambda_path=None,\n",
              "      max_iter=100000, min_lambda_ratio=0.0001, n_jobs=1, n_lambda=100,\n",
              "      n_splits=10, random_state=None, scoring='mean_squared_error',\n",
              "      standardize=True, tol=1e-07, verbose=False)"
            ]
          },
          "metadata": {
            "tags": []
          },
          "execution_count": 74
        }
      ]
    },
    {
      "cell_type": "code",
      "metadata": {
        "id": "2yymH33OC--e",
        "colab_type": "code",
        "outputId": "25718bae-3d4a-45e6-d75f-ee5ef4b8fc1d",
        "colab": {}
      },
      "source": [
        "# These are not really close to the ones in the book.\n",
        "pd.Series(ridge6.coef_path_[:,ridge6.lambda_max_inx_], index=X.columns)"
      ],
      "execution_count": 0,
      "outputs": [
        {
          "output_type": "execute_result",
          "data": {
            "text/plain": [
              "AtBat           -0.681594\n",
              "Hits             2.772311\n",
              "HmRun           -1.365704\n",
              "Runs             1.014812\n",
              "RBI              0.713030\n",
              "Walks            3.378558\n",
              "Years           -9.066826\n",
              "CAtBat          -0.001200\n",
              "CHits            0.136102\n",
              "CHmRun           0.697992\n",
              "CRuns            0.295890\n",
              "CRBI             0.257072\n",
              "CWalks          -0.278966\n",
              "PutOuts          0.263887\n",
              "Assists          0.169878\n",
              "Errors          -3.685656\n",
              "League_N        53.209503\n",
              "Division_W    -122.834334\n",
              "NewLeague_N    -18.102528\n",
              "dtype: float64"
            ]
          },
          "metadata": {
            "tags": []
          },
          "execution_count": 75
        }
      ]
    },
    {
      "cell_type": "markdown",
      "metadata": {
        "id": "Urr3DxbRC--i",
        "colab_type": "text"
      },
      "source": [
        "## Lasso Regression"
      ]
    },
    {
      "cell_type": "code",
      "metadata": {
        "id": "fd7VQQ4mC--k",
        "colab_type": "code",
        "outputId": "7a6828f1-0598-4dae-986c-735351452467",
        "colab": {}
      },
      "source": [
        "lasso = Lasso(max_iter=10000)\n",
        "coefs = []\n",
        "\n",
        "for a in alphas*2:\n",
        "    lasso.set_params(alpha=a)\n",
        "    lasso.fit(scale(X_train), y_train)\n",
        "    coefs.append(lasso.coef_)\n",
        "\n",
        "ax = plt.gca()\n",
        "ax.plot(alphas*2, coefs)\n",
        "ax.set_xscale('log')\n",
        "ax.set_xlim(ax.get_xlim()[::-1])  # reverse axis\n",
        "plt.axis('tight')\n",
        "plt.xlabel('alpha')\n",
        "plt.ylabel('weights')\n",
        "plt.title('Lasso coefficients as a function of the regularization');"
      ],
      "execution_count": 0,
      "outputs": [
        {
          "output_type": "display_data",
          "data": {
            "image/png": "[encoded data removed]",
            "text/plain": [
              "<matplotlib.figure.Figure at 0xe871fd0>"
            ]
          },
          "metadata": {
            "tags": []
          }
        }
      ]
    },
    {
      "cell_type": "code",
      "metadata": {
        "id": "GSvvOpnlC--p",
        "colab_type": "code",
        "outputId": "d4e01c65-59d7-4140-de83-270322582bbd",
        "colab": {}
      },
      "source": [
        "lassocv = LassoCV(alphas=None, cv=10, max_iter=10000)\n",
        "lassocv.fit(scale(X_train), y_train.values.ravel())"
      ],
      "execution_count": 0,
      "outputs": [
        {
          "output_type": "execute_result",
          "data": {
            "text/plain": [
              "LassoCV(alphas=None, copy_X=True, cv=10, eps=0.001, fit_intercept=True,\n",
              "    max_iter=10000, n_alphas=100, n_jobs=1, normalize=False,\n",
              "    positive=False, precompute='auto', random_state=None,\n",
              "    selection='cyclic', tol=0.0001, verbose=False)"
            ]
          },
          "metadata": {
            "tags": []
          },
          "execution_count": 77
        }
      ]
    },
    {
      "cell_type": "code",
      "metadata": {
        "id": "6hEVJOvFC--x",
        "colab_type": "code",
        "outputId": "bb48f651-4f07-43be-8f62-8a5bd41660f9",
        "colab": {}
      },
      "source": [
        "lassocv.alpha_"
      ],
      "execution_count": 0,
      "outputs": [
        {
          "output_type": "execute_result",
          "data": {
            "text/plain": [
              "30.013822564464284"
            ]
          },
          "metadata": {
            "tags": []
          },
          "execution_count": 78
        }
      ]
    },
    {
      "cell_type": "code",
      "metadata": {
        "id": "OSVO0839C--4",
        "colab_type": "code",
        "outputId": "e4e61e60-274f-4a07-c858-63c7813a16d9",
        "colab": {}
      },
      "source": [
        "lasso.set_params(alpha=lassocv.alpha_)\n",
        "lasso.fit(scale(X_train), y_train)\n",
        "mean_squared_error(y_test, lasso.predict(scale(X_test)))"
      ],
      "execution_count": 0,
      "outputs": [
        {
          "output_type": "execute_result",
          "data": {
            "text/plain": [
              "102924.90954696963"
            ]
          },
          "metadata": {
            "tags": []
          },
          "execution_count": 79
        }
      ]
    },
    {
      "cell_type": "code",
      "metadata": {
        "id": "fY9AyBcVC--_",
        "colab_type": "code",
        "outputId": "c6bba3f4-8051-40a5-f729-f51b63168a20",
        "colab": {}
      },
      "source": [
        "# Some of the coefficients are now reduced to exactly zero.\n",
        "pd.Series(lasso.coef_, index=X.columns)"
      ],
      "execution_count": 0,
      "outputs": [
        {
          "output_type": "execute_result",
          "data": {
            "text/plain": [
              "AtBat            0.000000\n",
              "Hits             0.000000\n",
              "HmRun            2.154219\n",
              "Runs             0.000000\n",
              "RBI             30.835560\n",
              "Walks          104.071528\n",
              "Years           -0.000000\n",
              "CAtBat           0.000000\n",
              "CHits            0.000000\n",
              "CHmRun           0.000000\n",
              "CRuns          132.858095\n",
              "CRBI             0.000000\n",
              "CWalks           0.000000\n",
              "PutOuts          1.896185\n",
              "Assists        -51.058752\n",
              "Errors          76.779641\n",
              "League_N         0.000000\n",
              "Division_W       0.000000\n",
              "NewLeague_N      0.000000\n",
              "dtype: float64"
            ]
          },
          "metadata": {
            "tags": []
          },
          "execution_count": 80
        }
      ]
    },
    {
      "cell_type": "code",
      "metadata": {
        "id": "fG6Ud1_aC-_J",
        "colab_type": "code",
        "outputId": "c6e96334-a8e8-4f25-a865-d972fef20d20",
        "colab": {}
      },
      "source": [
        "lasso2 = gln.ElasticNet(alpha=1, lambda_path=grid, scoring='mean_squared_error', n_splits=10)\n",
        "lasso2.fit(X_train, y_train.values.ravel())"
      ],
      "execution_count": 0,
      "outputs": [
        {
          "output_type": "execute_result",
          "data": {
            "text/plain": [
              "ElasticNet(alpha=1, cut_point=1.0, fit_intercept=True,\n",
              "      lambda_path=array([  1.00000e+10,   7.56463e+09, ...,   1.32194e-02,   1.00000e-02]),\n",
              "      max_iter=100000, min_lambda_ratio=0.0001, n_jobs=1, n_lambda=100,\n",
              "      n_splits=10, random_state=None, scoring='mean_squared_error',\n",
              "      standardize=True, tol=1e-07, verbose=False)"
            ]
          },
          "metadata": {
            "tags": []
          },
          "execution_count": 81
        }
      ]
    },
    {
      "cell_type": "code",
      "metadata": {
        "id": "t9f2sVhlC-_Q",
        "colab_type": "code",
        "outputId": "82f1a8f4-24b7-44f6-f31a-a5a08c512d26",
        "colab": {}
      },
      "source": [
        "l1_norm = np.sum(np.abs(lasso2.coef_path_), axis=0)\n",
        "\n",
        "plt.figure(figsize=(10,6))\n",
        "plt.plot(l1_norm, lasso2.coef_path_.T)\n",
        "plt.xlabel('L1 norm')\n",
        "plt.ylabel('Coefficients');"
      ],
      "execution_count": 0,
      "outputs": [
        {
          "output_type": "display_data",
          "data": {
            "image/png": "[encoded data removed]",
            "text/plain": [
              "<matplotlib.figure.Figure at 0xeb0e5c0>"
            ]
          },
          "metadata": {
            "tags": []
          }
        }
      ]
    },
    {
      "cell_type": "code",
      "metadata": {
        "id": "2iQTf51lC-_U",
        "colab_type": "code",
        "outputId": "bb4acfbf-a6f0-428a-a95c-afaad2ff8544",
        "colab": {}
      },
      "source": [
        "lasso3 = gln.ElasticNet(alpha=1, scoring='mean_squared_error', n_splits=10)\n",
        "lasso3.fit(X_train, y_train.values.ravel())"
      ],
      "execution_count": 0,
      "outputs": [
        {
          "output_type": "execute_result",
          "data": {
            "text/plain": [
              "ElasticNet(alpha=1, cut_point=1.0, fit_intercept=True, lambda_path=None,\n",
              "      max_iter=100000, min_lambda_ratio=0.0001, n_jobs=1, n_lambda=100,\n",
              "      n_splits=10, random_state=None, scoring='mean_squared_error',\n",
              "      standardize=True, tol=1e-07, verbose=False)"
            ]
          },
          "metadata": {
            "tags": []
          },
          "execution_count": 83
        }
      ]
    },
    {
      "cell_type": "code",
      "metadata": {
        "id": "whQZYeyXC-_a",
        "colab_type": "code",
        "outputId": "c256bea8-80af-4512-9370-a59096854145",
        "colab": {}
      },
      "source": [
        "plt.figure(figsize=(15,6))\n",
        "plt.errorbar(np.log(lasso3.lambda_path_), -lasso3.cv_mean_score_, color='r', linestyle='None', marker='o',\n",
        "             markersize=5, yerr=lasso3.cv_standard_error_, ecolor='lightgrey', capsize=4)\n",
        "\n",
        "for ref, txt in zip([lasso3.lambda_best_, lasso3.lambda_max_], ['Lambda best', 'Lambda max']):\n",
        "    plt.axvline(x=np.log(ref), linestyle='dashed', color='lightgrey')\n",
        "    plt.text(np.log(ref), .95*plt.gca().get_ylim()[1], txt, ha='center')\n",
        "\n",
        "plt.xlabel('log(Lambda)')\n",
        "plt.ylabel('Mean-Squared Error');"
      ],
      "execution_count": 0,
      "outputs": [
        {
          "output_type": "display_data",
          "data": {
            "image/png": "[encoded data removed]",
            "text/plain": [
              "<matplotlib.figure.Figure at 0xebd8d30>"
            ]
          },
          "metadata": {
            "tags": []
          }
        }
      ]
    },
    {
      "cell_type": "code",
      "metadata": {
        "id": "-vgW9owHC-_e",
        "colab_type": "code",
        "outputId": "12160a62-164d-4d60-e014-ad99d8641091",
        "colab": {}
      },
      "source": [
        "pred = lasso3.predict(X_test, lamb=lasso3.lambda_max_)\n",
        "mean_squared_error(y_test, pred)"
      ],
      "execution_count": 0,
      "outputs": [
        {
          "output_type": "execute_result",
          "data": {
            "text/plain": [
              "101294.32852317697"
            ]
          },
          "metadata": {
            "tags": []
          },
          "execution_count": 85
        }
      ]
    },
    {
      "cell_type": "code",
      "metadata": {
        "id": "q7an-P38C-_l",
        "colab_type": "code",
        "outputId": "6769e7ab-6f32-430f-ec24-e320fbf2f726",
        "colab": {}
      },
      "source": [
        "lasso4 = gln.ElasticNet(alpha=1, lambda_path=grid, scoring='mean_squared_error', n_splits=10)\n",
        "lasso4.fit(X, y)"
      ],
      "execution_count": 0,
      "outputs": [
        {
          "output_type": "execute_result",
          "data": {
            "text/plain": [
              "ElasticNet(alpha=1, cut_point=1.0, fit_intercept=True,\n",
              "      lambda_path=array([  1.00000e+10,   7.56463e+09, ...,   1.32194e-02,   1.00000e-02]),\n",
              "      max_iter=100000, min_lambda_ratio=0.0001, n_jobs=1, n_lambda=100,\n",
              "      n_splits=10, random_state=None, scoring='mean_squared_error',\n",
              "      standardize=True, tol=1e-07, verbose=False)"
            ]
          },
          "metadata": {
            "tags": []
          },
          "execution_count": 86
        }
      ]
    },
    {
      "cell_type": "code",
      "metadata": {
        "id": "ce304ax2C-_u",
        "colab_type": "code",
        "outputId": "790dc76c-1ae7-46eb-824e-acd77fa9c2e2",
        "colab": {}
      },
      "source": [
        "# These are not really close to the ones in the book.\n",
        "pd.Series(lasso4.coef_path_[:,lasso4.lambda_max_inx_], index=X.columns)"
      ],
      "execution_count": 0,
      "outputs": [
        {
          "output_type": "execute_result",
          "data": {
            "text/plain": [
              "AtBat           -1.560098\n",
              "Hits             5.693168\n",
              "HmRun            0.000000\n",
              "Runs             0.000000\n",
              "RBI              0.000000\n",
              "Walks            4.750540\n",
              "Years           -9.518024\n",
              "CAtBat           0.000000\n",
              "CHits            0.000000\n",
              "CHmRun           0.519161\n",
              "CRuns            0.660407\n",
              "CRBI             0.391541\n",
              "CWalks          -0.532687\n",
              "PutOuts          0.272620\n",
              "Assists          0.174816\n",
              "Errors          -2.056721\n",
              "League_N        32.109569\n",
              "Division_W    -119.258342\n",
              "NewLeague_N      0.000000\n",
              "dtype: float64"
            ]
          },
          "metadata": {
            "tags": []
          },
          "execution_count": 87
        }
      ]
    },
    {
      "cell_type": "code",
      "metadata": {
        "id": "ZznGpqDsC-_1",
        "colab_type": "code",
        "outputId": "788dbe8f-d2a9-4625-b2b2-003ca1e97315",
        "colab": {}
      },
      "source": [
        "pca = PCA()\n",
        "X_reduced = pca.fit_transform(scale(X))\n",
        "\n",
        "print(pca.components_.shape)\n",
        "pd.DataFrame(pca.components_.T).loc[:4,:5]"
      ],
      "execution_count": 0,
      "outputs": [
        {
          "output_type": "stream",
          "text": [
            "(19, 19)\n"
          ],
          "name": "stdout"
        },
        {
          "output_type": "execute_result",
          "data": {
            "text/html": [
              "<div>\n",
              "<style>\n",
              "    .dataframe thead tr:only-child th {\n",
              "        text-align: right;\n",
              "    }\n",
              "\n",
              "    .dataframe thead th {\n",
              "        text-align: left;\n",
              "    }\n",
              "\n",
              "    .dataframe tbody tr th {\n",
              "        vertical-align: top;\n",
              "    }\n",
              "</style>\n",
              "<table border=\"1\" class=\"dataframe\">\n",
              "  <thead>\n",
              "    <tr style=\"text-align: right;\">\n",
              "      <th></th>\n",
              "      <th>0</th>\n",
              "      <th>1</th>\n",
              "      <th>2</th>\n",
              "      <th>3</th>\n",
              "      <th>4</th>\n",
              "      <th>5</th>\n",
              "    </tr>\n",
              "  </thead>\n",
              "  <tbody>\n",
              "    <tr>\n",
              "      <th>0</th>\n",
              "      <td>0.198290</td>\n",
              "      <td>-0.383784</td>\n",
              "      <td>0.088626</td>\n",
              "      <td>0.031967</td>\n",
              "      <td>0.028117</td>\n",
              "      <td>-0.070646</td>\n",
              "    </tr>\n",
              "    <tr>\n",
              "      <th>1</th>\n",
              "      <td>0.195861</td>\n",
              "      <td>-0.377271</td>\n",
              "      <td>0.074032</td>\n",
              "      <td>0.017982</td>\n",
              "      <td>-0.004652</td>\n",
              "      <td>-0.082240</td>\n",
              "    </tr>\n",
              "    <tr>\n",
              "      <th>2</th>\n",
              "      <td>0.204369</td>\n",
              "      <td>-0.237136</td>\n",
              "      <td>-0.216186</td>\n",
              "      <td>-0.235831</td>\n",
              "      <td>0.077660</td>\n",
              "      <td>-0.149646</td>\n",
              "    </tr>\n",
              "    <tr>\n",
              "      <th>3</th>\n",
              "      <td>0.198337</td>\n",
              "      <td>-0.377721</td>\n",
              "      <td>-0.017166</td>\n",
              "      <td>-0.049942</td>\n",
              "      <td>-0.038536</td>\n",
              "      <td>-0.136660</td>\n",
              "    </tr>\n",
              "    <tr>\n",
              "      <th>4</th>\n",
              "      <td>0.235174</td>\n",
              "      <td>-0.314531</td>\n",
              "      <td>-0.073085</td>\n",
              "      <td>-0.138985</td>\n",
              "      <td>0.024299</td>\n",
              "      <td>-0.111675</td>\n",
              "    </tr>\n",
              "  </tbody>\n",
              "</table>\n",
              "</div>"
            ],
            "text/plain": [
              "          0         1         2         3         4         5\n",
              "0  0.198290 -0.383784  0.088626  0.031967  0.028117 -0.070646\n",
              "1  0.195861 -0.377271  0.074032  0.017982 -0.004652 -0.082240\n",
              "2  0.204369 -0.237136 -0.216186 -0.235831  0.077660 -0.149646\n",
              "3  0.198337 -0.377721 -0.017166 -0.049942 -0.038536 -0.136660\n",
              "4  0.235174 -0.314531 -0.073085 -0.138985  0.024299 -0.111675"
            ]
          },
          "metadata": {
            "tags": []
          },
          "execution_count": 88
        }
      ]
    },
    {
      "cell_type": "code",
      "metadata": {
        "id": "0kKTGfpXC-_6",
        "colab_type": "code",
        "outputId": "7b644835-6aab-432e-dade-bdb70f36cec4",
        "colab": {}
      },
      "source": [
        "print(X_reduced.shape)\n",
        "pd.DataFrame(X_reduced).loc[:4,:5]"
      ],
      "execution_count": 0,
      "outputs": [
        {
          "output_type": "stream",
          "text": [
            "(263, 19)\n"
          ],
          "name": "stdout"
        },
        {
          "output_type": "execute_result",
          "data": {
            "text/html": [
              "<div>\n",
              "<style>\n",
              "    .dataframe thead tr:only-child th {\n",
              "        text-align: right;\n",
              "    }\n",
              "\n",
              "    .dataframe thead th {\n",
              "        text-align: left;\n",
              "    }\n",
              "\n",
              "    .dataframe tbody tr th {\n",
              "        vertical-align: top;\n",
              "    }\n",
              "</style>\n",
              "<table border=\"1\" class=\"dataframe\">\n",
              "  <thead>\n",
              "    <tr style=\"text-align: right;\">\n",
              "      <th></th>\n",
              "      <th>0</th>\n",
              "      <th>1</th>\n",
              "      <th>2</th>\n",
              "      <th>3</th>\n",
              "      <th>4</th>\n",
              "      <th>5</th>\n",
              "    </tr>\n",
              "  </thead>\n",
              "  <tbody>\n",
              "    <tr>\n",
              "      <th>0</th>\n",
              "      <td>-0.009649</td>\n",
              "      <td>1.870522</td>\n",
              "      <td>1.265145</td>\n",
              "      <td>-0.935481</td>\n",
              "      <td>1.109636</td>\n",
              "      <td>1.211972</td>\n",
              "    </tr>\n",
              "    <tr>\n",
              "      <th>1</th>\n",
              "      <td>0.411434</td>\n",
              "      <td>-2.429422</td>\n",
              "      <td>-0.909193</td>\n",
              "      <td>-0.264212</td>\n",
              "      <td>1.232031</td>\n",
              "      <td>1.826617</td>\n",
              "    </tr>\n",
              "    <tr>\n",
              "      <th>2</th>\n",
              "      <td>3.466822</td>\n",
              "      <td>0.825947</td>\n",
              "      <td>0.555469</td>\n",
              "      <td>-1.616726</td>\n",
              "      <td>-0.857488</td>\n",
              "      <td>-1.028712</td>\n",
              "    </tr>\n",
              "    <tr>\n",
              "      <th>3</th>\n",
              "      <td>-2.558317</td>\n",
              "      <td>-0.230984</td>\n",
              "      <td>0.519642</td>\n",
              "      <td>-2.176251</td>\n",
              "      <td>-0.820301</td>\n",
              "      <td>1.491696</td>\n",
              "    </tr>\n",
              "    <tr>\n",
              "      <th>4</th>\n",
              "      <td>1.027702</td>\n",
              "      <td>-1.573537</td>\n",
              "      <td>1.331382</td>\n",
              "      <td>3.494004</td>\n",
              "      <td>0.983427</td>\n",
              "      <td>0.513675</td>\n",
              "    </tr>\n",
              "  </tbody>\n",
              "</table>\n",
              "</div>"
            ],
            "text/plain": [
              "          0         1         2         3         4         5\n",
              "0 -0.009649  1.870522  1.265145 -0.935481  1.109636  1.211972\n",
              "1  0.411434 -2.429422 -0.909193 -0.264212  1.232031  1.826617\n",
              "2  3.466822  0.825947  0.555469 -1.616726 -0.857488 -1.028712\n",
              "3 -2.558317 -0.230984  0.519642 -2.176251 -0.820301  1.491696\n",
              "4  1.027702 -1.573537  1.331382  3.494004  0.983427  0.513675"
            ]
          },
          "metadata": {
            "tags": []
          },
          "execution_count": 89
        }
      ]
    },
    {
      "cell_type": "code",
      "metadata": {
        "id": "SUB7K8cKC-_-",
        "colab_type": "code",
        "outputId": "26ccafbe-0afb-4dd4-c84f-97d33ca4944b",
        "colab": {}
      },
      "source": [
        "# Variance explained by the principal components\n",
        "np.cumsum(np.round(pca.explained_variance_ratio_, decimals=4)*100)"
      ],
      "execution_count": 0,
      "outputs": [
        {
          "output_type": "execute_result",
          "data": {
            "text/plain": [
              "array([ 38.31,  60.15,  70.84,  79.03,  84.29,  88.63,  92.26,  94.96,\n",
              "        96.28,  97.25,  97.97,  98.64,  99.14,  99.46,  99.73,  99.88,\n",
              "        99.95,  99.98,  99.99])"
            ]
          },
          "metadata": {
            "tags": []
          },
          "execution_count": 90
        }
      ]
    },
    {
      "cell_type": "code",
      "metadata": {
        "id": "c075jUenC_AF",
        "colab_type": "code",
        "outputId": "96d8a8aa-aaf6-47da-cf2c-35189410cf88",
        "colab": {}
      },
      "source": [
        "# 10-fold CV, with shuffle\n",
        "n = len(X_reduced)\n",
        "kf_10 = KFold(n_splits=10, shuffle=True, random_state=1)\n",
        "\n",
        "regr = LinearRegression()\n",
        "mse = []\n",
        "\n",
        "# Calculate MSE with only the intercept (no principal components in regression)\n",
        "score = -1*cross_val_score(regr, np.ones((n,1)), y.ravel(), cv=kf_10, scoring='neg_mean_squared_error').mean()    \n",
        "mse.append(score)\n",
        "\n",
        "# Calculate MSE using CV for the 19 principle components, adding one component at the time.\n",
        "for i in np.arange(1, 20):\n",
        "    score = -1*cross_val_score(regr, X_reduced[:,:i], y.ravel(), cv=kf_10, scoring='neg_mean_squared_error').mean()\n",
        "    mse.append(score)\n",
        "    \n",
        "plt.plot(mse, '-v')\n",
        "plt.xlabel('Number of principal components in regression')\n",
        "plt.ylabel('MSE')\n",
        "plt.title('Salary')\n",
        "plt.xlim(xmin=-1);"
      ],
      "execution_count": 0,
      "outputs": [
        {
          "output_type": "display_data",
          "data": {
            "image/png": "[encoded data removed]",
            "text/plain": [
              "<matplotlib.figure.Figure at 0xec0c5f8>"
            ]
          },
          "metadata": {
            "tags": []
          }
        }
      ]
    },
    {
      "cell_type": "code",
      "metadata": {
        "id": "FIqZWj4WC_AK",
        "colab_type": "code",
        "outputId": "8c4e6e9e-e0be-4a19-8fa2-45676292b600",
        "colab": {}
      },
      "source": [
        "regr_test = LinearRegression()\n",
        "regr_test.fit(X_reduced, y)\n",
        "regr_test.coef_"
      ],
      "execution_count": 0,
      "outputs": [
        {
          "output_type": "execute_result",
          "data": {
            "text/plain": [
              "array([ 106.36859204,  -21.60350456,   24.2942534 ,  -36.9858579 ,\n",
              "        -58.41402748,   62.20632652,   24.63862038,   15.82817701,\n",
              "         29.57680773,   99.64801199,  -30.11209105,   20.99269291,\n",
              "         72.40210574, -276.68551696,  -74.17098665,  422.72580227,\n",
              "       -347.05662353, -561.59691587,  -83.25441536])"
            ]
          },
          "metadata": {
            "tags": []
          },
          "execution_count": 92
        }
      ]
    },
    {
      "cell_type": "code",
      "metadata": {
        "id": "kai1XMcaC_AP",
        "colab_type": "code",
        "outputId": "b7dedbd2-5c74-4ca0-bdba-0a43dd01e82c",
        "colab": {}
      },
      "source": [
        "pca2 = PCA()\n",
        "X_reduced_train = pca2.fit_transform(scale(X_train))\n",
        "n = len(X_reduced_train)\n",
        "\n",
        "# 10-fold CV, with shuffle\n",
        "kf_10 = KFold(n_splits=10, shuffle=False, random_state=1)\n",
        "\n",
        "mse = []\n",
        "\n",
        "# Calculate MSE with only the intercept (no principal components in regression)\n",
        "score = -1*cross_val_score(regr, np.ones((n,1)), y_train, cv=kf_10, scoring='neg_mean_squared_error').mean()    \n",
        "mse.append(score)\n",
        "\n",
        "# Calculate MSE using CV for the 19 principle components, adding one component at the time.\n",
        "for i in np.arange(1, 20):\n",
        "    score = -1*cross_val_score(regr, X_reduced_train[:,:i], y_train, cv=kf_10, scoring='neg_mean_squared_error').mean()\n",
        "    mse.append(score)\n",
        "\n",
        "plt.plot(np.array(mse), '-v')\n",
        "plt.xlabel('Number of principal components in regression')\n",
        "plt.ylabel('MSE')\n",
        "plt.title('Salary')\n",
        "plt.xlim(xmin=-1);"
      ],
      "execution_count": 0,
      "outputs": [
        {
          "output_type": "display_data",
          "data": {
            "image/png": "[encoded data removed]",
            "text/plain": [
              "<matplotlib.figure.Figure at 0xec63fd0>"
            ]
          },
          "metadata": {
            "tags": []
          }
        }
      ]
    },
    {
      "cell_type": "code",
      "metadata": {
        "id": "tIHhEameC_AX",
        "colab_type": "code",
        "outputId": "0e06330c-de36-437e-bd9b-30145d709866",
        "colab": {}
      },
      "source": [
        "X_reduced_test = pca2.transform(scale(X_test))[:,:7]\n",
        "\n",
        "# Train regression model on training data \n",
        "regr = LinearRegression()\n",
        "regr.fit(X_reduced_train[:,:7], y_train)\n",
        "\n",
        "# Prediction with test data\n",
        "pred = regr.predict(X_reduced_test)\n",
        "mean_squared_error(y_test, pred)"
      ],
      "execution_count": 0,
      "outputs": [
        {
          "output_type": "execute_result",
          "data": {
            "text/plain": [
              "96320.020782503212"
            ]
          },
          "metadata": {
            "tags": []
          },
          "execution_count": 94
        }
      ]
    },
    {
      "cell_type": "code",
      "metadata": {
        "id": "8BSr02iUC_Af",
        "colab_type": "code",
        "outputId": "a9c48270-ae95-446f-c0c8-7237727d8046",
        "colab": {}
      },
      "source": [
        "n = len(X_train)\n",
        "\n",
        "# 10-fold CV, with shuffle\n",
        "kf_10 = KFold(n_splits=10, shuffle=False, random_state=1)\n",
        "\n",
        "mse = []\n",
        "\n",
        "for i in np.arange(1, 20):\n",
        "    pls = PLSRegression(n_components=i)\n",
        "    score = cross_val_score(pls, scale(X_train), y_train, cv=kf_10, scoring='neg_mean_squared_error').mean()\n",
        "    mse.append(-score)\n",
        "\n",
        "plt.plot(np.arange(1, 20), np.array(mse), '-v')\n",
        "plt.xlabel('Number of principal components in regression')\n",
        "plt.ylabel('MSE')\n",
        "plt.title('Salary')\n",
        "plt.xlim(xmin=-1);"
      ],
      "execution_count": 0,
      "outputs": [
        {
          "output_type": "display_data",
          "data": {
            "image/png": "[encoded data removed]",
            "text/plain": [
              "<matplotlib.figure.Figure at 0xee8c6d8>"
            ]
          },
          "metadata": {
            "tags": []
          }
        }
      ]
    },
    {
      "cell_type": "code",
      "metadata": {
        "id": "ZnHdR_Z0C_Al",
        "colab_type": "code",
        "outputId": "6a1dd4b9-c998-457e-cdb1-ae1a979a419b",
        "colab": {}
      },
      "source": [
        "pls = PLSRegression(n_components=2)\n",
        "pls.fit(scale(X_train), y_train)\n",
        "\n",
        "mean_squared_error(y_test, pls.predict(scale(X_test)))"
      ],
      "execution_count": 0,
      "outputs": [
        {
          "output_type": "execute_result",
          "data": {
            "text/plain": [
              "102234.27995999219"
            ]
          },
          "metadata": {
            "tags": []
          },
          "execution_count": 96
        }
      ]
    },
    {
      "cell_type": "code",
      "metadata": {
        "id": "8EbTWrSOC_Ao",
        "colab_type": "code",
        "colab": {}
      },
      "source": [
        ""
      ],
      "execution_count": 0,
      "outputs": []
    }
  ]
}