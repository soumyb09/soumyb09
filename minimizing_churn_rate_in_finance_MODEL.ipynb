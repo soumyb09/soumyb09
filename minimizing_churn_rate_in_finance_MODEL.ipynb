{
  "nbformat": 4,
  "nbformat_minor": 0,
  "metadata": {
    "colab": {
      "name": " minimizing churn rate in finance MODEL.ipynb",
      "provenance": [],
      "authorship_tag": "ABX9TyM1apT4hXdjSV4FMwvS6H0o",
      "include_colab_link": true
    },
    "kernelspec": {
      "name": "python3",
      "display_name": "Python 3"
    }
  },
  "cells": [
    {
      "cell_type": "markdown",
      "metadata": {
        "id": "view-in-github",
        "colab_type": "text"
      },
      "source": [
        "<a href=\"https://colab.research.google.com/github/soumyb09/soumyb09/blob/master/minimizing_churn_rate_in_finance_MODEL.ipynb\" target=\"_parent\"><img src=\"https://colab.research.google.com/assets/colab-badge.svg\" alt=\"Open In Colab\"/></a>"
      ]
    },
    {
      "cell_type": "code",
      "metadata": {
        "id": "xRXCebOpt_oC"
      },
      "source": [
        "#### Importing Libraries ####\n",
        "\n",
        "import pandas as pd\n",
        "import numpy as np\n",
        "import random\n",
        "import seaborn as sn\n",
        "import matplotlib.pyplot as plt\n"
      ],
      "execution_count": 15,
      "outputs": []
    },
    {
      "cell_type": "code",
      "metadata": {
        "id": "J8VUSt9TuZIs"
      },
      "source": [
        "dataset = pd.read_csv('new_churn_data.csv')"
      ],
      "execution_count": 16,
      "outputs": []
    },
    {
      "cell_type": "code",
      "metadata": {
        "id": "R5O6shJluZLu",
        "outputId": "6b8eda56-d5da-425a-c0b7-82ee54c564d7",
        "colab": {
          "base_uri": "https://localhost:8080/",
          "height": 226
        }
      },
      "source": [
        "dataset.head()"
      ],
      "execution_count": 17,
      "outputs": [
        {
          "output_type": "execute_result",
          "data": {
            "text/html": [
              "<div>\n",
              "<style scoped>\n",
              "    .dataframe tbody tr th:only-of-type {\n",
              "        vertical-align: middle;\n",
              "    }\n",
              "\n",
              "    .dataframe tbody tr th {\n",
              "        vertical-align: top;\n",
              "    }\n",
              "\n",
              "    .dataframe thead th {\n",
              "        text-align: right;\n",
              "    }\n",
              "</style>\n",
              "<table border=\"1\" class=\"dataframe\">\n",
              "  <thead>\n",
              "    <tr style=\"text-align: right;\">\n",
              "      <th></th>\n",
              "      <th>user</th>\n",
              "      <th>churn</th>\n",
              "      <th>age</th>\n",
              "      <th>housing</th>\n",
              "      <th>deposits</th>\n",
              "      <th>withdrawal</th>\n",
              "      <th>purchases_partners</th>\n",
              "      <th>purchases</th>\n",
              "      <th>cc_taken</th>\n",
              "      <th>cc_recommended</th>\n",
              "      <th>cc_disliked</th>\n",
              "      <th>cc_liked</th>\n",
              "      <th>cc_application_begin</th>\n",
              "      <th>app_downloaded</th>\n",
              "      <th>web_user</th>\n",
              "      <th>ios_user</th>\n",
              "      <th>android_user</th>\n",
              "      <th>registered_phones</th>\n",
              "      <th>payment_type</th>\n",
              "      <th>waiting_4_loan</th>\n",
              "      <th>cancelled_loan</th>\n",
              "      <th>received_loan</th>\n",
              "      <th>rejected_loan</th>\n",
              "      <th>zodiac_sign</th>\n",
              "      <th>left_for_two_month_plus</th>\n",
              "      <th>left_for_one_month</th>\n",
              "      <th>reward_rate</th>\n",
              "      <th>is_referred</th>\n",
              "    </tr>\n",
              "  </thead>\n",
              "  <tbody>\n",
              "    <tr>\n",
              "      <th>0</th>\n",
              "      <td>55409</td>\n",
              "      <td>0</td>\n",
              "      <td>37.0</td>\n",
              "      <td>na</td>\n",
              "      <td>0</td>\n",
              "      <td>0</td>\n",
              "      <td>0</td>\n",
              "      <td>0</td>\n",
              "      <td>0</td>\n",
              "      <td>0</td>\n",
              "      <td>0</td>\n",
              "      <td>0</td>\n",
              "      <td>0</td>\n",
              "      <td>1</td>\n",
              "      <td>1</td>\n",
              "      <td>1</td>\n",
              "      <td>0</td>\n",
              "      <td>0</td>\n",
              "      <td>Bi-Weekly</td>\n",
              "      <td>0</td>\n",
              "      <td>0</td>\n",
              "      <td>0</td>\n",
              "      <td>0</td>\n",
              "      <td>Leo</td>\n",
              "      <td>1</td>\n",
              "      <td>0</td>\n",
              "      <td>0.00</td>\n",
              "      <td>0</td>\n",
              "    </tr>\n",
              "    <tr>\n",
              "      <th>1</th>\n",
              "      <td>23547</td>\n",
              "      <td>0</td>\n",
              "      <td>28.0</td>\n",
              "      <td>R</td>\n",
              "      <td>0</td>\n",
              "      <td>0</td>\n",
              "      <td>1</td>\n",
              "      <td>0</td>\n",
              "      <td>0</td>\n",
              "      <td>96</td>\n",
              "      <td>0</td>\n",
              "      <td>0</td>\n",
              "      <td>5</td>\n",
              "      <td>1</td>\n",
              "      <td>1</td>\n",
              "      <td>1</td>\n",
              "      <td>0</td>\n",
              "      <td>0</td>\n",
              "      <td>Weekly</td>\n",
              "      <td>0</td>\n",
              "      <td>0</td>\n",
              "      <td>0</td>\n",
              "      <td>0</td>\n",
              "      <td>Leo</td>\n",
              "      <td>0</td>\n",
              "      <td>0</td>\n",
              "      <td>1.47</td>\n",
              "      <td>1</td>\n",
              "    </tr>\n",
              "    <tr>\n",
              "      <th>2</th>\n",
              "      <td>58313</td>\n",
              "      <td>0</td>\n",
              "      <td>35.0</td>\n",
              "      <td>R</td>\n",
              "      <td>47</td>\n",
              "      <td>2</td>\n",
              "      <td>86</td>\n",
              "      <td>47</td>\n",
              "      <td>0</td>\n",
              "      <td>285</td>\n",
              "      <td>0</td>\n",
              "      <td>0</td>\n",
              "      <td>9</td>\n",
              "      <td>1</td>\n",
              "      <td>0</td>\n",
              "      <td>0</td>\n",
              "      <td>1</td>\n",
              "      <td>2</td>\n",
              "      <td>Semi-Monthly</td>\n",
              "      <td>0</td>\n",
              "      <td>0</td>\n",
              "      <td>0</td>\n",
              "      <td>0</td>\n",
              "      <td>Capricorn</td>\n",
              "      <td>1</td>\n",
              "      <td>0</td>\n",
              "      <td>2.17</td>\n",
              "      <td>0</td>\n",
              "    </tr>\n",
              "    <tr>\n",
              "      <th>3</th>\n",
              "      <td>8095</td>\n",
              "      <td>0</td>\n",
              "      <td>26.0</td>\n",
              "      <td>R</td>\n",
              "      <td>26</td>\n",
              "      <td>3</td>\n",
              "      <td>38</td>\n",
              "      <td>25</td>\n",
              "      <td>0</td>\n",
              "      <td>74</td>\n",
              "      <td>0</td>\n",
              "      <td>0</td>\n",
              "      <td>26</td>\n",
              "      <td>1</td>\n",
              "      <td>0</td>\n",
              "      <td>0</td>\n",
              "      <td>1</td>\n",
              "      <td>0</td>\n",
              "      <td>Bi-Weekly</td>\n",
              "      <td>0</td>\n",
              "      <td>0</td>\n",
              "      <td>0</td>\n",
              "      <td>0</td>\n",
              "      <td>Capricorn</td>\n",
              "      <td>0</td>\n",
              "      <td>0</td>\n",
              "      <td>1.10</td>\n",
              "      <td>1</td>\n",
              "    </tr>\n",
              "    <tr>\n",
              "      <th>4</th>\n",
              "      <td>61353</td>\n",
              "      <td>1</td>\n",
              "      <td>27.0</td>\n",
              "      <td>na</td>\n",
              "      <td>0</td>\n",
              "      <td>0</td>\n",
              "      <td>2</td>\n",
              "      <td>0</td>\n",
              "      <td>0</td>\n",
              "      <td>0</td>\n",
              "      <td>0</td>\n",
              "      <td>0</td>\n",
              "      <td>0</td>\n",
              "      <td>1</td>\n",
              "      <td>1</td>\n",
              "      <td>0</td>\n",
              "      <td>1</td>\n",
              "      <td>0</td>\n",
              "      <td>Bi-Weekly</td>\n",
              "      <td>0</td>\n",
              "      <td>0</td>\n",
              "      <td>0</td>\n",
              "      <td>0</td>\n",
              "      <td>Aries</td>\n",
              "      <td>1</td>\n",
              "      <td>0</td>\n",
              "      <td>0.03</td>\n",
              "      <td>0</td>\n",
              "    </tr>\n",
              "  </tbody>\n",
              "</table>\n",
              "</div>"
            ],
            "text/plain": [
              "    user  churn   age  ... left_for_one_month  reward_rate  is_referred\n",
              "0  55409      0  37.0  ...                  0         0.00            0\n",
              "1  23547      0  28.0  ...                  0         1.47            1\n",
              "2  58313      0  35.0  ...                  0         2.17            0\n",
              "3   8095      0  26.0  ...                  0         1.10            1\n",
              "4  61353      1  27.0  ...                  0         0.03            0\n",
              "\n",
              "[5 rows x 28 columns]"
            ]
          },
          "metadata": {
            "tags": []
          },
          "execution_count": 17
        }
      ]
    },
    {
      "cell_type": "code",
      "metadata": {
        "id": "dpbbF4hAvqKd",
        "outputId": "912c30ca-28c5-47be-e3e3-f92c78943a1c",
        "colab": {
          "base_uri": "https://localhost:8080/"
        }
      },
      "source": [
        "dataset.columns"
      ],
      "execution_count": 18,
      "outputs": [
        {
          "output_type": "execute_result",
          "data": {
            "text/plain": [
              "Index(['user', 'churn', 'age', 'housing', 'deposits', 'withdrawal',\n",
              "       'purchases_partners', 'purchases', 'cc_taken', 'cc_recommended',\n",
              "       'cc_disliked', 'cc_liked', 'cc_application_begin', 'app_downloaded',\n",
              "       'web_user', 'ios_user', 'android_user', 'registered_phones',\n",
              "       'payment_type', 'waiting_4_loan', 'cancelled_loan', 'received_loan',\n",
              "       'rejected_loan', 'zodiac_sign', 'left_for_two_month_plus',\n",
              "       'left_for_one_month', 'reward_rate', 'is_referred'],\n",
              "      dtype='object')"
            ]
          },
          "metadata": {
            "tags": []
          },
          "execution_count": 18
        }
      ]
    },
    {
      "cell_type": "code",
      "metadata": {
        "id": "Rdn3DAoGuZOa"
      },
      "source": [
        "user_identifier = dataset['user']\n",
        "dataset = dataset.drop(columns = ['user'])"
      ],
      "execution_count": 20,
      "outputs": []
    },
    {
      "cell_type": "code",
      "metadata": {
        "id": "px-D-s_EvLKd"
      },
      "source": [
        "# One-Hot Encoding\n",
        "dataset.housing.value_counts()\n",
        "dataset.groupby('housing')['churn'].nunique().reset_index()\n",
        "dataset = pd.get_dummies(dataset)\n",
        "dataset.columns\n",
        "dataset = dataset.drop(columns = ['housing_na', 'zodiac_sign_na', 'payment_type_na'])"
      ],
      "execution_count": 21,
      "outputs": []
    },
    {
      "cell_type": "code",
      "metadata": {
        "id": "y2dnqPOzvLNR"
      },
      "source": [
        "# Splitting the dataset into the Training set and Test set\n",
        "from sklearn.model_selection import train_test_split\n",
        "X_train, X_test, y_train, y_test = train_test_split(dataset.drop(columns = 'churn'), dataset['churn'],\n",
        "                                                    test_size = 0.2,\n",
        "                                                    random_state = 0)\n"
      ],
      "execution_count": 22,
      "outputs": []
    },
    {
      "cell_type": "code",
      "metadata": {
        "id": "H92J-v0_vLQj",
        "outputId": "21fa0f0a-1f96-423c-fc07-359149e933e4",
        "colab": {
          "base_uri": "https://localhost:8080/"
        }
      },
      "source": [
        "# Balancing the Training Set\n",
        "y_train.value_counts()"
      ],
      "execution_count": 23,
      "outputs": [
        {
          "output_type": "execute_result",
          "data": {
            "text/plain": [
              "0    12656\n",
              "1     8940\n",
              "Name: churn, dtype: int64"
            ]
          },
          "metadata": {
            "tags": []
          },
          "execution_count": 23
        }
      ]
    },
    {
      "cell_type": "code",
      "metadata": {
        "id": "98ZJy8-PvLUi"
      },
      "source": [
        "pos_index = y_train[y_train.values == 1].index\n",
        "neg_index = y_train[y_train.values == 0].index\n",
        "\n",
        "if len(pos_index) > len(neg_index):\n",
        "    higher = pos_index\n",
        "    lower = neg_index\n",
        "else:\n",
        "    higher = neg_index\n",
        "    lower = pos_index\n",
        "\n",
        "random.seed(0)\n",
        "higher = np.random.choice(higher, size=len(lower))\n",
        "lower = np.asarray(lower)\n",
        "new_indexes = np.concatenate((lower, higher))\n",
        "\n",
        "X_train = X_train.loc[new_indexes,]\n",
        "y_train = y_train[new_indexes]"
      ],
      "execution_count": 24,
      "outputs": []
    },
    {
      "cell_type": "code",
      "metadata": {
        "id": "QhQugsprvLXg"
      },
      "source": [
        "# Feature Scaling\n",
        "from sklearn.preprocessing import StandardScaler\n",
        "sc_X = StandardScaler()\n",
        "X_train2 = pd.DataFrame(sc_X.fit_transform(X_train))\n",
        "X_test2 = pd.DataFrame(sc_X.transform(X_test))\n",
        "X_train2.columns = X_train.columns.values\n",
        "X_test2.columns = X_test.columns.values\n",
        "X_train2.index = X_train.index.values\n",
        "X_test2.index = X_test.index.values\n",
        "X_train = X_train2\n",
        "X_test = X_test2"
      ],
      "execution_count": 25,
      "outputs": []
    },
    {
      "cell_type": "code",
      "metadata": {
        "id": "9G5keOQHvLco",
        "outputId": "91259ca3-a8f9-4cc2-d755-f5f42cb24785",
        "colab": {
          "base_uri": "https://localhost:8080/"
        }
      },
      "source": [
        "# Fitting Model to the Training Set\n",
        "from sklearn.linear_model import LogisticRegression\n",
        "classifier = LogisticRegression(random_state = 0)\n",
        "classifier.fit(X_train, y_train)"
      ],
      "execution_count": 26,
      "outputs": [
        {
          "output_type": "execute_result",
          "data": {
            "text/plain": [
              "LogisticRegression(C=1.0, class_weight=None, dual=False, fit_intercept=True,\n",
              "                   intercept_scaling=1, l1_ratio=None, max_iter=100,\n",
              "                   multi_class='auto', n_jobs=None, penalty='l2',\n",
              "                   random_state=0, solver='lbfgs', tol=0.0001, verbose=0,\n",
              "                   warm_start=False)"
            ]
          },
          "metadata": {
            "tags": []
          },
          "execution_count": 26
        }
      ]
    },
    {
      "cell_type": "code",
      "metadata": {
        "id": "eGFsWZykvLfJ"
      },
      "source": [
        "# Predicting Test Set\n",
        "y_pred = classifier.predict(X_test)"
      ],
      "execution_count": 27,
      "outputs": []
    },
    {
      "cell_type": "code",
      "metadata": {
        "id": "10TP7uLdvLbR",
        "outputId": "ca402de0-37b2-4ad9-cd10-cad7fd946f5d",
        "colab": {
          "base_uri": "https://localhost:8080/"
        }
      },
      "source": [
        "# Evaluating Results\n",
        "from sklearn.metrics import confusion_matrix, accuracy_score, f1_score, precision_score, recall_score\n",
        "cm = confusion_matrix(y_test, y_pred)\n",
        "accuracy_score(y_test, y_pred)\n",
        "precision_score(y_test, y_pred) # tp / (tp + fp)\n",
        "recall_score(y_test, y_pred) # tp / (tp + fn)\n",
        "f1_score(y_test, y_pred)"
      ],
      "execution_count": 28,
      "outputs": [
        {
          "output_type": "execute_result",
          "data": {
            "text/plain": [
              "0.6145522388059701"
            ]
          },
          "metadata": {
            "tags": []
          },
          "execution_count": 28
        }
      ]
    },
    {
      "cell_type": "code",
      "metadata": {
        "id": "jr3_PAnRx2--",
        "outputId": "bf346bb5-5a74-40cb-f72b-c09be75433dc",
        "colab": {
          "base_uri": "https://localhost:8080/",
          "height": 455
        }
      },
      "source": [
        "df_cm = pd.DataFrame(cm, index = (0, 1), columns = (0, 1))\n",
        "plt.figure(figsize = (10,7))\n",
        "sn.set(font_scale=1.4)\n",
        "sn.heatmap(df_cm, annot=True, fmt='g')\n",
        "print(\"Test Data Accuracy: %0.4f\" % accuracy_score(y_test, y_pred))"
      ],
      "execution_count": 29,
      "outputs": [
        {
          "output_type": "stream",
          "text": [
            "Test Data Accuracy: 0.6174\n"
          ],
          "name": "stdout"
        },
        {
          "output_type": "display_data",
          "data": {
            "image/png": "[encoded data removed]",
            "text/plain": [
              "<Figure size 720x504 with 2 Axes>"
            ]
          },
          "metadata": {
            "tags": [],
            "needs_background": "light"
          }
        }
      ]
    },
    {
      "cell_type": "code",
      "metadata": {
        "id": "XpPZAiwqx3Ea",
        "outputId": "283bcbb9-7e5d-449d-9eee-ef377a88786d",
        "colab": {
          "base_uri": "https://localhost:8080/"
        }
      },
      "source": [
        "# Applying k-Fold Cross Validation\n",
        "from sklearn.model_selection import cross_val_score\n",
        "accuracies = cross_val_score(estimator = classifier, X = X_train, y = y_train, cv = 10)\n",
        "print(\"SVM Accuracy: %0.3f (+/- %0.3f)\" % (accuracies.mean(), accuracies.std() * 2))"
      ],
      "execution_count": 30,
      "outputs": [
        {
          "output_type": "stream",
          "text": [
            "SVM Accuracy: 0.644 (+/- 0.023)\n"
          ],
          "name": "stdout"
        }
      ]
    },
    {
      "cell_type": "code",
      "metadata": {
        "id": "e2kdKEnrx3Ln"
      },
      "source": [
        "# Recursive Feature Elimination\n",
        "from sklearn.feature_selection import RFE\n",
        "from sklearn.linear_model import LogisticRegression"
      ],
      "execution_count": 31,
      "outputs": []
    },
    {
      "cell_type": "code",
      "metadata": {
        "id": "3xwnlJq4x3OS",
        "outputId": "b3748e07-4598-4fc5-f579-76774d404a60",
        "colab": {
          "base_uri": "https://localhost:8080/"
        }
      },
      "source": [
        "# Model to Test\n",
        "classifier = LogisticRegression()\n",
        "# Select Best X Features\n",
        "rfe = RFE(classifier, 20)\n",
        "rfe = rfe.fit(X_train, y_train)\n",
        "# summarize the selection of the attributes\n",
        "print(rfe.support_)\n",
        "print(rfe.ranking_)\n",
        "X_train.columns[rfe.support_]\n"
      ],
      "execution_count": 32,
      "outputs": [
        {
          "output_type": "stream",
          "text": [
            "[ True  True  True  True  True  True  True False False False False  True\n",
            "  True  True  True False  True  True  True  True False  True False  True\n",
            " False False False False  True  True False False  True False False False\n",
            " False False False False False]\n",
            "[ 1  1  1  1  1  1  1 16 13  7 14  1  1  1  1  9  1  1  1  1  3  1  2  1\n",
            "  6  4 15  5  1  1 12 10  1 17 18 20 11 21 22 19  8]\n"
          ],
          "name": "stdout"
        },
        {
          "output_type": "execute_result",
          "data": {
            "text/plain": [
              "Index(['age', 'deposits', 'withdrawal', 'purchases_partners', 'purchases',\n",
              "       'cc_taken', 'cc_recommended', 'web_user', 'ios_user', 'android_user',\n",
              "       'registered_phones', 'cancelled_loan', 'received_loan', 'rejected_loan',\n",
              "       'left_for_two_month_plus', 'reward_rate', 'housing_O',\n",
              "       'payment_type_Weekly', 'zodiac_sign_Aquarius', 'zodiac_sign_Capricorn'],\n",
              "      dtype='object')"
            ]
          },
          "metadata": {
            "tags": []
          },
          "execution_count": 32
        }
      ]
    },
    {
      "cell_type": "code",
      "metadata": {
        "id": "aCVl1ACJx3Q_"
      },
      "source": [
        "# New Correlation Matrix\n",
        "sn.set(style=\"white\")"
      ],
      "execution_count": 33,
      "outputs": []
    },
    {
      "cell_type": "code",
      "metadata": {
        "id": "tX9ieStWx3UX"
      },
      "source": [
        "# Compute the correlation matrix\n",
        "corr = X_train[X_train.columns[rfe.support_]].corr()"
      ],
      "execution_count": 34,
      "outputs": []
    },
    {
      "cell_type": "code",
      "metadata": {
        "id": "2VCyfDevx3YB"
      },
      "source": [
        "# Generate a mask for the upper triangle\n",
        "mask = np.zeros_like(corr, dtype=np.bool)\n",
        "mask[np.triu_indices_from(mask)] = True"
      ],
      "execution_count": 35,
      "outputs": []
    },
    {
      "cell_type": "code",
      "metadata": {
        "id": "JVp44m_Rx3JP",
        "outputId": "ad6770e8-d8f0-4ef3-f996-e5590a44e4e1",
        "colab": {
          "base_uri": "https://localhost:8080/",
          "height": 997
        }
      },
      "source": [
        "# Set up the matplotlib figure\n",
        "f, ax = plt.subplots(figsize=(18, 15))\n",
        "\n",
        "# Generate a custom diverging colormap\n",
        "cmap = sn.diverging_palette(220, 10, as_cmap=True)\n",
        "\n",
        "# Draw the heatmap with the mask and correct aspect ratio\n",
        "sn.heatmap(corr, mask=mask, cmap=cmap, vmax=.3, center=0,\n",
        "            square=True, linewidths=.5, cbar_kws={\"shrink\": .5})  "
      ],
      "execution_count": 36,
      "outputs": [
        {
          "output_type": "execute_result",
          "data": {
            "text/plain": [
              "<matplotlib.axes._subplots.AxesSubplot at 0x7fc15e0bbbe0>"
            ]
          },
          "metadata": {
            "tags": []
          },
          "execution_count": 36
        },
        {
          "output_type": "display_data",
          "data": {
            "image/png": "[encoded data removed]",
            "text/plain": [
              "<Figure size 1296x1080 with 2 Axes>"
            ]
          },
          "metadata": {
            "tags": []
          }
        }
      ]
    },
    {
      "cell_type": "code",
      "metadata": {
        "id": "DkqUwsIvx3Hp",
        "outputId": "282c4e77-56e0-409e-ae86-2f343c33eec7",
        "colab": {
          "base_uri": "https://localhost:8080/"
        }
      },
      "source": [
        "# Fitting Model to the Training Set\n",
        "from sklearn.linear_model import LogisticRegression\n",
        "classifier = LogisticRegression()\n",
        "classifier.fit(X_train[X_train.columns[rfe.support_]], y_train)"
      ],
      "execution_count": 37,
      "outputs": [
        {
          "output_type": "execute_result",
          "data": {
            "text/plain": [
              "LogisticRegression(C=1.0, class_weight=None, dual=False, fit_intercept=True,\n",
              "                   intercept_scaling=1, l1_ratio=None, max_iter=100,\n",
              "                   multi_class='auto', n_jobs=None, penalty='l2',\n",
              "                   random_state=None, solver='lbfgs', tol=0.0001, verbose=0,\n",
              "                   warm_start=False)"
            ]
          },
          "metadata": {
            "tags": []
          },
          "execution_count": 37
        }
      ]
    },
    {
      "cell_type": "code",
      "metadata": {
        "id": "4FmMqsZJx3Br"
      },
      "source": [
        "# Predicting Test Set\n",
        "y_pred = classifier.predict(X_test[X_train.columns[rfe.support_]])"
      ],
      "execution_count": 38,
      "outputs": []
    },
    {
      "cell_type": "code",
      "metadata": {
        "id": "1imwC-9bvLTP",
        "outputId": "e3154f6c-f00f-4cf4-b1f6-0eafd61fb923",
        "colab": {
          "base_uri": "https://localhost:8080/",
          "height": 455
        }
      },
      "source": [
        "# Evaluating Results\n",
        "from sklearn.metrics import confusion_matrix, accuracy_score, f1_score, precision_score, recall_score\n",
        "cm = confusion_matrix(y_test, y_pred)\n",
        "accuracy_score(y_test, y_pred)\n",
        "precision_score(y_test, y_pred) # tp / (tp + fp)\n",
        "recall_score(y_test, y_pred) # tp / (tp + fn)\n",
        "f1_score(y_test, y_pred)\n",
        "\n",
        "df_cm = pd.DataFrame(cm, index = (1, 0), columns = (1, 0))\n",
        "plt.figure(figsize = (10,7))\n",
        "sn.set(font_scale=1.4)\n",
        "sn.heatmap(df_cm, annot=True, fmt='g')\n",
        "print(\"Test Data Accuracy: %0.4f\" % accuracy_score(y_test, y_pred))"
      ],
      "execution_count": 39,
      "outputs": [
        {
          "output_type": "stream",
          "text": [
            "Test Data Accuracy: 0.6131\n"
          ],
          "name": "stdout"
        },
        {
          "output_type": "display_data",
          "data": {
            "image/png": "[encoded data removed]",
            "text/plain": [
              "<Figure size 720x504 with 2 Axes>"
            ]
          },
          "metadata": {
            "tags": []
          }
        }
      ]
    },
    {
      "cell_type": "code",
      "metadata": {
        "id": "9CK5VQjPyrgi",
        "outputId": "5299e0a6-0d81-4a27-d1e5-f431879441b2",
        "colab": {
          "base_uri": "https://localhost:8080/"
        }
      },
      "source": [
        "# Applying k-Fold Cross Validation\n",
        "from sklearn.model_selection import cross_val_score\n",
        "accuracies = cross_val_score(estimator = classifier,\n",
        "                             X = X_train[X_train.columns[rfe.support_]],\n",
        "                             y = y_train, cv = 10)\n",
        "print(\"SVM Accuracy: %0.3f (+/- %0.3f)\" % (accuracies.mean(), accuracies.std() * 2))\n"
      ],
      "execution_count": 40,
      "outputs": [
        {
          "output_type": "stream",
          "text": [
            "SVM Accuracy: 0.641 (+/- 0.022)\n"
          ],
          "name": "stdout"
        }
      ]
    },
    {
      "cell_type": "code",
      "metadata": {
        "id": "cmgFZe9Wyrji",
        "outputId": "75b6e633-f3ea-4f2c-b3be-6cc9320ad67b",
        "colab": {
          "base_uri": "https://localhost:8080/",
          "height": 677
        }
      },
      "source": [
        "# Analyzing Coefficients\n",
        "pd.concat([pd.DataFrame(X_train[X_train.columns[rfe.support_]].columns, columns = [\"features\"]),\n",
        "           pd.DataFrame(np.transpose(classifier.coef_), columns = [\"coef\"])\n",
        "           ],axis = 1)"
      ],
      "execution_count": 41,
      "outputs": [
        {
          "output_type": "execute_result",
          "data": {
            "text/html": [
              "<div>\n",
              "<style scoped>\n",
              "    .dataframe tbody tr th:only-of-type {\n",
              "        vertical-align: middle;\n",
              "    }\n",
              "\n",
              "    .dataframe tbody tr th {\n",
              "        vertical-align: top;\n",
              "    }\n",
              "\n",
              "    .dataframe thead th {\n",
              "        text-align: right;\n",
              "    }\n",
              "</style>\n",
              "<table border=\"1\" class=\"dataframe\">\n",
              "  <thead>\n",
              "    <tr style=\"text-align: right;\">\n",
              "      <th></th>\n",
              "      <th>features</th>\n",
              "      <th>coef</th>\n",
              "    </tr>\n",
              "  </thead>\n",
              "  <tbody>\n",
              "    <tr>\n",
              "      <th>0</th>\n",
              "      <td>age</td>\n",
              "      <td>-0.175204</td>\n",
              "    </tr>\n",
              "    <tr>\n",
              "      <th>1</th>\n",
              "      <td>deposits</td>\n",
              "      <td>0.549879</td>\n",
              "    </tr>\n",
              "    <tr>\n",
              "      <th>2</th>\n",
              "      <td>withdrawal</td>\n",
              "      <td>0.055945</td>\n",
              "    </tr>\n",
              "    <tr>\n",
              "      <th>3</th>\n",
              "      <td>purchases_partners</td>\n",
              "      <td>-0.696535</td>\n",
              "    </tr>\n",
              "    <tr>\n",
              "      <th>4</th>\n",
              "      <td>purchases</td>\n",
              "      <td>-0.687698</td>\n",
              "    </tr>\n",
              "    <tr>\n",
              "      <th>5</th>\n",
              "      <td>cc_taken</td>\n",
              "      <td>0.093839</td>\n",
              "    </tr>\n",
              "    <tr>\n",
              "      <th>6</th>\n",
              "      <td>cc_recommended</td>\n",
              "      <td>0.095227</td>\n",
              "    </tr>\n",
              "    <tr>\n",
              "      <th>7</th>\n",
              "      <td>web_user</td>\n",
              "      <td>0.143638</td>\n",
              "    </tr>\n",
              "    <tr>\n",
              "      <th>8</th>\n",
              "      <td>ios_user</td>\n",
              "      <td>0.057785</td>\n",
              "    </tr>\n",
              "    <tr>\n",
              "      <th>9</th>\n",
              "      <td>android_user</td>\n",
              "      <td>-0.041538</td>\n",
              "    </tr>\n",
              "    <tr>\n",
              "      <th>10</th>\n",
              "      <td>registered_phones</td>\n",
              "      <td>0.095496</td>\n",
              "    </tr>\n",
              "    <tr>\n",
              "      <th>11</th>\n",
              "      <td>cancelled_loan</td>\n",
              "      <td>0.091433</td>\n",
              "    </tr>\n",
              "    <tr>\n",
              "      <th>12</th>\n",
              "      <td>received_loan</td>\n",
              "      <td>0.109835</td>\n",
              "    </tr>\n",
              "    <tr>\n",
              "      <th>13</th>\n",
              "      <td>rejected_loan</td>\n",
              "      <td>0.111686</td>\n",
              "    </tr>\n",
              "    <tr>\n",
              "      <th>14</th>\n",
              "      <td>left_for_two_month_plus</td>\n",
              "      <td>0.051283</td>\n",
              "    </tr>\n",
              "    <tr>\n",
              "      <th>15</th>\n",
              "      <td>reward_rate</td>\n",
              "      <td>-0.216090</td>\n",
              "    </tr>\n",
              "    <tr>\n",
              "      <th>16</th>\n",
              "      <td>housing_O</td>\n",
              "      <td>-0.052517</td>\n",
              "    </tr>\n",
              "    <tr>\n",
              "      <th>17</th>\n",
              "      <td>payment_type_Weekly</td>\n",
              "      <td>0.085309</td>\n",
              "    </tr>\n",
              "    <tr>\n",
              "      <th>18</th>\n",
              "      <td>zodiac_sign_Aquarius</td>\n",
              "      <td>-0.048676</td>\n",
              "    </tr>\n",
              "    <tr>\n",
              "      <th>19</th>\n",
              "      <td>zodiac_sign_Capricorn</td>\n",
              "      <td>0.046885</td>\n",
              "    </tr>\n",
              "  </tbody>\n",
              "</table>\n",
              "</div>"
            ],
            "text/plain": [
              "                   features      coef\n",
              "0                       age -0.175204\n",
              "1                  deposits  0.549879\n",
              "2                withdrawal  0.055945\n",
              "3        purchases_partners -0.696535\n",
              "4                 purchases -0.687698\n",
              "5                  cc_taken  0.093839\n",
              "6            cc_recommended  0.095227\n",
              "7                  web_user  0.143638\n",
              "8                  ios_user  0.057785\n",
              "9              android_user -0.041538\n",
              "10        registered_phones  0.095496\n",
              "11           cancelled_loan  0.091433\n",
              "12            received_loan  0.109835\n",
              "13            rejected_loan  0.111686\n",
              "14  left_for_two_month_plus  0.051283\n",
              "15              reward_rate -0.216090\n",
              "16                housing_O -0.052517\n",
              "17      payment_type_Weekly  0.085309\n",
              "18     zodiac_sign_Aquarius -0.048676\n",
              "19    zodiac_sign_Capricorn  0.046885"
            ]
          },
          "metadata": {
            "tags": []
          },
          "execution_count": 41
        }
      ]
    },
    {
      "cell_type": "code",
      "metadata": {
        "id": "mdB10kIfyrom"
      },
      "source": [
        "# Formatting Final Results\n",
        "final_results = pd.concat([y_test, user_identifier], axis = 1).dropna()\n",
        "final_results['predicted_churn'] = y_pred\n",
        "final_results = final_results[['user', 'churn', 'predicted_churn']].reset_index(drop=True)"
      ],
      "execution_count": 43,
      "outputs": []
    },
    {
      "cell_type": "code",
      "metadata": {
        "id": "SRPePmNkyr3S",
        "outputId": "c87d0c5d-69fa-491b-aa4c-44899875c870",
        "colab": {
          "base_uri": "https://localhost:8080/"
        }
      },
      "source": [
        "print(final_results)"
      ],
      "execution_count": 44,
      "outputs": [
        {
          "output_type": "stream",
          "text": [
            "       user  churn  predicted_churn\n",
            "0     61353    1.0                1\n",
            "1     67679    0.0                0\n",
            "2     21269    0.0                0\n",
            "3     69531    0.0                1\n",
            "4     25997    0.0                0\n",
            "...     ...    ...              ...\n",
            "5395  22377    0.0                1\n",
            "5396  24291    1.0                1\n",
            "5397  23740    0.0                1\n",
            "5398  47663    1.0                0\n",
            "5399  52752    1.0                1\n",
            "\n",
            "[5400 rows x 3 columns]\n"
          ],
          "name": "stdout"
        }
      ]
    },
    {
      "cell_type": "code",
      "metadata": {
        "id": "owyXZfRhyr56"
      },
      "source": [
        ""
      ],
      "execution_count": null,
      "outputs": []
    },
    {
      "cell_type": "code",
      "metadata": {
        "id": "pNxd9bTMyr9P"
      },
      "source": [
        ""
      ],
      "execution_count": null,
      "outputs": []
    },
    {
      "cell_type": "code",
      "metadata": {
        "id": "rYLuGb8KysBj"
      },
      "source": [
        ""
      ],
      "execution_count": null,
      "outputs": []
    },
    {
      "cell_type": "code",
      "metadata": {
        "id": "8oEaiULlysAQ"
      },
      "source": [
        ""
      ],
      "execution_count": null,
      "outputs": []
    },
    {
      "cell_type": "code",
      "metadata": {
        "id": "WVoyQk8Zyrmm"
      },
      "source": [
        ""
      ],
      "execution_count": null,
      "outputs": []
    }
  ]
}