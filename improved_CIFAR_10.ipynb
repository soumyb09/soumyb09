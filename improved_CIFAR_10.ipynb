{
  "nbformat": 4,
  "nbformat_minor": 0,
  "metadata": {
    "colab": {
      "name": "improved_CIFAR_10",
      "provenance": [],
      "authorship_tag": "ABX9TyOl1n05TcoSPxXBLi8vlPSq",
      "include_colab_link": true
    },
    "kernelspec": {
      "name": "python3",
      "display_name": "Python 3"
    },
    "accelerator": "GPU"
  },
  "cells": [
    {
      "cell_type": "markdown",
      "metadata": {
        "id": "view-in-github",
        "colab_type": "text"
      },
      "source": [
        "<a href=\"https://colab.research.google.com/github/soumyb09/soumyb09/blob/tensorflow/improved_CIFAR_10.ipynb\" target=\"_parent\"><img src=\"https://colab.research.google.com/assets/colab-badge.svg\" alt=\"Open In Colab\"/></a>"
      ]
    },
    {
      "cell_type": "code",
      "metadata": {
        "id": "Ui15ZOsDf8bM",
        "colab_type": "code",
        "colab": {}
      },
      "source": [
        "import tensorflow as tf"
      ],
      "execution_count": 3,
      "outputs": []
    },
    {
      "cell_type": "code",
      "metadata": {
        "id": "cVrzsDJxtpX6",
        "colab_type": "code",
        "colab": {}
      },
      "source": [
        "# additional imports\n",
        "\n",
        "import numpy as np\n",
        "import matplotlib.pyplot as plt\n",
        "from tensorflow.keras.layers import Input, Conv2D, Dense, Flatten, Dropout, GlobalMaxPooling2D, MaxPooling2D, BatchNormalization\n",
        "from tensorflow.keras.models import Model"
      ],
      "execution_count": 4,
      "outputs": []
    },
    {
      "cell_type": "code",
      "metadata": {
        "id": "_ul-FIzotpgs",
        "colab_type": "code",
        "colab": {
          "base_uri": "https://localhost:8080/",
          "height": 91
        },
        "outputId": "77bb1aba-b4f0-47d0-8a79-e6b4020474c5"
      },
      "source": [
        "#loding data\n",
        "cifar10 = tf.keras.datasets.cifar10\n",
        "\n",
        "(x_train, y_train), (x_test, y_test) = cifar10.load_data()\n",
        "x_train, x_test = x_train / 255.0, x_test / 255.0\n",
        "y_train, y_test = y_train.flatten(), y_test.flatten()\n",
        "print(\"x_train.shape:\", x_train.shape)\n",
        "print(\"y_train.shape\", y_train.shape)"
      ],
      "execution_count": 5,
      "outputs": [
        {
          "output_type": "stream",
          "text": [
            "Downloading data from https://www.cs.toronto.edu/~kriz/cifar-10-python.tar.gz\n",
            "170500096/170498071 [==============================] - 11s 0us/step\n",
            "x_train.shape: (50000, 32, 32, 3)\n",
            "y_train.shape (50000,)\n"
          ],
          "name": "stdout"
        }
      ]
    },
    {
      "cell_type": "code",
      "metadata": {
        "id": "myQAjEJdtpko",
        "colab_type": "code",
        "colab": {
          "base_uri": "https://localhost:8080/",
          "height": 36
        },
        "outputId": "f35295b4-f357-49de-d2c7-8106a8091e55"
      },
      "source": [
        "K = len(set(y_train))\n",
        "print(\"number of classes:\", K)"
      ],
      "execution_count": 6,
      "outputs": [
        {
          "output_type": "stream",
          "text": [
            "number of classes: 10\n"
          ],
          "name": "stdout"
        }
      ]
    },
    {
      "cell_type": "code",
      "metadata": {
        "id": "dYsu0JHYtpoL",
        "colab_type": "code",
        "colab": {}
      },
      "source": [
        "# Build the model using the functional API\n",
        "i = Input(shape=x_train[0].shape)\n",
        "# x = Conv2D(32, (3, 3), strides=2, activation='relu')(i)\n",
        "# x = Conv2D(64, (3, 3), strides=2, activation='relu')(x)\n",
        "# x = Conv2D(128, (3, 3), strides=2, activation='relu')(x)\n",
        "\n",
        "x = Conv2D(32, (3, 3), activation='relu', padding='same')(i)\n",
        "x = BatchNormalization()(x)\n",
        "x = Conv2D(32, (3, 3), activation='relu', padding='same')(x)\n",
        "x = BatchNormalization()(x)\n",
        "x = MaxPooling2D((2, 2))(x)\n",
        "# x = Dropout(0.2)(x)\n",
        "x = Conv2D(64, (3, 3), activation='relu', padding='same')(x)\n",
        "x = BatchNormalization()(x)\n",
        "x = Conv2D(64, (3, 3), activation='relu', padding='same')(x)\n",
        "x = BatchNormalization()(x)\n",
        "x = MaxPooling2D((2, 2))(x)\n",
        "# x = Dropout(0.2)(x)\n",
        "x = Conv2D(128, (3, 3), activation='relu', padding='same')(x)\n",
        "x = BatchNormalization()(x)\n",
        "x = Conv2D(128, (3, 3), activation='relu', padding='same')(x)\n",
        "x = BatchNormalization()(x)\n",
        "x = MaxPooling2D((2, 2))(x)\n",
        "# x = Dropout(0.2)(x)\n",
        "\n",
        "# x = GlobalMaxPooling2D()(x)\n",
        "x = Flatten()(x)\n",
        "x = Dropout(0.2)(x)\n",
        "x = Dense(1024, activation='relu')(x)\n",
        "x = Dropout(0.2)(x)\n",
        "x = Dense(K, activation='softmax')(x)\n",
        "\n",
        "model = Model(i, x)"
      ],
      "execution_count": 7,
      "outputs": []
    },
    {
      "cell_type": "code",
      "metadata": {
        "id": "ZlEXQgcltpuL",
        "colab_type": "code",
        "colab": {
          "base_uri": "https://localhost:8080/",
          "height": 1000
        },
        "outputId": "ec07d7d4-a399-4271-bad3-348c843e05ae"
      },
      "source": [
        "# Compile and fit\n",
        "model.compile(optimizer='adam',\n",
        "              loss='sparse_categorical_crossentropy',\n",
        "              metrics=['accuracy'])\n",
        "r = model.fit(x_train, y_train, validation_data=(x_test, y_test), epochs=50)"
      ],
      "execution_count": 8,
      "outputs": [
        {
          "output_type": "stream",
          "text": [
            "Epoch 1/50\n",
            "1563/1563 [==============================] - 24s 15ms/step - loss: 1.3078 - accuracy: 0.5504 - val_loss: 1.5028 - val_accuracy: 0.5072\n",
            "Epoch 2/50\n",
            "1563/1563 [==============================] - 23s 15ms/step - loss: 0.8429 - accuracy: 0.7063 - val_loss: 0.8559 - val_accuracy: 0.7067\n",
            "Epoch 3/50\n",
            "1563/1563 [==============================] - 23s 15ms/step - loss: 0.6886 - accuracy: 0.7635 - val_loss: 0.8130 - val_accuracy: 0.7227\n",
            "Epoch 4/50\n",
            "1563/1563 [==============================] - 23s 15ms/step - loss: 0.5817 - accuracy: 0.7987 - val_loss: 0.6188 - val_accuracy: 0.7894\n",
            "Epoch 5/50\n",
            "1563/1563 [==============================] - 23s 15ms/step - loss: 0.4905 - accuracy: 0.8313 - val_loss: 0.6349 - val_accuracy: 0.7991\n",
            "Epoch 6/50\n",
            "1563/1563 [==============================] - 23s 15ms/step - loss: 0.4151 - accuracy: 0.8570 - val_loss: 0.8248 - val_accuracy: 0.7395\n",
            "Epoch 7/50\n",
            "1563/1563 [==============================] - 23s 15ms/step - loss: 0.3489 - accuracy: 0.8784 - val_loss: 0.6099 - val_accuracy: 0.8025\n",
            "Epoch 8/50\n",
            "1563/1563 [==============================] - 23s 15ms/step - loss: 0.2986 - accuracy: 0.8974 - val_loss: 0.5949 - val_accuracy: 0.8131\n",
            "Epoch 9/50\n",
            "1563/1563 [==============================] - 23s 15ms/step - loss: 0.2546 - accuracy: 0.9124 - val_loss: 0.6411 - val_accuracy: 0.8081\n",
            "Epoch 10/50\n",
            "1563/1563 [==============================] - 23s 15ms/step - loss: 0.2151 - accuracy: 0.9262 - val_loss: 0.6028 - val_accuracy: 0.8193\n",
            "Epoch 11/50\n",
            "1563/1563 [==============================] - 23s 15ms/step - loss: 0.1918 - accuracy: 0.9345 - val_loss: 0.7743 - val_accuracy: 0.7936\n",
            "Epoch 12/50\n",
            "1563/1563 [==============================] - 23s 15ms/step - loss: 0.1742 - accuracy: 0.9401 - val_loss: 0.6658 - val_accuracy: 0.8296\n",
            "Epoch 13/50\n",
            "1563/1563 [==============================] - 23s 15ms/step - loss: 0.1548 - accuracy: 0.9477 - val_loss: 0.6410 - val_accuracy: 0.8262\n",
            "Epoch 14/50\n",
            "1563/1563 [==============================] - 23s 15ms/step - loss: 0.1376 - accuracy: 0.9544 - val_loss: 0.6907 - val_accuracy: 0.8256\n",
            "Epoch 15/50\n",
            "1563/1563 [==============================] - 23s 15ms/step - loss: 0.1322 - accuracy: 0.9554 - val_loss: 0.7423 - val_accuracy: 0.8120\n",
            "Epoch 16/50\n",
            "1563/1563 [==============================] - 23s 15ms/step - loss: 0.1222 - accuracy: 0.9589 - val_loss: 0.7549 - val_accuracy: 0.8330\n",
            "Epoch 17/50\n",
            "1563/1563 [==============================] - 23s 15ms/step - loss: 0.1155 - accuracy: 0.9613 - val_loss: 0.7056 - val_accuracy: 0.8332\n",
            "Epoch 18/50\n",
            "1563/1563 [==============================] - 23s 15ms/step - loss: 0.1079 - accuracy: 0.9637 - val_loss: 0.7193 - val_accuracy: 0.8334\n",
            "Epoch 19/50\n",
            "1563/1563 [==============================] - 23s 15ms/step - loss: 0.1026 - accuracy: 0.9663 - val_loss: 0.7225 - val_accuracy: 0.8344\n",
            "Epoch 20/50\n",
            "1563/1563 [==============================] - 23s 15ms/step - loss: 0.0890 - accuracy: 0.9715 - val_loss: 0.7812 - val_accuracy: 0.8243\n",
            "Epoch 21/50\n",
            "1563/1563 [==============================] - 23s 15ms/step - loss: 0.0897 - accuracy: 0.9705 - val_loss: 0.7374 - val_accuracy: 0.8336\n",
            "Epoch 22/50\n",
            "1563/1563 [==============================] - 23s 15ms/step - loss: 0.0861 - accuracy: 0.9719 - val_loss: 0.8857 - val_accuracy: 0.8211\n",
            "Epoch 23/50\n",
            "1563/1563 [==============================] - 23s 15ms/step - loss: 0.0770 - accuracy: 0.9753 - val_loss: 0.8133 - val_accuracy: 0.8403\n",
            "Epoch 24/50\n",
            "1563/1563 [==============================] - 23s 15ms/step - loss: 0.0808 - accuracy: 0.9726 - val_loss: 0.8044 - val_accuracy: 0.8344\n",
            "Epoch 25/50\n",
            "1563/1563 [==============================] - 23s 15ms/step - loss: 0.0736 - accuracy: 0.9757 - val_loss: 0.7495 - val_accuracy: 0.8354\n",
            "Epoch 26/50\n",
            "1563/1563 [==============================] - 23s 15ms/step - loss: 0.0720 - accuracy: 0.9757 - val_loss: 0.7578 - val_accuracy: 0.8324\n",
            "Epoch 27/50\n",
            "1563/1563 [==============================] - 23s 15ms/step - loss: 0.0741 - accuracy: 0.9749 - val_loss: 0.6941 - val_accuracy: 0.8369\n",
            "Epoch 28/50\n",
            "1563/1563 [==============================] - 23s 15ms/step - loss: 0.0641 - accuracy: 0.9800 - val_loss: 0.7931 - val_accuracy: 0.8413\n",
            "Epoch 29/50\n",
            "1563/1563 [==============================] - 23s 15ms/step - loss: 0.0601 - accuracy: 0.9807 - val_loss: 0.8505 - val_accuracy: 0.8342\n",
            "Epoch 30/50\n",
            "1563/1563 [==============================] - 23s 15ms/step - loss: 0.0636 - accuracy: 0.9799 - val_loss: 0.8417 - val_accuracy: 0.8404\n",
            "Epoch 31/50\n",
            "1563/1563 [==============================] - 23s 15ms/step - loss: 0.0644 - accuracy: 0.9785 - val_loss: 0.8448 - val_accuracy: 0.8334\n",
            "Epoch 32/50\n",
            "1563/1563 [==============================] - 23s 15ms/step - loss: 0.0560 - accuracy: 0.9824 - val_loss: 0.8898 - val_accuracy: 0.8337\n",
            "Epoch 33/50\n",
            "1563/1563 [==============================] - 23s 15ms/step - loss: 0.0551 - accuracy: 0.9813 - val_loss: 0.8844 - val_accuracy: 0.8320\n",
            "Epoch 34/50\n",
            "1563/1563 [==============================] - 23s 15ms/step - loss: 0.0541 - accuracy: 0.9830 - val_loss: 0.8594 - val_accuracy: 0.8330\n",
            "Epoch 35/50\n",
            "1563/1563 [==============================] - 23s 15ms/step - loss: 0.0591 - accuracy: 0.9810 - val_loss: 0.8315 - val_accuracy: 0.8433\n",
            "Epoch 36/50\n",
            "1563/1563 [==============================] - 24s 15ms/step - loss: 0.0508 - accuracy: 0.9835 - val_loss: 0.8543 - val_accuracy: 0.8256\n",
            "Epoch 37/50\n",
            "1563/1563 [==============================] - 23s 15ms/step - loss: 0.0522 - accuracy: 0.9829 - val_loss: 0.8525 - val_accuracy: 0.8342\n",
            "Epoch 38/50\n",
            "1563/1563 [==============================] - 23s 15ms/step - loss: 0.0508 - accuracy: 0.9835 - val_loss: 0.7282 - val_accuracy: 0.8468\n",
            "Epoch 39/50\n",
            "1563/1563 [==============================] - 23s 15ms/step - loss: 0.0430 - accuracy: 0.9853 - val_loss: 0.7910 - val_accuracy: 0.8391\n",
            "Epoch 40/50\n",
            "1563/1563 [==============================] - 23s 15ms/step - loss: 0.0469 - accuracy: 0.9849 - val_loss: 0.8370 - val_accuracy: 0.8425\n",
            "Epoch 41/50\n",
            "1563/1563 [==============================] - 23s 15ms/step - loss: 0.0466 - accuracy: 0.9853 - val_loss: 0.9135 - val_accuracy: 0.8331\n",
            "Epoch 42/50\n",
            "1563/1563 [==============================] - 23s 15ms/step - loss: 0.0455 - accuracy: 0.9853 - val_loss: 0.8159 - val_accuracy: 0.8400\n",
            "Epoch 43/50\n",
            "1563/1563 [==============================] - 23s 15ms/step - loss: 0.0457 - accuracy: 0.9853 - val_loss: 0.9746 - val_accuracy: 0.8394\n",
            "Epoch 44/50\n",
            "1563/1563 [==============================] - 23s 15ms/step - loss: 0.0414 - accuracy: 0.9862 - val_loss: 0.9043 - val_accuracy: 0.8421\n",
            "Epoch 45/50\n",
            "1563/1563 [==============================] - 23s 15ms/step - loss: 0.0498 - accuracy: 0.9847 - val_loss: 0.8113 - val_accuracy: 0.8444\n",
            "Epoch 46/50\n",
            "1563/1563 [==============================] - 23s 15ms/step - loss: 0.0420 - accuracy: 0.9868 - val_loss: 0.8345 - val_accuracy: 0.8451\n",
            "Epoch 47/50\n",
            "1563/1563 [==============================] - 23s 15ms/step - loss: 0.0365 - accuracy: 0.9882 - val_loss: 0.8989 - val_accuracy: 0.8424\n",
            "Epoch 48/50\n",
            "1563/1563 [==============================] - 23s 15ms/step - loss: 0.0417 - accuracy: 0.9873 - val_loss: 0.9412 - val_accuracy: 0.8220\n",
            "Epoch 49/50\n",
            "1563/1563 [==============================] - 23s 15ms/step - loss: 0.0401 - accuracy: 0.9872 - val_loss: 0.9250 - val_accuracy: 0.8334\n",
            "Epoch 50/50\n",
            "1563/1563 [==============================] - 23s 15ms/step - loss: 0.0397 - accuracy: 0.9878 - val_loss: 1.0222 - val_accuracy: 0.8438\n"
          ],
          "name": "stdout"
        }
      ]
    },
    {
      "cell_type": "code",
      "metadata": {
        "id": "kgx1iWPC5e4b",
        "colab_type": "code",
        "colab": {
          "base_uri": "https://localhost:8080/",
          "height": 1000
        },
        "outputId": "7526a7c2-c6bc-4a43-e90d-e56ee3b4159f"
      },
      "source": [
        "# Fit with data augmentation\n",
        "batch_size = 32\n",
        "data_generator = tf.keras.preprocessing.image.ImageDataGenerator(width_shift_range=0.1, height_shift_range=0.1, horizontal_flip=True)\n",
        "train_generator = data_generator.flow(x_train, y_train, batch_size)\n",
        "steps_per_epoch = x_train.shape[0] // batch_size\n",
        "r = model.fit(train_generator, validation_data=(x_test, y_test), steps_per_epoch=steps_per_epoch, epochs=50)"
      ],
      "execution_count": 12,
      "outputs": [
        {
          "output_type": "stream",
          "text": [
            "Epoch 1/50\n",
            "1562/1562 [==============================] - 56s 36ms/step - loss: 0.1693 - accuracy: 0.9424 - val_loss: 0.4452 - val_accuracy: 0.8796\n",
            "Epoch 2/50\n",
            "1562/1562 [==============================] - 46s 29ms/step - loss: 0.1603 - accuracy: 0.9463 - val_loss: 0.4147 - val_accuracy: 0.8713\n",
            "Epoch 3/50\n",
            "1562/1562 [==============================] - 46s 29ms/step - loss: 0.1607 - accuracy: 0.9467 - val_loss: 0.4207 - val_accuracy: 0.8743\n",
            "Epoch 4/50\n",
            "1562/1562 [==============================] - 45s 29ms/step - loss: 0.1526 - accuracy: 0.9506 - val_loss: 0.4391 - val_accuracy: 0.8883\n",
            "Epoch 5/50\n",
            "1562/1562 [==============================] - 45s 29ms/step - loss: 0.1603 - accuracy: 0.9463 - val_loss: 0.4399 - val_accuracy: 0.8821\n",
            "Epoch 6/50\n",
            "1562/1562 [==============================] - 45s 29ms/step - loss: 0.1576 - accuracy: 0.9477 - val_loss: 0.4719 - val_accuracy: 0.8867\n",
            "Epoch 7/50\n",
            "1562/1562 [==============================] - 45s 29ms/step - loss: 0.1488 - accuracy: 0.9505 - val_loss: 0.4355 - val_accuracy: 0.8819\n",
            "Epoch 8/50\n",
            "1562/1562 [==============================] - 45s 29ms/step - loss: 0.1554 - accuracy: 0.9487 - val_loss: 0.3880 - val_accuracy: 0.8815\n",
            "Epoch 9/50\n",
            "1562/1562 [==============================] - 45s 29ms/step - loss: 0.1527 - accuracy: 0.9498 - val_loss: 0.4904 - val_accuracy: 0.8739\n",
            "Epoch 10/50\n",
            "1562/1562 [==============================] - 45s 29ms/step - loss: 0.1499 - accuracy: 0.9490 - val_loss: 0.4476 - val_accuracy: 0.8839\n",
            "Epoch 11/50\n",
            "1562/1562 [==============================] - 45s 29ms/step - loss: 0.1467 - accuracy: 0.9502 - val_loss: 0.4251 - val_accuracy: 0.8842\n",
            "Epoch 12/50\n",
            "1562/1562 [==============================] - 45s 29ms/step - loss: 0.1471 - accuracy: 0.9502 - val_loss: 0.4208 - val_accuracy: 0.8825\n",
            "Epoch 13/50\n",
            "1562/1562 [==============================] - 45s 29ms/step - loss: 0.1439 - accuracy: 0.9526 - val_loss: 0.4255 - val_accuracy: 0.8894\n",
            "Epoch 14/50\n",
            "1562/1562 [==============================] - 45s 29ms/step - loss: 0.1476 - accuracy: 0.9502 - val_loss: 0.4374 - val_accuracy: 0.8830\n",
            "Epoch 15/50\n",
            "1562/1562 [==============================] - 45s 29ms/step - loss: 0.1447 - accuracy: 0.9518 - val_loss: 0.4198 - val_accuracy: 0.8871\n",
            "Epoch 16/50\n",
            "1562/1562 [==============================] - 45s 29ms/step - loss: 0.1429 - accuracy: 0.9514 - val_loss: 0.4387 - val_accuracy: 0.8794\n",
            "Epoch 17/50\n",
            "1562/1562 [==============================] - 45s 29ms/step - loss: 0.1429 - accuracy: 0.9528 - val_loss: 0.4085 - val_accuracy: 0.8895\n",
            "Epoch 18/50\n",
            "1562/1562 [==============================] - 45s 29ms/step - loss: 0.1424 - accuracy: 0.9526 - val_loss: 0.4271 - val_accuracy: 0.8785\n",
            "Epoch 19/50\n",
            "1562/1562 [==============================] - 45s 29ms/step - loss: 0.1381 - accuracy: 0.9535 - val_loss: 0.4347 - val_accuracy: 0.8806\n",
            "Epoch 20/50\n",
            "1562/1562 [==============================] - 45s 29ms/step - loss: 0.1340 - accuracy: 0.9561 - val_loss: 0.4935 - val_accuracy: 0.8844\n",
            "Epoch 21/50\n",
            "1562/1562 [==============================] - 45s 29ms/step - loss: 0.1368 - accuracy: 0.9549 - val_loss: 0.4683 - val_accuracy: 0.8851\n",
            "Epoch 22/50\n",
            "1562/1562 [==============================] - 45s 29ms/step - loss: 0.1398 - accuracy: 0.9539 - val_loss: 0.4723 - val_accuracy: 0.8866\n",
            "Epoch 23/50\n",
            "1562/1562 [==============================] - 46s 29ms/step - loss: 0.1362 - accuracy: 0.9551 - val_loss: 0.4575 - val_accuracy: 0.8805\n",
            "Epoch 24/50\n",
            "1562/1562 [==============================] - 45s 29ms/step - loss: 0.1367 - accuracy: 0.9547 - val_loss: 0.4926 - val_accuracy: 0.8840\n",
            "Epoch 25/50\n",
            "1562/1562 [==============================] - 45s 29ms/step - loss: 0.1352 - accuracy: 0.9541 - val_loss: 0.4761 - val_accuracy: 0.8807\n",
            "Epoch 26/50\n",
            "1562/1562 [==============================] - 45s 29ms/step - loss: 0.1321 - accuracy: 0.9558 - val_loss: 0.4363 - val_accuracy: 0.8858\n",
            "Epoch 27/50\n",
            "1562/1562 [==============================] - 45s 29ms/step - loss: 0.1317 - accuracy: 0.9569 - val_loss: 0.4455 - val_accuracy: 0.8824\n",
            "Epoch 28/50\n",
            "1562/1562 [==============================] - 45s 29ms/step - loss: 0.1288 - accuracy: 0.9577 - val_loss: 0.4531 - val_accuracy: 0.8817\n",
            "Epoch 29/50\n",
            "1562/1562 [==============================] - 45s 29ms/step - loss: 0.1325 - accuracy: 0.9568 - val_loss: 0.4604 - val_accuracy: 0.8787\n",
            "Epoch 30/50\n",
            "1562/1562 [==============================] - 45s 29ms/step - loss: 0.1320 - accuracy: 0.9567 - val_loss: 0.4788 - val_accuracy: 0.8734\n",
            "Epoch 31/50\n",
            "1562/1562 [==============================] - 45s 29ms/step - loss: 0.1291 - accuracy: 0.9569 - val_loss: 0.4209 - val_accuracy: 0.8819\n",
            "Epoch 32/50\n",
            "1562/1562 [==============================] - 45s 29ms/step - loss: 0.1309 - accuracy: 0.9576 - val_loss: 0.4246 - val_accuracy: 0.8817\n",
            "Epoch 33/50\n",
            "1562/1562 [==============================] - 45s 29ms/step - loss: 0.1299 - accuracy: 0.9576 - val_loss: 0.5167 - val_accuracy: 0.8791\n",
            "Epoch 34/50\n",
            "1562/1562 [==============================] - 45s 29ms/step - loss: 0.1324 - accuracy: 0.9565 - val_loss: 0.4585 - val_accuracy: 0.8842\n",
            "Epoch 35/50\n",
            "1562/1562 [==============================] - 45s 29ms/step - loss: 0.1229 - accuracy: 0.9589 - val_loss: 0.4540 - val_accuracy: 0.8827\n",
            "Epoch 36/50\n",
            "1562/1562 [==============================] - 45s 29ms/step - loss: 0.1324 - accuracy: 0.9570 - val_loss: 0.4026 - val_accuracy: 0.8865\n",
            "Epoch 37/50\n",
            "1562/1562 [==============================] - 45s 29ms/step - loss: 0.1288 - accuracy: 0.9572 - val_loss: 0.4795 - val_accuracy: 0.8823\n",
            "Epoch 38/50\n",
            "1562/1562 [==============================] - 45s 29ms/step - loss: 0.1217 - accuracy: 0.9596 - val_loss: 0.4604 - val_accuracy: 0.8857\n",
            "Epoch 39/50\n",
            "1562/1562 [==============================] - 45s 29ms/step - loss: 0.1285 - accuracy: 0.9583 - val_loss: 0.4402 - val_accuracy: 0.8870\n",
            "Epoch 40/50\n",
            "1562/1562 [==============================] - 45s 29ms/step - loss: 0.1232 - accuracy: 0.9597 - val_loss: 0.4423 - val_accuracy: 0.8860\n",
            "Epoch 41/50\n",
            "1562/1562 [==============================] - 45s 29ms/step - loss: 0.1251 - accuracy: 0.9591 - val_loss: 0.4343 - val_accuracy: 0.8818\n",
            "Epoch 42/50\n",
            "1562/1562 [==============================] - 45s 29ms/step - loss: 0.1265 - accuracy: 0.9592 - val_loss: 0.5044 - val_accuracy: 0.8904\n",
            "Epoch 43/50\n",
            "1562/1562 [==============================] - 45s 29ms/step - loss: 0.1206 - accuracy: 0.9600 - val_loss: 0.4445 - val_accuracy: 0.8899\n",
            "Epoch 44/50\n",
            "1562/1562 [==============================] - 46s 29ms/step - loss: 0.1200 - accuracy: 0.9602 - val_loss: 0.4632 - val_accuracy: 0.8892\n",
            "Epoch 45/50\n",
            "1562/1562 [==============================] - 45s 29ms/step - loss: 0.1222 - accuracy: 0.9592 - val_loss: 0.4348 - val_accuracy: 0.8872\n",
            "Epoch 46/50\n",
            "1562/1562 [==============================] - 45s 29ms/step - loss: 0.1228 - accuracy: 0.9604 - val_loss: 0.4650 - val_accuracy: 0.8814\n",
            "Epoch 47/50\n",
            "1562/1562 [==============================] - 45s 29ms/step - loss: 0.1200 - accuracy: 0.9604 - val_loss: 0.4414 - val_accuracy: 0.8881\n",
            "Epoch 48/50\n",
            "1562/1562 [==============================] - 45s 29ms/step - loss: 0.1213 - accuracy: 0.9599 - val_loss: 0.4413 - val_accuracy: 0.8842\n",
            "Epoch 49/50\n",
            "1562/1562 [==============================] - 45s 29ms/step - loss: 0.1186 - accuracy: 0.9613 - val_loss: 0.4803 - val_accuracy: 0.8907\n",
            "Epoch 50/50\n",
            "1562/1562 [==============================] - 45s 29ms/step - loss: 0.1180 - accuracy: 0.9608 - val_loss: 0.4397 - val_accuracy: 0.8830\n"
          ],
          "name": "stdout"
        }
      ]
    },
    {
      "cell_type": "code",
      "metadata": {
        "id": "sujPwbeytp3o",
        "colab_type": "code",
        "colab": {
          "base_uri": "https://localhost:8080/",
          "height": 284
        },
        "outputId": "bda4c366-61ea-4e9a-d2e0-ad6d79789813"
      },
      "source": [
        "#plotting loss per iteration\n",
        "import matplotlib.pyplot as plt\n",
        "plt.plot(r.history['loss'], label = 'loss')\n",
        "plt.plot(r.history['val_loss'], label = 'val_loss')\n",
        "plt.legend()"
      ],
      "execution_count": 13,
      "outputs": [
        {
          "output_type": "execute_result",
          "data": {
            "text/plain": [
              "<matplotlib.legend.Legend at 0x7f9ecc6004e0>"
            ]
          },
          "metadata": {
            "tags": []
          },
          "execution_count": 13
        },
        {
          "output_type": "display_data",
          "data": {
            "image/png": "[encoded data removed]",
            "text/plain": [
              "<Figure size 432x288 with 1 Axes>"
            ]
          },
          "metadata": {
            "tags": [],
            "needs_background": "light"
          }
        }
      ]
    },
    {
      "cell_type": "code",
      "metadata": {
        "id": "4LN9cifbtp8Y",
        "colab_type": "code",
        "colab": {
          "base_uri": "https://localhost:8080/",
          "height": 284
        },
        "outputId": "72639e6f-37b9-4cc0-aa65-fb493553e2dc"
      },
      "source": [
        "#plotting accuracy per iteration\n",
        "plt.plot(r.history['accuracy'], label = 'accuracy')\n",
        "plt.plot(r.history['val_accuracy'], label = 'val_accuracy')\n",
        "plt.legend()"
      ],
      "execution_count": 14,
      "outputs": [
        {
          "output_type": "execute_result",
          "data": {
            "text/plain": [
              "<matplotlib.legend.Legend at 0x7f9ecb8aef60>"
            ]
          },
          "metadata": {
            "tags": []
          },
          "execution_count": 14
        },
        {
          "output_type": "display_data",
          "data": {
            "image/png": "[encoded data removed]",
            "text/plain": [
              "<Figure size 432x288 with 1 Axes>"
            ]
          },
          "metadata": {
            "tags": [],
            "needs_background": "light"
          }
        }
      ]
    },
    {
      "cell_type": "code",
      "metadata": {
        "id": "s76X4NaKtp_w",
        "colab_type": "code",
        "colab": {
          "base_uri": "https://localhost:8080/",
          "height": 54
        },
        "outputId": "df2fdcb1-6e26-4fab-f56a-a3221b5d3b22"
      },
      "source": [
        "print(model.evaluate(x_test, y_test)) #evaluating model"
      ],
      "execution_count": 15,
      "outputs": [
        {
          "output_type": "stream",
          "text": [
            "313/313 [==============================] - 2s 6ms/step - loss: 0.4397 - accuracy: 0.8830\n",
            "[0.43965184688568115, 0.8830000162124634]\n"
          ],
          "name": "stdout"
        }
      ]
    },
    {
      "cell_type": "code",
      "metadata": {
        "id": "2XBA-GNHtp6i",
        "colab_type": "code",
        "colab": {
          "base_uri": "https://localhost:8080/",
          "height": 516
        },
        "outputId": "d6020d28-5bc2-4c87-81c0-0aec523e66e7"
      },
      "source": [
        "# confusion matrix\n",
        "from sklearn.metrics import confusion_matrix\n",
        "import itertools\n",
        "\n",
        "def plot_confusion_matrix(cm, classes,\n",
        "                          normalize=False,\n",
        "                          title='Confusion matrix',\n",
        "                          cmap=plt.cm.Blues):\n",
        "  \"\"\"\n",
        "  This function prints and plots the confusion matrix.\n",
        "  Normalization can be applied by setting `normalize=True`.\n",
        "  \"\"\"\n",
        "  if normalize:\n",
        "      cm = cm.astype('float') / cm.sum(axis=1)[:, np.newaxis]\n",
        "      print(\"Normalized confusion matrix\")\n",
        "  else:\n",
        "      print('Confusion matrix, without normalization')\n",
        "\n",
        "  print(cm)\n",
        "\n",
        "  plt.imshow(cm, interpolation='nearest', cmap=cmap)\n",
        "  plt.title(title)\n",
        "  plt.colorbar()\n",
        "  tick_marks = np.arange(len(classes))\n",
        "  plt.xticks(tick_marks, classes, rotation=45)\n",
        "  plt.yticks(tick_marks, classes)\n",
        "\n",
        "  fmt = '.2f' if normalize else 'd'\n",
        "  thresh = cm.max() / 2.\n",
        "  for i, j in itertools.product(range(cm.shape[0]), range(cm.shape[1])):\n",
        "      plt.text(j, i, format(cm[i, j], fmt),\n",
        "               horizontalalignment=\"center\",\n",
        "               color=\"white\" if cm[i, j] > thresh else \"black\")\n",
        "\n",
        "  plt.tight_layout()\n",
        "  plt.ylabel('True label')\n",
        "  plt.xlabel('Predicted label')\n",
        "  plt.show()\n",
        "\n",
        "\n",
        "p_test = model.predict(x_test).argmax(axis=1)\n",
        "cm = confusion_matrix(y_test, p_test)\n",
        "plot_confusion_matrix(cm, list(range(10)))"
      ],
      "execution_count": 16,
      "outputs": [
        {
          "output_type": "stream",
          "text": [
            "Confusion matrix, without normalization\n",
            "[[889   4  40   6   4   4   7  12  21  13]\n",
            " [  4 963   2   1   0   0   1   0   3  26]\n",
            " [ 16   2 817  32  31  26  61   7   5   3]\n",
            " [ 10   1  28 759  29  76  66  13   6  12]\n",
            " [  7   0  20  29 882  12  40   9   1   0]\n",
            " [  5   0  13  99  26 804  28  15   2   8]\n",
            " [  3   2  11  17   5   3 955   0   1   3]\n",
            " [ 10   0  14  20  24  21   7 898   2   4]\n",
            " [ 35   8   3   4   2   0   5   1 927  15]\n",
            " [  4  47   0   1   1   1   3   2   5 936]]\n"
          ],
          "name": "stdout"
        },
        {
          "output_type": "display_data",
          "data": {
            "image/png": "[encoded data removed]",
            "text/plain": [
              "<Figure size 432x288 with 2 Axes>"
            ]
          },
          "metadata": {
            "tags": [],
            "needs_background": "light"
          }
        }
      ]
    },
    {
      "cell_type": "code",
      "metadata": {
        "id": "Rapkq8rotp1I",
        "colab_type": "code",
        "colab": {}
      },
      "source": [
        "# label mapping\n",
        "labels = '''airplane\n",
        "automobile\n",
        "bird\n",
        "cat\n",
        "deer\n",
        "dog\n",
        "frog\n",
        "horse\n",
        "ship\n",
        "truck'''.split()"
      ],
      "execution_count": 17,
      "outputs": []
    },
    {
      "cell_type": "code",
      "metadata": {
        "id": "lZWwW1Istpyv",
        "colab_type": "code",
        "colab": {
          "base_uri": "https://localhost:8080/",
          "height": 281
        },
        "outputId": "cd1f21f4-6b43-4476-c4e3-06b8f681a6c9"
      },
      "source": [
        "misclassified_idx = np.where(p_test != y_test)[0]\n",
        "i = np.random.choice(misclassified_idx)\n",
        "plt.imshow(x_test[i], cmap='gray')\n",
        "plt.title(\"True label: %s Predicted: %s\" % (labels[y_test[i]], labels[p_test[i]]));"
      ],
      "execution_count": 18,
      "outputs": [
        {
          "output_type": "display_data",
          "data": {
            "image/png": "[encoded data removed]",
            "text/plain": [
              "<Figure size 432x288 with 1 Axes>"
            ]
          },
          "metadata": {
            "tags": [],
            "needs_background": "light"
          }
        }
      ]
    },
    {
      "cell_type": "code",
      "metadata": {
        "id": "5ZA2KZ381eHv",
        "colab_type": "code",
        "colab": {
          "base_uri": "https://localhost:8080/",
          "height": 281
        },
        "outputId": "abd3404f-9f17-4390-83f1-98169c6e8502"
      },
      "source": [
        "classified_idx = np.where(p_test == y_test)[0]\n",
        "i = np.random.choice(classified_idx)\n",
        "plt.imshow(x_test[i], cmap='gray')\n",
        "plt.title(\"True label: %s Predicted: %s\" % (labels[y_test[i]], labels[p_test[i]]));"
      ],
      "execution_count": 19,
      "outputs": [
        {
          "output_type": "display_data",
          "data": {
            "image/png": "[encoded data removed]",
            "text/plain": [
              "<Figure size 432x288 with 1 Axes>"
            ]
          },
          "metadata": {
            "tags": [],
            "needs_background": "light"
          }
        }
      ]
    },
    {
      "cell_type": "code",
      "metadata": {
        "id": "pvrftkIK1eas",
        "colab_type": "code",
        "colab": {}
      },
      "source": [
        ""
      ],
      "execution_count": null,
      "outputs": []
    },
    {
      "cell_type": "code",
      "metadata": {
        "id": "SqhdGzyc1edo",
        "colab_type": "code",
        "colab": {}
      },
      "source": [
        ""
      ],
      "execution_count": null,
      "outputs": []
    },
    {
      "cell_type": "code",
      "metadata": {
        "id": "F3pKYWGrtpxP",
        "colab_type": "code",
        "colab": {}
      },
      "source": [
        ""
      ],
      "execution_count": null,
      "outputs": []
    },
    {
      "cell_type": "code",
      "metadata": {
        "id": "0S9xTUs2tpsh",
        "colab_type": "code",
        "colab": {}
      },
      "source": [
        ""
      ],
      "execution_count": null,
      "outputs": []
    },
    {
      "cell_type": "code",
      "metadata": {
        "id": "XhEKAcMBtpi-",
        "colab_type": "code",
        "colab": {}
      },
      "source": [
        ""
      ],
      "execution_count": null,
      "outputs": []
    }
  ]
}