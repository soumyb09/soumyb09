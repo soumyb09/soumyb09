{
 "cells": [
  {
   "cell_type": "markdown",
   "metadata": {},
   "source": [
    "## 1st Dataset - MMM"
   ]
  },
  {
   "cell_type": "code",
   "execution_count": 1,
   "metadata": {},
   "outputs": [],
   "source": [
    "import pandas as pd  \n",
    "import numpy as np  \n",
    "import matplotlib.pyplot as plt  \n",
    "import seaborn as sns \n",
    "from sklearn.model_selection import train_test_split\n",
    "from sklearn.linear_model import LinearRegression\n",
    "from sklearn import metrics"
   ]
  },
  {
   "cell_type": "code",
   "execution_count": 2,
   "metadata": {},
   "outputs": [],
   "source": [
    "mmm_train = pd.read_excel(\"MMM.xlsx\", sheet_name=0,)\n",
    "mmm_test = pd.read_excel(\"MMM.xlsx\", sheet_name=1)"
   ]
  },
  {
   "cell_type": "code",
   "execution_count": 3,
   "metadata": {},
   "outputs": [
    {
     "data": {
      "text/plain": [
       "((3238, 9), (953, 9))"
      ]
     },
     "execution_count": 3,
     "metadata": {},
     "output_type": "execute_result"
    }
   ],
   "source": [
    "mmm_train.shape, mmm_test.shape"
   ]
  },
  {
   "cell_type": "code",
   "execution_count": 4,
   "metadata": {},
   "outputs": [
    {
     "name": "stdout",
     "output_type": "stream",
     "text": [
      "<class 'pandas.core.frame.DataFrame'>\n",
      "RangeIndex: 3238 entries, 0 to 3237\n",
      "Data columns (total 9 columns):\n",
      "Sales                   3238 non-null int64\n",
      "Price                   3238 non-null float64\n",
      "Feature                 3238 non-null int64\n",
      "Display                 3238 non-null int64\n",
      "Price - Competitor 1    3238 non-null float64\n",
      "Price - Competitor 2    3238 non-null float64\n",
      "Price - Competitor 3    3238 non-null float64\n",
      "Price - Competitor 4    3238 non-null float64\n",
      "Price - Competitor 5    3238 non-null float64\n",
      "dtypes: float64(6), int64(3)\n",
      "memory usage: 227.8 KB\n"
     ]
    }
   ],
   "source": [
    "mmm_train.info()"
   ]
  },
  {
   "cell_type": "code",
   "execution_count": 5,
   "metadata": {},
   "outputs": [
    {
     "name": "stdout",
     "output_type": "stream",
     "text": [
      "<class 'pandas.core.frame.DataFrame'>\n",
      "RangeIndex: 953 entries, 0 to 952\n",
      "Data columns (total 9 columns):\n",
      "Sales                   953 non-null int64\n",
      "Price                   953 non-null float64\n",
      "Feature                 953 non-null int64\n",
      "Display                 953 non-null int64\n",
      "Price - Competitor 1    953 non-null float64\n",
      "Price - Competitor 2    953 non-null float64\n",
      "Price - Competitor 3    953 non-null float64\n",
      "Price - Competitor 4    953 non-null float64\n",
      "Price - Competitor 5    953 non-null float64\n",
      "dtypes: float64(6), int64(3)\n",
      "memory usage: 67.1 KB\n"
     ]
    }
   ],
   "source": [
    "mmm_test.info()"
   ]
  },
  {
   "cell_type": "code",
   "execution_count": 6,
   "metadata": {},
   "outputs": [
    {
     "data": {
      "text/html": [
       "<div>\n",
       "<style scoped>\n",
       "    .dataframe tbody tr th:only-of-type {\n",
       "        vertical-align: middle;\n",
       "    }\n",
       "\n",
       "    .dataframe tbody tr th {\n",
       "        vertical-align: top;\n",
       "    }\n",
       "\n",
       "    .dataframe thead th {\n",
       "        text-align: right;\n",
       "    }\n",
       "</style>\n",
       "<table border=\"1\" class=\"dataframe\">\n",
       "  <thead>\n",
       "    <tr style=\"text-align: right;\">\n",
       "      <th></th>\n",
       "      <th>Sales</th>\n",
       "      <th>Price</th>\n",
       "      <th>Feature</th>\n",
       "      <th>Display</th>\n",
       "      <th>Price - Competitor 1</th>\n",
       "      <th>Price - Competitor 2</th>\n",
       "      <th>Price - Competitor 3</th>\n",
       "      <th>Price - Competitor 4</th>\n",
       "      <th>Price - Competitor 5</th>\n",
       "    </tr>\n",
       "  </thead>\n",
       "  <tbody>\n",
       "    <tr>\n",
       "      <td>0</td>\n",
       "      <td>20</td>\n",
       "      <td>5.690</td>\n",
       "      <td>0</td>\n",
       "      <td>0</td>\n",
       "      <td>4.065</td>\n",
       "      <td>4.108</td>\n",
       "      <td>5.280</td>\n",
       "      <td>4.690</td>\n",
       "      <td>3.29</td>\n",
       "    </tr>\n",
       "    <tr>\n",
       "      <td>1</td>\n",
       "      <td>26</td>\n",
       "      <td>5.968</td>\n",
       "      <td>0</td>\n",
       "      <td>0</td>\n",
       "      <td>4.065</td>\n",
       "      <td>3.775</td>\n",
       "      <td>5.247</td>\n",
       "      <td>3.946</td>\n",
       "      <td>3.49</td>\n",
       "    </tr>\n",
       "    <tr>\n",
       "      <td>2</td>\n",
       "      <td>41</td>\n",
       "      <td>6.190</td>\n",
       "      <td>0</td>\n",
       "      <td>0</td>\n",
       "      <td>4.064</td>\n",
       "      <td>3.421</td>\n",
       "      <td>5.540</td>\n",
       "      <td>3.330</td>\n",
       "      <td>3.69</td>\n",
       "    </tr>\n",
       "  </tbody>\n",
       "</table>\n",
       "</div>"
      ],
      "text/plain": [
       "   Sales  Price  Feature  Display  Price - Competitor 1  Price - Competitor 2  \\\n",
       "0     20  5.690        0        0                 4.065                 4.108   \n",
       "1     26  5.968        0        0                 4.065                 3.775   \n",
       "2     41  6.190        0        0                 4.064                 3.421   \n",
       "\n",
       "   Price - Competitor 3  Price - Competitor 4  Price - Competitor 5  \n",
       "0                 5.280                 4.690                  3.29  \n",
       "1                 5.247                 3.946                  3.49  \n",
       "2                 5.540                 3.330                  3.69  "
      ]
     },
     "execution_count": 6,
     "metadata": {},
     "output_type": "execute_result"
    }
   ],
   "source": [
    "mmm_train.head(3)"
   ]
  },
  {
   "cell_type": "code",
   "execution_count": 7,
   "metadata": {},
   "outputs": [
    {
     "data": {
      "text/html": [
       "<div>\n",
       "<style scoped>\n",
       "    .dataframe tbody tr th:only-of-type {\n",
       "        vertical-align: middle;\n",
       "    }\n",
       "\n",
       "    .dataframe tbody tr th {\n",
       "        vertical-align: top;\n",
       "    }\n",
       "\n",
       "    .dataframe thead th {\n",
       "        text-align: right;\n",
       "    }\n",
       "</style>\n",
       "<table border=\"1\" class=\"dataframe\">\n",
       "  <thead>\n",
       "    <tr style=\"text-align: right;\">\n",
       "      <th></th>\n",
       "      <th>Sales</th>\n",
       "      <th>Price</th>\n",
       "      <th>Feature</th>\n",
       "      <th>Display</th>\n",
       "      <th>Price - Competitor 1</th>\n",
       "      <th>Price - Competitor 2</th>\n",
       "      <th>Price - Competitor 3</th>\n",
       "      <th>Price - Competitor 4</th>\n",
       "      <th>Price - Competitor 5</th>\n",
       "    </tr>\n",
       "  </thead>\n",
       "  <tbody>\n",
       "    <tr>\n",
       "      <td>0</td>\n",
       "      <td>97</td>\n",
       "      <td>5.968</td>\n",
       "      <td>0</td>\n",
       "      <td>1</td>\n",
       "      <td>4.928</td>\n",
       "      <td>3.219</td>\n",
       "      <td>6.29</td>\n",
       "      <td>4.853</td>\n",
       "      <td>3.49</td>\n",
       "    </tr>\n",
       "    <tr>\n",
       "      <td>1</td>\n",
       "      <td>621</td>\n",
       "      <td>3.990</td>\n",
       "      <td>1</td>\n",
       "      <td>1</td>\n",
       "      <td>4.928</td>\n",
       "      <td>3.926</td>\n",
       "      <td>5.99</td>\n",
       "      <td>5.204</td>\n",
       "      <td>3.49</td>\n",
       "    </tr>\n",
       "    <tr>\n",
       "      <td>2</td>\n",
       "      <td>96</td>\n",
       "      <td>5.990</td>\n",
       "      <td>0</td>\n",
       "      <td>0</td>\n",
       "      <td>4.928</td>\n",
       "      <td>3.143</td>\n",
       "      <td>6.25</td>\n",
       "      <td>4.840</td>\n",
       "      <td>3.49</td>\n",
       "    </tr>\n",
       "  </tbody>\n",
       "</table>\n",
       "</div>"
      ],
      "text/plain": [
       "   Sales  Price  Feature  Display  Price - Competitor 1  Price - Competitor 2  \\\n",
       "0     97  5.968        0        1                 4.928                 3.219   \n",
       "1    621  3.990        1        1                 4.928                 3.926   \n",
       "2     96  5.990        0        0                 4.928                 3.143   \n",
       "\n",
       "   Price - Competitor 3  Price - Competitor 4  Price - Competitor 5  \n",
       "0                  6.29                 4.853                  3.49  \n",
       "1                  5.99                 5.204                  3.49  \n",
       "2                  6.25                 4.840                  3.49  "
      ]
     },
     "execution_count": 7,
     "metadata": {},
     "output_type": "execute_result"
    }
   ],
   "source": [
    "mmm_test.head(3)"
   ]
  },
  {
   "cell_type": "code",
   "execution_count": 8,
   "metadata": {},
   "outputs": [
    {
     "data": {
      "text/plain": [
       "Sales                   0\n",
       "Price                   0\n",
       "Feature                 0\n",
       "Display                 0\n",
       "Price - Competitor 1    0\n",
       "Price - Competitor 2    0\n",
       "Price - Competitor 3    0\n",
       "Price - Competitor 4    0\n",
       "Price - Competitor 5    0\n",
       "dtype: int64"
      ]
     },
     "execution_count": 8,
     "metadata": {},
     "output_type": "execute_result"
    }
   ],
   "source": [
    "mmm_train.isnull().sum()"
   ]
  },
  {
   "cell_type": "code",
   "execution_count": 9,
   "metadata": {},
   "outputs": [
    {
     "data": {
      "text/plain": [
       "Sales                   0\n",
       "Price                   0\n",
       "Feature                 0\n",
       "Display                 0\n",
       "Price - Competitor 1    0\n",
       "Price - Competitor 2    0\n",
       "Price - Competitor 3    0\n",
       "Price - Competitor 4    0\n",
       "Price - Competitor 5    0\n",
       "dtype: int64"
      ]
     },
     "execution_count": 9,
     "metadata": {},
     "output_type": "execute_result"
    }
   ],
   "source": [
    "mmm_test.isnull().sum()"
   ]
  },
  {
   "cell_type": "code",
   "execution_count": 10,
   "metadata": {},
   "outputs": [
    {
     "data": {
      "text/html": [
       "<div>\n",
       "<style scoped>\n",
       "    .dataframe tbody tr th:only-of-type {\n",
       "        vertical-align: middle;\n",
       "    }\n",
       "\n",
       "    .dataframe tbody tr th {\n",
       "        vertical-align: top;\n",
       "    }\n",
       "\n",
       "    .dataframe thead th {\n",
       "        text-align: right;\n",
       "    }\n",
       "</style>\n",
       "<table border=\"1\" class=\"dataframe\">\n",
       "  <thead>\n",
       "    <tr style=\"text-align: right;\">\n",
       "      <th></th>\n",
       "      <th>Sales</th>\n",
       "      <th>Price</th>\n",
       "      <th>Feature</th>\n",
       "      <th>Display</th>\n",
       "      <th>Price - Competitor 1</th>\n",
       "      <th>Price - Competitor 2</th>\n",
       "      <th>Price - Competitor 3</th>\n",
       "      <th>Price - Competitor 4</th>\n",
       "      <th>Price - Competitor 5</th>\n",
       "    </tr>\n",
       "  </thead>\n",
       "  <tbody>\n",
       "    <tr>\n",
       "      <td>count</td>\n",
       "      <td>3238.000000</td>\n",
       "      <td>3238.000000</td>\n",
       "      <td>3238.000000</td>\n",
       "      <td>3238.000000</td>\n",
       "      <td>3238.000000</td>\n",
       "      <td>3238.000000</td>\n",
       "      <td>3238.000000</td>\n",
       "      <td>3238.000000</td>\n",
       "      <td>3238.000000</td>\n",
       "    </tr>\n",
       "    <tr>\n",
       "      <td>mean</td>\n",
       "      <td>79.677888</td>\n",
       "      <td>5.681580</td>\n",
       "      <td>0.169240</td>\n",
       "      <td>0.131254</td>\n",
       "      <td>4.066095</td>\n",
       "      <td>3.705841</td>\n",
       "      <td>5.619677</td>\n",
       "      <td>4.470330</td>\n",
       "      <td>2.965036</td>\n",
       "    </tr>\n",
       "    <tr>\n",
       "      <td>std</td>\n",
       "      <td>91.150090</td>\n",
       "      <td>0.569159</td>\n",
       "      <td>0.375022</td>\n",
       "      <td>0.337730</td>\n",
       "      <td>0.521656</td>\n",
       "      <td>0.466649</td>\n",
       "      <td>0.642104</td>\n",
       "      <td>0.670754</td>\n",
       "      <td>0.593215</td>\n",
       "    </tr>\n",
       "    <tr>\n",
       "      <td>min</td>\n",
       "      <td>2.000000</td>\n",
       "      <td>2.500000</td>\n",
       "      <td>0.000000</td>\n",
       "      <td>0.000000</td>\n",
       "      <td>2.030000</td>\n",
       "      <td>1.667000</td>\n",
       "      <td>2.500000</td>\n",
       "      <td>1.110000</td>\n",
       "      <td>0.820000</td>\n",
       "    </tr>\n",
       "    <tr>\n",
       "      <td>25%</td>\n",
       "      <td>33.000000</td>\n",
       "      <td>5.480000</td>\n",
       "      <td>0.000000</td>\n",
       "      <td>0.000000</td>\n",
       "      <td>3.626000</td>\n",
       "      <td>3.410250</td>\n",
       "      <td>5.061750</td>\n",
       "      <td>4.000000</td>\n",
       "      <td>2.500000</td>\n",
       "    </tr>\n",
       "    <tr>\n",
       "      <td>50%</td>\n",
       "      <td>54.000000</td>\n",
       "      <td>5.790000</td>\n",
       "      <td>0.000000</td>\n",
       "      <td>0.000000</td>\n",
       "      <td>3.975000</td>\n",
       "      <td>3.673000</td>\n",
       "      <td>5.832000</td>\n",
       "      <td>4.512500</td>\n",
       "      <td>3.090000</td>\n",
       "    </tr>\n",
       "    <tr>\n",
       "      <td>75%</td>\n",
       "      <td>88.000000</td>\n",
       "      <td>6.072500</td>\n",
       "      <td>0.000000</td>\n",
       "      <td>0.000000</td>\n",
       "      <td>4.598000</td>\n",
       "      <td>3.978750</td>\n",
       "      <td>5.990000</td>\n",
       "      <td>4.999000</td>\n",
       "      <td>3.490000</td>\n",
       "    </tr>\n",
       "    <tr>\n",
       "      <td>max</td>\n",
       "      <td>1145.000000</td>\n",
       "      <td>6.490000</td>\n",
       "      <td>1.000000</td>\n",
       "      <td>1.000000</td>\n",
       "      <td>4.928000</td>\n",
       "      <td>4.920000</td>\n",
       "      <td>7.490000</td>\n",
       "      <td>6.290000</td>\n",
       "      <td>3.950000</td>\n",
       "    </tr>\n",
       "  </tbody>\n",
       "</table>\n",
       "</div>"
      ],
      "text/plain": [
       "             Sales        Price      Feature      Display  \\\n",
       "count  3238.000000  3238.000000  3238.000000  3238.000000   \n",
       "mean     79.677888     5.681580     0.169240     0.131254   \n",
       "std      91.150090     0.569159     0.375022     0.337730   \n",
       "min       2.000000     2.500000     0.000000     0.000000   \n",
       "25%      33.000000     5.480000     0.000000     0.000000   \n",
       "50%      54.000000     5.790000     0.000000     0.000000   \n",
       "75%      88.000000     6.072500     0.000000     0.000000   \n",
       "max    1145.000000     6.490000     1.000000     1.000000   \n",
       "\n",
       "       Price - Competitor 1  Price - Competitor 2  Price - Competitor 3  \\\n",
       "count           3238.000000           3238.000000           3238.000000   \n",
       "mean               4.066095              3.705841              5.619677   \n",
       "std                0.521656              0.466649              0.642104   \n",
       "min                2.030000              1.667000              2.500000   \n",
       "25%                3.626000              3.410250              5.061750   \n",
       "50%                3.975000              3.673000              5.832000   \n",
       "75%                4.598000              3.978750              5.990000   \n",
       "max                4.928000              4.920000              7.490000   \n",
       "\n",
       "       Price - Competitor 4  Price - Competitor 5  \n",
       "count           3238.000000           3238.000000  \n",
       "mean               4.470330              2.965036  \n",
       "std                0.670754              0.593215  \n",
       "min                1.110000              0.820000  \n",
       "25%                4.000000              2.500000  \n",
       "50%                4.512500              3.090000  \n",
       "75%                4.999000              3.490000  \n",
       "max                6.290000              3.950000  "
      ]
     },
     "execution_count": 10,
     "metadata": {},
     "output_type": "execute_result"
    }
   ],
   "source": [
    "mmm_train.describe()"
   ]
  },
  {
   "cell_type": "code",
   "execution_count": 11,
   "metadata": {},
   "outputs": [
    {
     "data": {
      "text/html": [
       "<div>\n",
       "<style scoped>\n",
       "    .dataframe tbody tr th:only-of-type {\n",
       "        vertical-align: middle;\n",
       "    }\n",
       "\n",
       "    .dataframe tbody tr th {\n",
       "        vertical-align: top;\n",
       "    }\n",
       "\n",
       "    .dataframe thead th {\n",
       "        text-align: right;\n",
       "    }\n",
       "</style>\n",
       "<table border=\"1\" class=\"dataframe\">\n",
       "  <thead>\n",
       "    <tr style=\"text-align: right;\">\n",
       "      <th></th>\n",
       "      <th>Sales</th>\n",
       "      <th>Price</th>\n",
       "      <th>Feature</th>\n",
       "      <th>Display</th>\n",
       "      <th>Price - Competitor 1</th>\n",
       "      <th>Price - Competitor 2</th>\n",
       "      <th>Price - Competitor 3</th>\n",
       "      <th>Price - Competitor 4</th>\n",
       "      <th>Price - Competitor 5</th>\n",
       "    </tr>\n",
       "  </thead>\n",
       "  <tbody>\n",
       "    <tr>\n",
       "      <td>count</td>\n",
       "      <td>953.000000</td>\n",
       "      <td>953.00000</td>\n",
       "      <td>953.000000</td>\n",
       "      <td>953.000000</td>\n",
       "      <td>953.000000</td>\n",
       "      <td>953.000000</td>\n",
       "      <td>953.000000</td>\n",
       "      <td>953.000000</td>\n",
       "      <td>953.000000</td>\n",
       "    </tr>\n",
       "    <tr>\n",
       "      <td>mean</td>\n",
       "      <td>76.171039</td>\n",
       "      <td>5.78103</td>\n",
       "      <td>0.293809</td>\n",
       "      <td>0.157398</td>\n",
       "      <td>4.052327</td>\n",
       "      <td>3.953363</td>\n",
       "      <td>5.820519</td>\n",
       "      <td>4.838091</td>\n",
       "      <td>3.170243</td>\n",
       "    </tr>\n",
       "    <tr>\n",
       "      <td>std</td>\n",
       "      <td>75.516048</td>\n",
       "      <td>0.68876</td>\n",
       "      <td>0.455745</td>\n",
       "      <td>0.364367</td>\n",
       "      <td>1.145879</td>\n",
       "      <td>0.603132</td>\n",
       "      <td>0.823443</td>\n",
       "      <td>0.804124</td>\n",
       "      <td>0.709980</td>\n",
       "    </tr>\n",
       "    <tr>\n",
       "      <td>min</td>\n",
       "      <td>2.000000</td>\n",
       "      <td>2.49600</td>\n",
       "      <td>0.000000</td>\n",
       "      <td>0.000000</td>\n",
       "      <td>1.110000</td>\n",
       "      <td>1.773000</td>\n",
       "      <td>2.500000</td>\n",
       "      <td>1.472000</td>\n",
       "      <td>1.662000</td>\n",
       "    </tr>\n",
       "    <tr>\n",
       "      <td>25%</td>\n",
       "      <td>30.000000</td>\n",
       "      <td>5.33200</td>\n",
       "      <td>0.000000</td>\n",
       "      <td>0.000000</td>\n",
       "      <td>2.978000</td>\n",
       "      <td>3.597000</td>\n",
       "      <td>5.248000</td>\n",
       "      <td>4.410000</td>\n",
       "      <td>2.500000</td>\n",
       "    </tr>\n",
       "    <tr>\n",
       "      <td>50%</td>\n",
       "      <td>49.000000</td>\n",
       "      <td>5.99000</td>\n",
       "      <td>0.000000</td>\n",
       "      <td>0.000000</td>\n",
       "      <td>4.950000</td>\n",
       "      <td>3.970000</td>\n",
       "      <td>5.990000</td>\n",
       "      <td>4.993000</td>\n",
       "      <td>3.445000</td>\n",
       "    </tr>\n",
       "    <tr>\n",
       "      <td>75%</td>\n",
       "      <td>96.000000</td>\n",
       "      <td>6.29000</td>\n",
       "      <td>1.000000</td>\n",
       "      <td>0.000000</td>\n",
       "      <td>5.093000</td>\n",
       "      <td>4.490000</td>\n",
       "      <td>6.390000</td>\n",
       "      <td>5.476000</td>\n",
       "      <td>3.790000</td>\n",
       "    </tr>\n",
       "    <tr>\n",
       "      <td>max</td>\n",
       "      <td>648.000000</td>\n",
       "      <td>6.49000</td>\n",
       "      <td>1.000000</td>\n",
       "      <td>1.000000</td>\n",
       "      <td>5.403000</td>\n",
       "      <td>5.070000</td>\n",
       "      <td>7.490000</td>\n",
       "      <td>6.290000</td>\n",
       "      <td>3.950000</td>\n",
       "    </tr>\n",
       "  </tbody>\n",
       "</table>\n",
       "</div>"
      ],
      "text/plain": [
       "            Sales      Price     Feature     Display  Price - Competitor 1  \\\n",
       "count  953.000000  953.00000  953.000000  953.000000            953.000000   \n",
       "mean    76.171039    5.78103    0.293809    0.157398              4.052327   \n",
       "std     75.516048    0.68876    0.455745    0.364367              1.145879   \n",
       "min      2.000000    2.49600    0.000000    0.000000              1.110000   \n",
       "25%     30.000000    5.33200    0.000000    0.000000              2.978000   \n",
       "50%     49.000000    5.99000    0.000000    0.000000              4.950000   \n",
       "75%     96.000000    6.29000    1.000000    0.000000              5.093000   \n",
       "max    648.000000    6.49000    1.000000    1.000000              5.403000   \n",
       "\n",
       "       Price - Competitor 2  Price - Competitor 3  Price - Competitor 4  \\\n",
       "count            953.000000            953.000000            953.000000   \n",
       "mean               3.953363              5.820519              4.838091   \n",
       "std                0.603132              0.823443              0.804124   \n",
       "min                1.773000              2.500000              1.472000   \n",
       "25%                3.597000              5.248000              4.410000   \n",
       "50%                3.970000              5.990000              4.993000   \n",
       "75%                4.490000              6.390000              5.476000   \n",
       "max                5.070000              7.490000              6.290000   \n",
       "\n",
       "       Price - Competitor 5  \n",
       "count            953.000000  \n",
       "mean               3.170243  \n",
       "std                0.709980  \n",
       "min                1.662000  \n",
       "25%                2.500000  \n",
       "50%                3.445000  \n",
       "75%                3.790000  \n",
       "max                3.950000  "
      ]
     },
     "execution_count": 11,
     "metadata": {},
     "output_type": "execute_result"
    }
   ],
   "source": [
    "mmm_test.describe()"
   ]
  },
  {
   "cell_type": "code",
   "execution_count": 12,
   "metadata": {},
   "outputs": [
    {
     "data": {
      "image/png": "[encoded data removed]",
      "text/plain": [
       "<Figure size 576x432 with 1 Axes>"
      ]
     },
     "metadata": {
      "needs_background": "light"
     },
     "output_type": "display_data"
    }
   ],
   "source": [
    "plt.figure(figsize=(8,6))\n",
    "plt.scatter(mmm_train['Price'],mmm_train['Sales'],alpha=0.2,s=20)\n",
    "plt.ylabel('Sales')\n",
    "plt.xlabel('Price')\n",
    "plt.title('Scatterplot of Price vs Sales')\n",
    "plt.show()"
   ]
  },
  {
   "cell_type": "code",
   "execution_count": 13,
   "metadata": {},
   "outputs": [
    {
     "data": {
      "text/plain": [
       "Index(['Sales', 'Price', 'Feature', 'Display', 'Price - Competitor 1',\n",
       "       'Price - Competitor 2', 'Price - Competitor 3', 'Price - Competitor 4',\n",
       "       'Price - Competitor 5'],\n",
       "      dtype='object')"
      ]
     },
     "execution_count": 13,
     "metadata": {},
     "output_type": "execute_result"
    }
   ],
   "source": [
    "mmm_train.columns"
   ]
  },
  {
   "cell_type": "code",
   "execution_count": 14,
   "metadata": {},
   "outputs": [],
   "source": [
    "X_train = mmm_train.iloc[:,1:]\n",
    "y_train = mmm_train.iloc[:,0]\n",
    "\n",
    "X_test = mmm_test.iloc[:,1:]\n",
    "y_test = mmm_test.iloc[:,0]"
   ]
  },
  {
   "cell_type": "code",
   "execution_count": 15,
   "metadata": {},
   "outputs": [
    {
     "data": {
      "text/plain": [
       "LinearRegression(copy_X=True, fit_intercept=True, n_jobs=None,\n",
       "         normalize=False)"
      ]
     },
     "execution_count": 15,
     "metadata": {},
     "output_type": "execute_result"
    }
   ],
   "source": [
    "from sklearn.linear_model import LinearRegression\n",
    "\n",
    "reg = LinearRegression()\n",
    "reg.fit(X_train,y_train)"
   ]
  },
  {
   "cell_type": "code",
   "execution_count": 16,
   "metadata": {},
   "outputs": [
    {
     "name": "stdout",
     "output_type": "stream",
     "text": [
      "Intercept: 254.4097781439533\n",
      "Coefficients:\n",
      " [-49.43335982  63.74728008  95.54010777   9.3929225    2.58605144\n",
      "   3.39611903   5.98477973  -3.64783552]\n"
     ]
    }
   ],
   "source": [
    "print('Intercept:',reg.intercept_)\n",
    "print('Coefficients:\\n',reg.coef_)"
   ]
  },
  {
   "cell_type": "code",
   "execution_count": 17,
   "metadata": {},
   "outputs": [
    {
     "data": {
      "text/html": [
       "<div>\n",
       "<style scoped>\n",
       "    .dataframe tbody tr th:only-of-type {\n",
       "        vertical-align: middle;\n",
       "    }\n",
       "\n",
       "    .dataframe tbody tr th {\n",
       "        vertical-align: top;\n",
       "    }\n",
       "\n",
       "    .dataframe thead th {\n",
       "        text-align: right;\n",
       "    }\n",
       "</style>\n",
       "<table border=\"1\" class=\"dataframe\">\n",
       "  <thead>\n",
       "    <tr style=\"text-align: right;\">\n",
       "      <th></th>\n",
       "      <th>Coefficient</th>\n",
       "    </tr>\n",
       "  </thead>\n",
       "  <tbody>\n",
       "    <tr>\n",
       "      <td>Price</td>\n",
       "      <td>-49.433360</td>\n",
       "    </tr>\n",
       "    <tr>\n",
       "      <td>Feature</td>\n",
       "      <td>63.747280</td>\n",
       "    </tr>\n",
       "    <tr>\n",
       "      <td>Display</td>\n",
       "      <td>95.540108</td>\n",
       "    </tr>\n",
       "    <tr>\n",
       "      <td>Price - Competitor 1</td>\n",
       "      <td>9.392922</td>\n",
       "    </tr>\n",
       "    <tr>\n",
       "      <td>Price - Competitor 2</td>\n",
       "      <td>2.586051</td>\n",
       "    </tr>\n",
       "    <tr>\n",
       "      <td>Price - Competitor 3</td>\n",
       "      <td>3.396119</td>\n",
       "    </tr>\n",
       "    <tr>\n",
       "      <td>Price - Competitor 4</td>\n",
       "      <td>5.984780</td>\n",
       "    </tr>\n",
       "    <tr>\n",
       "      <td>Price - Competitor 5</td>\n",
       "      <td>-3.647836</td>\n",
       "    </tr>\n",
       "  </tbody>\n",
       "</table>\n",
       "</div>"
      ],
      "text/plain": [
       "                      Coefficient\n",
       "Price                  -49.433360\n",
       "Feature                 63.747280\n",
       "Display                 95.540108\n",
       "Price - Competitor 1     9.392922\n",
       "Price - Competitor 2     2.586051\n",
       "Price - Competitor 3     3.396119\n",
       "Price - Competitor 4     5.984780\n",
       "Price - Competitor 5    -3.647836"
      ]
     },
     "execution_count": 17,
     "metadata": {},
     "output_type": "execute_result"
    }
   ],
   "source": [
    "coeff_df = pd.DataFrame(reg.coef_, X_train.columns, columns=['Coefficient'])  \n",
    "coeff_df"
   ]
  },
  {
   "cell_type": "code",
   "execution_count": 18,
   "metadata": {},
   "outputs": [
    {
     "name": "stdout",
     "output_type": "stream",
     "text": [
      "Mean Absolute Error: 32.83626421286315\n",
      "Mean Squared Error: 2389.4683504801023\n",
      "Root Mean Squared Error: 48.882188478832475\n",
      "Explained variance: 0.6044771815490719\n",
      "R squared: 0.5805514170079046\n"
     ]
    }
   ],
   "source": [
    "y_pred = reg.predict(X_test)\n",
    "\n",
    "print('Mean Absolute Error:', metrics.mean_absolute_error(y_test, y_pred))  \n",
    "print('Mean Squared Error:', metrics.mean_squared_error(y_test, y_pred))  \n",
    "print('Root Mean Squared Error:', np.sqrt(metrics.mean_squared_error(y_test, y_pred)))\n",
    "print('Explained variance:',metrics.explained_variance_score(y_test, y_pred))\n",
    "print('R squared:',metrics.r2_score(y_test, y_pred))"
   ]
  },
  {
   "cell_type": "code",
   "execution_count": 19,
   "metadata": {},
   "outputs": [
    {
     "data": {
      "text/html": [
       "<div>\n",
       "<style scoped>\n",
       "    .dataframe tbody tr th:only-of-type {\n",
       "        vertical-align: middle;\n",
       "    }\n",
       "\n",
       "    .dataframe tbody tr th {\n",
       "        vertical-align: top;\n",
       "    }\n",
       "\n",
       "    .dataframe thead th {\n",
       "        text-align: right;\n",
       "    }\n",
       "</style>\n",
       "<table border=\"1\" class=\"dataframe\">\n",
       "  <thead>\n",
       "    <tr style=\"text-align: right;\">\n",
       "      <th></th>\n",
       "      <th>Actual</th>\n",
       "      <th>Predicted</th>\n",
       "    </tr>\n",
       "  </thead>\n",
       "  <tbody>\n",
       "    <tr>\n",
       "      <td>0</td>\n",
       "      <td>97</td>\n",
       "      <td>147.219195</td>\n",
       "    </tr>\n",
       "    <tr>\n",
       "      <td>1</td>\n",
       "      <td>621</td>\n",
       "      <td>311.655821</td>\n",
       "    </tr>\n",
       "    <tr>\n",
       "      <td>2</td>\n",
       "      <td>96</td>\n",
       "      <td>50.181366</td>\n",
       "    </tr>\n",
       "    <tr>\n",
       "      <td>3</td>\n",
       "      <td>380</td>\n",
       "      <td>287.356168</td>\n",
       "    </tr>\n",
       "    <tr>\n",
       "      <td>4</td>\n",
       "      <td>85</td>\n",
       "      <td>52.760162</td>\n",
       "    </tr>\n",
       "  </tbody>\n",
       "</table>\n",
       "</div>"
      ],
      "text/plain": [
       "   Actual   Predicted\n",
       "0      97  147.219195\n",
       "1     621  311.655821\n",
       "2      96   50.181366\n",
       "3     380  287.356168\n",
       "4      85   52.760162"
      ]
     },
     "execution_count": 19,
     "metadata": {},
     "output_type": "execute_result"
    }
   ],
   "source": [
    "df = pd.DataFrame({'Actual': y_test, 'Predicted': y_pred})\n",
    "df.head()"
   ]
  },
  {
   "cell_type": "code",
   "execution_count": 20,
   "metadata": {},
   "outputs": [
    {
     "data": {
      "image/png": "[encoded data removed]",
      "text/plain": [
       "<Figure size 432x288 with 2 Axes>"
      ]
     },
     "metadata": {
      "needs_background": "light"
     },
     "output_type": "display_data"
    }
   ],
   "source": [
    "corr = X_train.corr().round(2)\n",
    "\n",
    "mask = np.zeros_like(corr)\n",
    "mask[np.triu_indices_from(mask)] = True\n",
    "\n",
    "sns.heatmap(corr,mask=mask,cmap='bwr',vmin=-1,vmax=1, center=0,annot=True)\n",
    "b, t = plt.ylim() # discover the values for bottom and top\n",
    "b += 0.5 # Add 0.5 to the bottom\n",
    "t -= 0.5 # Subtract 0.5 from the top\n",
    "plt.ylim(b, t) # update the ylim(bottom, top) values\n",
    "plt.show()"
   ]
  },
  {
   "cell_type": "code",
   "execution_count": 21,
   "metadata": {},
   "outputs": [
    {
     "name": "stderr",
     "output_type": "stream",
     "text": [
      "C:\\Users\\sbane\\Anaconda3\\lib\\site-packages\\statsmodels\\compat\\pandas.py:49: FutureWarning: The Panel class is removed from pandas. Accessing it from the top-level namespace will also be removed in the next version\n",
      "  data_klasses = (pandas.Series, pandas.DataFrame, pandas.Panel)\n"
     ]
    },
    {
     "name": "stdout",
     "output_type": "stream",
     "text": [
      "                            OLS Regression Results                            \n",
      "==============================================================================\n",
      "Dep. Variable:                  Sales   R-squared:                       0.536\n",
      "Model:                            OLS   Adj. R-squared:                  0.534\n",
      "Method:                 Least Squares   F-statistic:                     465.5\n",
      "Date:                Tue, 21 Jan 2020   Prob (F-statistic):               0.00\n",
      "Time:                        03:45:03   Log-Likelihood:                -17964.\n",
      "No. Observations:                3238   AIC:                         3.595e+04\n",
      "Df Residuals:                    3229   BIC:                         3.600e+04\n",
      "Df Model:                           8                                         \n",
      "Covariance Type:            nonrobust                                         \n",
      "========================================================================================\n",
      "                           coef    std err          t      P>|t|      [0.025      0.975]\n",
      "----------------------------------------------------------------------------------------\n",
      "const                  254.4098     17.818     14.278      0.000     219.474     289.346\n",
      "Price                  -49.4334      2.516    -19.645      0.000     -54.367     -44.500\n",
      "Feature                 63.7473      3.558     17.914      0.000      56.770      70.724\n",
      "Display                 95.5401      3.698     25.837      0.000      88.290     102.790\n",
      "Price - Competitor 1     9.3929      2.137      4.394      0.000       5.202      13.584\n",
      "Price - Competitor 2     2.5861      2.713      0.953      0.341      -2.734       7.906\n",
      "Price - Competitor 3     3.3961      1.898      1.789      0.074      -0.326       7.118\n",
      "Price - Competitor 4     5.9848      1.752      3.416      0.001       2.549       9.420\n",
      "Price - Competitor 5    -3.6478      1.909     -1.911      0.056      -7.390       0.095\n",
      "==============================================================================\n",
      "Omnibus:                     2780.771   Durbin-Watson:                   1.776\n",
      "Prob(Omnibus):                  0.000   Jarque-Bera (JB):           156450.069\n",
      "Skew:                           3.772   Prob(JB):                         0.00\n",
      "Kurtosis:                      36.207   Cond. No.                         183.\n",
      "==============================================================================\n",
      "\n",
      "Warnings:\n",
      "[1] Standard Errors assume that the covariance matrix of the errors is correctly specified.\n"
     ]
    },
    {
     "name": "stderr",
     "output_type": "stream",
     "text": [
      "C:\\Users\\sbane\\Anaconda3\\lib\\site-packages\\numpy\\core\\fromnumeric.py:2389: FutureWarning: Method .ptp is deprecated and will be removed in a future version. Use numpy.ptp instead.\n",
      "  return ptp(axis=axis, out=out, **kwargs)\n"
     ]
    }
   ],
   "source": [
    "import statsmodels.api as sm\n",
    "\n",
    "X_train = sm.add_constant(X_train)\n",
    "model = sm.OLS(y_train,X_train)\n",
    "results = model.fit()\n",
    "print(results.summary())"
   ]
  },
  {
   "cell_type": "code",
   "execution_count": 22,
   "metadata": {},
   "outputs": [
    {
     "data": {
      "text/plain": [
       "Index(['Sales', 'Price', 'Feature', 'Display', 'Price - Competitor 1',\n",
       "       'Price - Competitor 2', 'Price - Competitor 3', 'Price - Competitor 4',\n",
       "       'Price - Competitor 5'],\n",
       "      dtype='object')"
      ]
     },
     "execution_count": 22,
     "metadata": {},
     "output_type": "execute_result"
    }
   ],
   "source": [
    "mmm_train.columns"
   ]
  },
  {
   "cell_type": "code",
   "execution_count": 23,
   "metadata": {},
   "outputs": [
    {
     "name": "stdout",
     "output_type": "stream",
     "text": [
      "                            OLS Regression Results                            \n",
      "==============================================================================\n",
      "Dep. Variable:                  Sales   R-squared:                       0.534\n",
      "Model:                            OLS   Adj. R-squared:                  0.534\n",
      "Method:                 Least Squares   F-statistic:                     742.0\n",
      "Date:                Tue, 21 Jan 2020   Prob (F-statistic):               0.00\n",
      "Time:                        03:45:07   Log-Likelihood:                -17968.\n",
      "No. Observations:                3238   AIC:                         3.595e+04\n",
      "Df Residuals:                    3232   BIC:                         3.598e+04\n",
      "Df Model:                           5                                         \n",
      "Covariance Type:            nonrobust                                         \n",
      "========================================================================================\n",
      "                           coef    std err          t      P>|t|      [0.025      0.975]\n",
      "----------------------------------------------------------------------------------------\n",
      "const                  261.8958     16.926     15.473      0.000     228.709     295.083\n",
      "Price                  -48.5131      2.355    -20.601      0.000     -53.130     -43.896\n",
      "Feature                 64.3395      3.519     18.285      0.000      57.440      71.238\n",
      "Display                 96.3640      3.668     26.272      0.000      89.172     103.556\n",
      "Price - Competitor 1     9.7268      2.119      4.589      0.000       5.571      13.882\n",
      "Price - Competitor 4     6.7838      1.683      4.032      0.000       3.485      10.083\n",
      "==============================================================================\n",
      "Omnibus:                     2786.152   Durbin-Watson:                   1.778\n",
      "Prob(Omnibus):                  0.000   Jarque-Bera (JB):           158289.837\n",
      "Skew:                           3.780   Prob(JB):                         0.00\n",
      "Kurtosis:                      36.408   Cond. No.                         131.\n",
      "==============================================================================\n",
      "\n",
      "Warnings:\n",
      "[1] Standard Errors assume that the covariance matrix of the errors is correctly specified.\n"
     ]
    }
   ],
   "source": [
    "cols = ['Price', 'Feature', 'Display', 'Price - Competitor 1', 'Price - Competitor 4']\n",
    "\n",
    "X = mmm_train[cols]\n",
    "y = mmm_train.iloc[:,0]\n",
    "\n",
    "X = sm.add_constant(X)\n",
    "model = sm.OLS(y,X)\n",
    "results = model.fit()\n",
    "print(results.summary())"
   ]
  },
  {
   "cell_type": "code",
   "execution_count": 24,
   "metadata": {},
   "outputs": [
    {
     "data": {
      "text/html": [
       "<div>\n",
       "<style scoped>\n",
       "    .dataframe tbody tr th:only-of-type {\n",
       "        vertical-align: middle;\n",
       "    }\n",
       "\n",
       "    .dataframe tbody tr th {\n",
       "        vertical-align: top;\n",
       "    }\n",
       "\n",
       "    .dataframe thead th {\n",
       "        text-align: right;\n",
       "    }\n",
       "</style>\n",
       "<table border=\"1\" class=\"dataframe\">\n",
       "  <thead>\n",
       "    <tr style=\"text-align: right;\">\n",
       "      <th></th>\n",
       "      <th>Sales</th>\n",
       "      <th>Price</th>\n",
       "      <th>Feature</th>\n",
       "      <th>Display</th>\n",
       "      <th>Price - Competitor 1</th>\n",
       "      <th>Price - Competitor 2</th>\n",
       "      <th>Price - Competitor 3</th>\n",
       "      <th>Price - Competitor 4</th>\n",
       "      <th>Price - Competitor 5</th>\n",
       "      <th>price_feature</th>\n",
       "      <th>price_display</th>\n",
       "      <th>feature_display</th>\n",
       "    </tr>\n",
       "  </thead>\n",
       "  <tbody>\n",
       "    <tr>\n",
       "      <td>0</td>\n",
       "      <td>20</td>\n",
       "      <td>5.690</td>\n",
       "      <td>0</td>\n",
       "      <td>0</td>\n",
       "      <td>4.065</td>\n",
       "      <td>4.108</td>\n",
       "      <td>5.280</td>\n",
       "      <td>4.690</td>\n",
       "      <td>3.29</td>\n",
       "      <td>0.0</td>\n",
       "      <td>0.0</td>\n",
       "      <td>0</td>\n",
       "    </tr>\n",
       "    <tr>\n",
       "      <td>1</td>\n",
       "      <td>26</td>\n",
       "      <td>5.968</td>\n",
       "      <td>0</td>\n",
       "      <td>0</td>\n",
       "      <td>4.065</td>\n",
       "      <td>3.775</td>\n",
       "      <td>5.247</td>\n",
       "      <td>3.946</td>\n",
       "      <td>3.49</td>\n",
       "      <td>0.0</td>\n",
       "      <td>0.0</td>\n",
       "      <td>0</td>\n",
       "    </tr>\n",
       "    <tr>\n",
       "      <td>2</td>\n",
       "      <td>41</td>\n",
       "      <td>6.190</td>\n",
       "      <td>0</td>\n",
       "      <td>0</td>\n",
       "      <td>4.064</td>\n",
       "      <td>3.421</td>\n",
       "      <td>5.540</td>\n",
       "      <td>3.330</td>\n",
       "      <td>3.69</td>\n",
       "      <td>0.0</td>\n",
       "      <td>0.0</td>\n",
       "      <td>0</td>\n",
       "    </tr>\n",
       "  </tbody>\n",
       "</table>\n",
       "</div>"
      ],
      "text/plain": [
       "   Sales  Price  Feature  Display  Price - Competitor 1  Price - Competitor 2  \\\n",
       "0     20  5.690        0        0                 4.065                 4.108   \n",
       "1     26  5.968        0        0                 4.065                 3.775   \n",
       "2     41  6.190        0        0                 4.064                 3.421   \n",
       "\n",
       "   Price - Competitor 3  Price - Competitor 4  Price - Competitor 5  \\\n",
       "0                 5.280                 4.690                  3.29   \n",
       "1                 5.247                 3.946                  3.49   \n",
       "2                 5.540                 3.330                  3.69   \n",
       "\n",
       "   price_feature  price_display  feature_display  \n",
       "0            0.0            0.0                0  \n",
       "1            0.0            0.0                0  \n",
       "2            0.0            0.0                0  "
      ]
     },
     "execution_count": 24,
     "metadata": {},
     "output_type": "execute_result"
    }
   ],
   "source": [
    "# Adding Interaction terms i.e. interactions between features\n",
    "\n",
    "mmm_train['price_feature'] = mmm_train['Price'] * mmm_train['Feature']\n",
    "mmm_train['price_display'] = mmm_train['Price'] * mmm_train['Display']\n",
    "mmm_train['feature_display'] = mmm_train['Feature'] * mmm_train['Display']\n",
    "mmm_train.head(3)"
   ]
  },
  {
   "cell_type": "code",
   "execution_count": 25,
   "metadata": {},
   "outputs": [
    {
     "name": "stdout",
     "output_type": "stream",
     "text": [
      "                            OLS Regression Results                            \n",
      "==============================================================================\n",
      "Dep. Variable:                  Sales   R-squared:                       0.635\n",
      "Model:                            OLS   Adj. R-squared:                  0.633\n",
      "Method:                 Least Squares   F-statistic:                     509.3\n",
      "Date:                Tue, 21 Jan 2020   Prob (F-statistic):               0.00\n",
      "Time:                        03:45:12   Log-Likelihood:                -17576.\n",
      "No. Observations:                3238   AIC:                         3.518e+04\n",
      "Df Residuals:                    3226   BIC:                         3.525e+04\n",
      "Df Model:                          11                                         \n",
      "Covariance Type:            nonrobust                                         \n",
      "========================================================================================\n",
      "                           coef    std err          t      P>|t|      [0.025      0.975]\n",
      "----------------------------------------------------------------------------------------\n",
      "const                  121.8312     17.059      7.142      0.000      88.383     155.279\n",
      "Price                  -26.9551      2.487    -10.840      0.000     -31.831     -22.080\n",
      "Feature                346.5557     31.084     11.149      0.000     285.609     407.502\n",
      "Display                598.3700     34.458     17.365      0.000     530.808     665.932\n",
      "Price - Competitor 1     9.3950      1.899      4.948      0.000       5.672      13.118\n",
      "Price - Competitor 2     4.1027      2.419      1.696      0.090      -0.641       8.846\n",
      "Price - Competitor 3     2.2926      1.690      1.357      0.175      -1.021       5.606\n",
      "Price - Competitor 4     6.4084      1.564      4.097      0.000       3.342       9.475\n",
      "Price - Competitor 5    -2.5280      1.695     -1.491      0.136      -5.852       0.796\n",
      "price_feature          -57.5182      5.878     -9.786      0.000     -69.042     -45.994\n",
      "price_display         -100.2113      6.296    -15.918      0.000    -112.555     -87.868\n",
      "feature_display         38.6889      7.060      5.480      0.000      24.846      52.532\n",
      "==============================================================================\n",
      "Omnibus:                     1887.689   Durbin-Watson:                   1.743\n",
      "Prob(Omnibus):                  0.000   Jarque-Bera (JB):            48867.734\n",
      "Skew:                           2.278   Prob(JB):                         0.00\n",
      "Kurtosis:                      21.478   Cond. No.                         454.\n",
      "==============================================================================\n",
      "\n",
      "Warnings:\n",
      "[1] Standard Errors assume that the covariance matrix of the errors is correctly specified.\n"
     ]
    }
   ],
   "source": [
    "X = mmm_train.iloc[:,1:]\n",
    "y = mmm_train.iloc[:,0]\n",
    "\n",
    "import statsmodels.api as sm\n",
    "\n",
    "X = sm.add_constant(X)\n",
    "model = sm.OLS(y,X)\n",
    "results = model.fit()\n",
    "print(results.summary())"
   ]
  },
  {
   "cell_type": "code",
   "execution_count": 26,
   "metadata": {},
   "outputs": [
    {
     "data": {
      "text/plain": [
       "Index(['Sales', 'Price', 'Feature', 'Display', 'Price - Competitor 1',\n",
       "       'Price - Competitor 2', 'Price - Competitor 3', 'Price - Competitor 4',\n",
       "       'Price - Competitor 5', 'price_feature', 'price_display',\n",
       "       'feature_display'],\n",
       "      dtype='object')"
      ]
     },
     "execution_count": 26,
     "metadata": {},
     "output_type": "execute_result"
    }
   ],
   "source": [
    "mmm_train.columns"
   ]
  },
  {
   "cell_type": "code",
   "execution_count": 27,
   "metadata": {},
   "outputs": [
    {
     "name": "stdout",
     "output_type": "stream",
     "text": [
      "                            OLS Regression Results                            \n",
      "==============================================================================\n",
      "Dep. Variable:                  Sales   R-squared:                       0.634\n",
      "Model:                            OLS   Adj. R-squared:                  0.633\n",
      "Method:                 Least Squares   F-statistic:                     698.3\n",
      "Date:                Tue, 21 Jan 2020   Prob (F-statistic):               0.00\n",
      "Time:                        03:45:25   Log-Likelihood:                -17580.\n",
      "No. Observations:                3238   AIC:                         3.518e+04\n",
      "Df Residuals:                    3229   BIC:                         3.523e+04\n",
      "Df Model:                           8                                         \n",
      "Covariance Type:            nonrobust                                         \n",
      "========================================================================================\n",
      "                           coef    std err          t      P>|t|      [0.025      0.975]\n",
      "----------------------------------------------------------------------------------------\n",
      "const                  129.3764     16.387      7.895      0.000      97.246     161.506\n",
      "Price                  -25.5746      2.347    -10.894      0.000     -30.177     -20.972\n",
      "Feature                350.6123     30.986     11.315      0.000     289.858     411.366\n",
      "Display                602.3904     34.373     17.525      0.000     534.995     669.786\n",
      "Price - Competitor 1     9.5326      1.883      5.063      0.000       5.841      13.224\n",
      "Price - Competitor 4     7.3742      1.502      4.909      0.000       4.429      10.320\n",
      "price_feature          -58.0674      5.862     -9.906      0.000     -69.561     -46.574\n",
      "price_display         -100.6750      6.281    -16.029      0.000    -112.990     -88.360\n",
      "feature_display         37.2012      7.043      5.282      0.000      23.391      51.011\n",
      "==============================================================================\n",
      "Omnibus:                     1889.465   Durbin-Watson:                   1.749\n",
      "Prob(Omnibus):                  0.000   Jarque-Bera (JB):            49301.144\n",
      "Skew:                           2.278   Prob(JB):                         0.00\n",
      "Kurtosis:                      21.565   Cond. No.                         341.\n",
      "==============================================================================\n",
      "\n",
      "Warnings:\n",
      "[1] Standard Errors assume that the covariance matrix of the errors is correctly specified.\n"
     ]
    }
   ],
   "source": [
    "cols = ['Price', 'Feature', 'Display', 'Price - Competitor 1', 'Price - Competitor 4', 'price_feature', 'price_display', 'feature_display']\n",
    "X = mmm_train[cols]\n",
    "y = mmm_train.iloc[:,0]\n",
    "\n",
    "X = sm.add_constant(X)\n",
    "model = sm.OLS(y,X)\n",
    "results = model.fit()\n",
    "print(results.summary())"
   ]
  },
  {
   "cell_type": "code",
   "execution_count": 28,
   "metadata": {},
   "outputs": [
    {
     "data": {
      "text/plain": [
       "Index(['Sales', 'Price', 'Feature', 'Display', 'Price - Competitor 1',\n",
       "       'Price - Competitor 2', 'Price - Competitor 3', 'Price - Competitor 4',\n",
       "       'Price - Competitor 5', 'price_feature', 'price_display',\n",
       "       'feature_display'],\n",
       "      dtype='object')"
      ]
     },
     "execution_count": 28,
     "metadata": {},
     "output_type": "execute_result"
    }
   ],
   "source": [
    "mmm_train.columns"
   ]
  },
  {
   "cell_type": "code",
   "execution_count": 29,
   "metadata": {},
   "outputs": [
    {
     "data": {
      "text/plain": [
       "LinearRegression(copy_X=True, fit_intercept=True, n_jobs=None,\n",
       "         normalize=False)"
      ]
     },
     "execution_count": 29,
     "metadata": {},
     "output_type": "execute_result"
    }
   ],
   "source": [
    "cols = ['Price', 'Feature', 'Display', 'Price - Competitor 1', 'Price - Competitor 4', 'price_feature', 'price_display', 'feature_display']\n",
    "\n",
    "X_train = mmm_train[cols]\n",
    "y_train = mmm_train.iloc[:,0]\n",
    "\n",
    "mmm_test['price_feature'] = mmm_test['Price'] * mmm_test['Feature']\n",
    "mmm_test['price_display'] = mmm_test['Price'] * mmm_test['Display']\n",
    "mmm_test['feature_display'] = mmm_test['Feature'] * mmm_test['Display']\n",
    "\n",
    "X_test = mmm_test[cols]\n",
    "y_test = mmm_test.iloc[:,0]\n",
    "\n",
    "reg = LinearRegression()\n",
    "reg.fit(X_train,y_train)"
   ]
  },
  {
   "cell_type": "code",
   "execution_count": 30,
   "metadata": {},
   "outputs": [
    {
     "name": "stdout",
     "output_type": "stream",
     "text": [
      "Intercept: 129.37641888034534\n",
      "Coefficients:\n",
      " [ -25.57457303  350.61234618  602.39040329    9.5325958     7.37422018\n",
      "  -58.06740785 -100.67497341   37.20120769]\n"
     ]
    }
   ],
   "source": [
    "print('Intercept:',reg.intercept_)\n",
    "print('Coefficients:\\n',reg.coef_)"
   ]
  },
  {
   "cell_type": "code",
   "execution_count": 31,
   "metadata": {},
   "outputs": [
    {
     "data": {
      "text/html": [
       "<div>\n",
       "<style scoped>\n",
       "    .dataframe tbody tr th:only-of-type {\n",
       "        vertical-align: middle;\n",
       "    }\n",
       "\n",
       "    .dataframe tbody tr th {\n",
       "        vertical-align: top;\n",
       "    }\n",
       "\n",
       "    .dataframe thead th {\n",
       "        text-align: right;\n",
       "    }\n",
       "</style>\n",
       "<table border=\"1\" class=\"dataframe\">\n",
       "  <thead>\n",
       "    <tr style=\"text-align: right;\">\n",
       "      <th></th>\n",
       "      <th>Coefficient</th>\n",
       "    </tr>\n",
       "  </thead>\n",
       "  <tbody>\n",
       "    <tr>\n",
       "      <td>Price</td>\n",
       "      <td>-25.574573</td>\n",
       "    </tr>\n",
       "    <tr>\n",
       "      <td>Feature</td>\n",
       "      <td>350.612346</td>\n",
       "    </tr>\n",
       "    <tr>\n",
       "      <td>Display</td>\n",
       "      <td>602.390403</td>\n",
       "    </tr>\n",
       "    <tr>\n",
       "      <td>Price - Competitor 1</td>\n",
       "      <td>9.532596</td>\n",
       "    </tr>\n",
       "    <tr>\n",
       "      <td>Price - Competitor 4</td>\n",
       "      <td>7.374220</td>\n",
       "    </tr>\n",
       "    <tr>\n",
       "      <td>price_feature</td>\n",
       "      <td>-58.067408</td>\n",
       "    </tr>\n",
       "    <tr>\n",
       "      <td>price_display</td>\n",
       "      <td>-100.674973</td>\n",
       "    </tr>\n",
       "    <tr>\n",
       "      <td>feature_display</td>\n",
       "      <td>37.201208</td>\n",
       "    </tr>\n",
       "  </tbody>\n",
       "</table>\n",
       "</div>"
      ],
      "text/plain": [
       "                      Coefficient\n",
       "Price                  -25.574573\n",
       "Feature                350.612346\n",
       "Display                602.390403\n",
       "Price - Competitor 1     9.532596\n",
       "Price - Competitor 4     7.374220\n",
       "price_feature          -58.067408\n",
       "price_display         -100.674973\n",
       "feature_display         37.201208"
      ]
     },
     "execution_count": 31,
     "metadata": {},
     "output_type": "execute_result"
    }
   ],
   "source": [
    "coeff_df = pd.DataFrame(reg.coef_, X_train.columns, columns=['Coefficient'])  \n",
    "coeff_df"
   ]
  },
  {
   "cell_type": "code",
   "execution_count": 32,
   "metadata": {},
   "outputs": [
    {
     "name": "stdout",
     "output_type": "stream",
     "text": [
      "Mean Absolute Error: 32.65683249263292\n",
      "Mean Squared Error: 2241.160864219334\n",
      "Root Mean Squared Error: 47.34090054296954\n",
      "Explained variance: 0.6075455288952469\n",
      "R squared: 0.6065853943764267\n"
     ]
    }
   ],
   "source": [
    "y_pred = reg.predict(X_test)\n",
    "\n",
    "print('Mean Absolute Error:', metrics.mean_absolute_error(y_test, y_pred))  \n",
    "print('Mean Squared Error:', metrics.mean_squared_error(y_test, y_pred))  \n",
    "print('Root Mean Squared Error:', np.sqrt(metrics.mean_squared_error(y_test, y_pred)))\n",
    "print('Explained variance:',metrics.explained_variance_score(y_test, y_pred))\n",
    "print('R squared:',metrics.r2_score(y_test, y_pred))"
   ]
  }
 ],
 "metadata": {
  "kernelspec": {
   "display_name": "Python 3",
   "language": "python",
   "name": "python3"
  },
  "language_info": {
   "codemirror_mode": {
    "name": "ipython",
    "version": 3
   },
   "file_extension": ".py",
   "mimetype": "text/x-python",
   "name": "python",
   "nbconvert_exporter": "python",
   "pygments_lexer": "ipython3",
   "version": "3.7.3"
  }
 },
 "nbformat": 4,
 "nbformat_minor": 4
}
